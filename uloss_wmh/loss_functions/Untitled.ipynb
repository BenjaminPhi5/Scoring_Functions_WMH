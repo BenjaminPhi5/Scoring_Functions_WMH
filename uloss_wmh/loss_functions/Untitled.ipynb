{
 "cells": [
  {
   "cell_type": "code",
   "execution_count": 1,
   "id": "0cc735e5-f464-48e5-b591-baae609d4cf3",
   "metadata": {
    "tags": []
   },
   "outputs": [],
   "source": [
    "import pandas as pd\n",
    "import numpy as np"
   ]
  },
  {
   "cell_type": "code",
   "execution_count": 3,
   "id": "fb310fc8-c2c3-4785-ab3f-8905fecc5cd7",
   "metadata": {
    "tags": []
   },
   "outputs": [],
   "source": [
    "data = {\"x\":np.random.randn(10), \"y\":np.random.randn(10), \"values\":[1,1,2,2,3,3,4,4,5,5]}"
   ]
  },
  {
   "cell_type": "code",
   "execution_count": 4,
   "id": "f7b9e08d-cbe6-492f-af3f-20f80ffb2aae",
   "metadata": {
    "tags": []
   },
   "outputs": [],
   "source": [
    "df = pd.DataFrame(data)"
   ]
  },
  {
   "cell_type": "code",
   "execution_count": 5,
   "id": "b80cab08-7aac-4e38-badc-5e3ff4b04a27",
   "metadata": {
    "tags": []
   },
   "outputs": [
    {
     "data": {
      "text/html": [
       "<div>\n",
       "<style scoped>\n",
       "    .dataframe tbody tr th:only-of-type {\n",
       "        vertical-align: middle;\n",
       "    }\n",
       "\n",
       "    .dataframe tbody tr th {\n",
       "        vertical-align: top;\n",
       "    }\n",
       "\n",
       "    .dataframe thead th {\n",
       "        text-align: right;\n",
       "    }\n",
       "</style>\n",
       "<table border=\"1\" class=\"dataframe\">\n",
       "  <thead>\n",
       "    <tr style=\"text-align: right;\">\n",
       "      <th></th>\n",
       "      <th>x</th>\n",
       "      <th>y</th>\n",
       "      <th>values</th>\n",
       "    </tr>\n",
       "  </thead>\n",
       "  <tbody>\n",
       "    <tr>\n",
       "      <th>0</th>\n",
       "      <td>0.086407</td>\n",
       "      <td>1.035410</td>\n",
       "      <td>1</td>\n",
       "    </tr>\n",
       "    <tr>\n",
       "      <th>1</th>\n",
       "      <td>-1.414773</td>\n",
       "      <td>1.415566</td>\n",
       "      <td>1</td>\n",
       "    </tr>\n",
       "    <tr>\n",
       "      <th>2</th>\n",
       "      <td>0.750165</td>\n",
       "      <td>0.143831</td>\n",
       "      <td>2</td>\n",
       "    </tr>\n",
       "    <tr>\n",
       "      <th>3</th>\n",
       "      <td>0.126430</td>\n",
       "      <td>0.015483</td>\n",
       "      <td>2</td>\n",
       "    </tr>\n",
       "    <tr>\n",
       "      <th>4</th>\n",
       "      <td>-0.312779</td>\n",
       "      <td>1.626497</td>\n",
       "      <td>3</td>\n",
       "    </tr>\n",
       "    <tr>\n",
       "      <th>5</th>\n",
       "      <td>-1.060493</td>\n",
       "      <td>0.056935</td>\n",
       "      <td>3</td>\n",
       "    </tr>\n",
       "    <tr>\n",
       "      <th>6</th>\n",
       "      <td>0.636196</td>\n",
       "      <td>1.345945</td>\n",
       "      <td>4</td>\n",
       "    </tr>\n",
       "    <tr>\n",
       "      <th>7</th>\n",
       "      <td>-1.383807</td>\n",
       "      <td>-0.401065</td>\n",
       "      <td>4</td>\n",
       "    </tr>\n",
       "    <tr>\n",
       "      <th>8</th>\n",
       "      <td>0.483825</td>\n",
       "      <td>-0.686364</td>\n",
       "      <td>5</td>\n",
       "    </tr>\n",
       "    <tr>\n",
       "      <th>9</th>\n",
       "      <td>0.327340</td>\n",
       "      <td>1.147816</td>\n",
       "      <td>5</td>\n",
       "    </tr>\n",
       "  </tbody>\n",
       "</table>\n",
       "</div>"
      ],
      "text/plain": [
       "          x         y  values\n",
       "0  0.086407  1.035410       1\n",
       "1 -1.414773  1.415566       1\n",
       "2  0.750165  0.143831       2\n",
       "3  0.126430  0.015483       2\n",
       "4 -0.312779  1.626497       3\n",
       "5 -1.060493  0.056935       3\n",
       "6  0.636196  1.345945       4\n",
       "7 -1.383807 -0.401065       4\n",
       "8  0.483825 -0.686364       5\n",
       "9  0.327340  1.147816       5"
      ]
     },
     "execution_count": 5,
     "metadata": {},
     "output_type": "execute_result"
    }
   ],
   "source": [
    "df"
   ]
  },
  {
   "cell_type": "code",
   "execution_count": 46,
   "id": "44612bd2-d7d6-4ff9-8098-5d283a35cc4d",
   "metadata": {
    "tags": []
   },
   "outputs": [],
   "source": [
    "xs = df['x'].values[0:4]\n",
    "ys = df['y'].values[0:4]\n",
    "coords = np.stack([xs, ys])"
   ]
  },
  {
   "cell_type": "code",
   "execution_count": 52,
   "id": "4c670d2e-2af4-4087-9d03-52d86b304b1c",
   "metadata": {
    "tags": []
   },
   "outputs": [
    {
     "data": {
      "text/plain": [
       "(2, 4)"
      ]
     },
     "execution_count": 52,
     "metadata": {},
     "output_type": "execute_result"
    }
   ],
   "source": [
    "coords.shape"
   ]
  },
  {
   "cell_type": "code",
   "execution_count": 59,
   "id": "94593108-48a6-4120-94b0-4449302ed437",
   "metadata": {
    "tags": []
   },
   "outputs": [
    {
     "data": {
      "text/plain": [
       "array([ 0.08640731, -1.41477307,  0.75016536,  0.12643045])"
      ]
     },
     "execution_count": 59,
     "metadata": {},
     "output_type": "execute_result"
    }
   ],
   "source": [
    "xs"
   ]
  },
  {
   "cell_type": "code",
   "execution_count": 71,
   "id": "63354532-39f8-4025-93b1-23b575378c59",
   "metadata": {
    "tags": []
   },
   "outputs": [
    {
     "name": "stdout",
     "output_type": "stream",
     "text": [
      "[1 0 3 2]\n",
      "[1 0 2 3]\n"
     ]
    }
   ],
   "source": [
    "\n",
    "order = np.argsort(xs)\n",
    "print(order)\n",
    "tmp = order[-1]\n",
    "order[-1] = order[-2]\n",
    "order[-2] = tmp\n",
    "print(order)"
   ]
  },
  {
   "cell_type": "code",
   "execution_count": 6,
   "id": "bb36d73d-7ac2-4eed-a971-cc1d39b66bfc",
   "metadata": {
    "tags": []
   },
   "outputs": [
    {
     "data": {
      "text/plain": [
       "array([1, 1, 2, 2, 3, 3, 4, 4, 5, 5])"
      ]
     },
     "execution_count": 6,
     "metadata": {},
     "output_type": "execute_result"
    }
   ],
   "source": [
    "df['values'].values"
   ]
  },
  {
   "cell_type": "code",
   "execution_count": 8,
   "id": "72323ebf-2f12-4acb-8493-b52cc50f494d",
   "metadata": {
    "tags": []
   },
   "outputs": [
    {
     "data": {
      "text/html": [
       "<div>\n",
       "<style scoped>\n",
       "    .dataframe tbody tr th:only-of-type {\n",
       "        vertical-align: middle;\n",
       "    }\n",
       "\n",
       "    .dataframe tbody tr th {\n",
       "        vertical-align: top;\n",
       "    }\n",
       "\n",
       "    .dataframe thead th {\n",
       "        text-align: right;\n",
       "    }\n",
       "</style>\n",
       "<table border=\"1\" class=\"dataframe\">\n",
       "  <thead>\n",
       "    <tr style=\"text-align: right;\">\n",
       "      <th></th>\n",
       "      <th>x</th>\n",
       "      <th>y</th>\n",
       "      <th>values</th>\n",
       "    </tr>\n",
       "  </thead>\n",
       "  <tbody>\n",
       "    <tr>\n",
       "      <th>0</th>\n",
       "      <td>0.086407</td>\n",
       "      <td>1.035410</td>\n",
       "      <td>1</td>\n",
       "    </tr>\n",
       "    <tr>\n",
       "      <th>1</th>\n",
       "      <td>-1.414773</td>\n",
       "      <td>1.415566</td>\n",
       "      <td>1</td>\n",
       "    </tr>\n",
       "  </tbody>\n",
       "</table>\n",
       "</div>"
      ],
      "text/plain": [
       "          x         y  values\n",
       "0  0.086407  1.035410       1\n",
       "1 -1.414773  1.415566       1"
      ]
     },
     "execution_count": 8,
     "metadata": {},
     "output_type": "execute_result"
    }
   ],
   "source": [
    "df.loc[df['values']==1]"
   ]
  },
  {
   "cell_type": "code",
   "execution_count": 7,
   "id": "add99456-0320-4d52-aed4-624a7c4e1e04",
   "metadata": {
    "tags": []
   },
   "outputs": [
    {
     "data": {
      "text/plain": [
       "array([1, 2, 3, 4, 5])"
      ]
     },
     "execution_count": 7,
     "metadata": {},
     "output_type": "execute_result"
    }
   ],
   "source": [
    "np.unique(df['values'].values)"
   ]
  },
  {
   "cell_type": "code",
   "execution_count": 14,
   "id": "a4383b47-1a11-4080-8387-695e8bcb3fa4",
   "metadata": {
    "tags": []
   },
   "outputs": [
    {
     "name": "stdout",
     "output_type": "stream",
     "text": [
      "{'type': 'Feature', 'geometry': {'type': 'Polygon', 'coordinates': [[[0.08640730668109275, 1.0354102448979745], [-1.4147730743792366, 1.4155656740492766]]]}, 'properties': {'id': 'roi_1'}}\n",
      "{'type': 'Feature', 'geometry': {'type': 'Polygon', 'coordinates': [[[0.7501653643926642, 0.1438314685158929], [0.1264304541668935, 0.015482766652620397]]]}, 'properties': {'id': 'roi_1'}}\n",
      "{'type': 'Feature', 'geometry': {'type': 'Polygon', 'coordinates': [[[-0.31277900757659804, 1.6264974523688789], [-1.060492987374343, 0.056935060327278866]]]}, 'properties': {'id': 'roi_1'}}\n",
      "{'type': 'Feature', 'geometry': {'type': 'Polygon', 'coordinates': [[[0.6361960629073234, 1.345944601874529], [-1.383806506742293, -0.40106477961991305]]]}, 'properties': {'id': 'roi_1'}}\n",
      "{'type': 'Feature', 'geometry': {'type': 'Polygon', 'coordinates': [[[0.483825469844522, -0.6863640557458588], [0.3273399618733337, 1.147815504835722]]]}, 'properties': {'id': 'roi_1'}}\n"
     ]
    }
   ],
   "source": [
    "for value_id in np.unique(df['values'].values):\n",
    "    pixels = df.loc[df['values'] == value_id]\n",
    "    xs = pixels['x'].values\n",
    "    ys = pixels['y'].values\n",
    "    coords = [[xi, yi] for (xi, yi) in zip(xs, ys)]\n",
    "    \n",
    "    features = {\n",
    "      \"type\": \"Feature\",  \n",
    "      \"geometry\": {\n",
    "        \"type\": \"Polygon\",\n",
    "        \"coordinates\": [\n",
    "          coords\n",
    "        ]\n",
    "      },\n",
    "      \"properties\": {\n",
    "        \"id\": \"roi_1\"  \n",
    "      }\n",
    "    }\n",
    "    print(features)\n",
    "    \n",
    "    "
   ]
  },
  {
   "cell_type": "code",
   "execution_count": 26,
   "id": "5d8b8bd4-dd72-4425-b2ab-fcb68e70b26b",
   "metadata": {
    "tags": []
   },
   "outputs": [
    {
     "name": "stdout",
     "output_type": "stream",
     "text": [
      "Collecting geojson\n",
      "  Downloading geojson-3.0.1-py3-none-any.whl (15 kB)\n",
      "Installing collected packages: geojson\n",
      "Successfully installed geojson-3.0.1\n"
     ]
    }
   ],
   "source": [
    "! pip install geojson"
   ]
  },
  {
   "cell_type": "code",
   "execution_count": null,
   "id": "e9dcf820-c08c-435e-a31b-9edf4454beb5",
   "metadata": {},
   "outputs": [],
   "source": []
  },
  {
   "cell_type": "code",
   "execution_count": null,
   "id": "8640daee-1a41-4eea-bf26-7e900b063855",
   "metadata": {},
   "outputs": [],
   "source": []
  },
  {
   "cell_type": "code",
   "execution_count": null,
   "id": "796217f9-a992-4e39-8210-9faeaad1f21c",
   "metadata": {},
   "outputs": [],
   "source": []
  },
  {
   "cell_type": "code",
   "execution_count": 88,
   "id": "8065ed4d-1417-4be8-b45f-2f54272ff01f",
   "metadata": {
    "tags": []
   },
   "outputs": [
    {
     "name": "stdout",
     "output_type": "stream",
     "text": [
      "Index(['x', 'y', 'values'], dtype='object')\n"
     ]
    }
   ],
   "source": [
    "import pandas as pd\n",
    "import json\n",
    "from geojson import GeoJSON\n",
    "\n",
    "\n",
    "def convert_csv_to_geojson(input_file, output_file):\n",
    "\n",
    "    # Read the CSV data into a pandas DataFrame\n",
    "\n",
    "    cols = ['x', 'y', 'values'] \n",
    "    df = pd.read_csv(input_file, names=cols)\n",
    "    \n",
    "    print(df.keys())\n",
    "\n",
    "    # Create a GeoJSON object\n",
    "\n",
    "    geojson = {\n",
    "\n",
    "        'type': 'FeatureCollection',\n",
    "\n",
    "        'features': []\n",
    "\n",
    "    }\n",
    "\n",
    "    # Loop through each row in the DataFrame and convert to a GeoJSON feature\n",
    "\n",
    "    for value_id in np.unique(df['values'].values):\n",
    "\n",
    "        pixels = df.loc[df['values'] == value_id]\n",
    "\n",
    "        xs = pixels['x'].values\n",
    "\n",
    "        ys = pixels['y'].values\n",
    "        \n",
    "        order = np.argsort(xs)\n",
    "        tmp = order[-1]\n",
    "        order[-1] = order[-2]\n",
    "        order[-2] = tmp\n",
    "        # print(order)\n",
    "        \n",
    "        xs = xs[order]\n",
    "        ys = ys[order]\n",
    "\n",
    "        coords = [[int(xi), int(yi)] for (xi, yi) in zip(np.append(xs, np.array(xs[0])), np.append(ys, np.array(ys[0])))] \n",
    "\n",
    "        properties = {\n",
    "\n",
    "        'name': str(value_id),\n",
    "\n",
    "        'description': \"a pixel\"\n",
    "\n",
    "        }\n",
    "\n",
    "        features = {\n",
    "\n",
    "        \"type\": \"Feature\",  \n",
    "        \"id\": f\"roi_{value_id}\",\n",
    "        \"originalObjectId\": str(value_id),\n",
    "        \"otherProperty\": str(value_id),\n",
    "        \"name\": str(value_id),\n",
    "\n",
    "        \"geometry\": {\n",
    "\n",
    "        \"type\": \"Polygon\",\n",
    "\n",
    "        \"coordinates\": [\n",
    "\n",
    "        coords\n",
    "\n",
    "        ]\n",
    "\n",
    "        },\n",
    "\n",
    "        \"properties\": {\n",
    "            \"objectType\": \"annotation\",\n",
    "            \"originalObjectId\": str(value_id),\n",
    "            \"otherProperty\": str(value_id),\n",
    "            \"name\": str(value_id),\n",
    "        }\n",
    "\n",
    "            }\n",
    "\n",
    "        #print(features)\n",
    "\n",
    "        geojson['features'].append(features)\n",
    "    \n",
    "    with open(output_file, \"w\") as geojson_file:\n",
    "        json.dump(geojson, geojson_file, indent=2)\n",
    "    \n",
    "\n",
    "    # with open(output_file, 'w') as outfile:\n",
    "    #     GeoJSON.dump(geojson,output_file)\n",
    "\n",
    "\n",
    "# Example usage\n",
    "\n",
    "input_file = '~/Downloads/new_csv_file.csv'\n",
    "\n",
    "output_file = 'output.geojson'\n",
    "\n",
    "convert_csv_to_geojson(input_file, output_file)\n"
   ]
  },
  {
   "cell_type": "code",
   "execution_count": null,
   "id": "e4919abf-248a-437a-83cb-e962ca0e2326",
   "metadata": {},
   "outputs": [],
   "source": []
  }
 ],
 "metadata": {
  "kernelspec": {
   "display_name": "Python 3 (ipykernel)",
   "language": "python",
   "name": "python3"
  },
  "language_info": {
   "codemirror_mode": {
    "name": "ipython",
    "version": 3
   },
   "file_extension": ".py",
   "mimetype": "text/x-python",
   "name": "python",
   "nbconvert_exporter": "python",
   "pygments_lexer": "ipython3",
   "version": "3.10.11"
  }
 },
 "nbformat": 4,
 "nbformat_minor": 5
}
