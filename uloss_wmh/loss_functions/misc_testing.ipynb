{
 "cells": [
  {
   "cell_type": "code",
   "execution_count": 18,
   "id": "f8a3c3d7-f720-4f1d-9fe8-926d18ad2065",
   "metadata": {
    "tags": []
   },
   "outputs": [],
   "source": [
    "import torch\n",
    "import matplotlib.pyplot as plt"
   ]
  },
  {
   "cell_type": "code",
   "execution_count": 5,
   "id": "e72d0b42-9a84-4f1f-9df8-c404220d2ae1",
   "metadata": {
    "tags": []
   },
   "outputs": [
    {
     "data": {
      "text/plain": [
       "tensor([2, 3, 4])"
      ]
     },
     "execution_count": 5,
     "metadata": {},
     "output_type": "execute_result"
    }
   ],
   "source": [
    "torch.arange(2, 5, 1).unique()"
   ]
  },
  {
   "cell_type": "code",
   "execution_count": 150,
   "id": "68593cfd-ae7f-47d2-ae68-e8ce8e306871",
   "metadata": {
    "tags": []
   },
   "outputs": [],
   "source": [
    "sigma_map = torch.randn(1, 2, 100, 100)\n",
    "sigma_b = sigma_map[0]\n",
    "instance_labels = torch.zeros((3, 100, 100), dtype=torch.long)\n",
    "instance_labels[0, 50:60, 50:60] = 1\n",
    "instance_labels[1, 20:40, 12:39] = 1\n",
    "instance_labels[2, 79:82, 80:95] = 1\n",
    "#instance_labels = instance_labels.type(torch.int)"
   ]
  },
  {
   "cell_type": "code",
   "execution_count": 151,
   "id": "8f355277-c830-4a83-985e-9d18a146306e",
   "metadata": {
    "tags": []
   },
   "outputs": [],
   "source": [
    "s1 = (sigma_b[:,50:60, 50:60] - sigma_b[:,50:60, 50:60].mean(dim=(1,2,)).unsqueeze(-1).unsqueeze(-1)).pow(2).sum(dim=0).mean()"
   ]
  },
  {
   "cell_type": "code",
   "execution_count": 152,
   "id": "f7ff57b7-dddc-4479-807f-a13057315ae7",
   "metadata": {
    "tags": []
   },
   "outputs": [],
   "source": [
    "s2 = (sigma_b[:,20:40, 12:39] - sigma_b[:,20:40, 12:39].mean(dim=(1,2,)).unsqueeze(-1).unsqueeze(-1)).pow(2).sum(dim=0).mean()"
   ]
  },
  {
   "cell_type": "code",
   "execution_count": 153,
   "id": "1e46a237-dc20-486c-b096-92009aaad5a3",
   "metadata": {
    "tags": []
   },
   "outputs": [],
   "source": [
    "s3 = (sigma_b[:,79:82, 80:95] - sigma_b[:,79:82, 80:95].mean(dim=(1,2,)).unsqueeze(-1).unsqueeze(-1)).pow(2).sum(dim=0).mean()"
   ]
  },
  {
   "cell_type": "code",
   "execution_count": 231,
   "id": "92a8e16d-7cc0-42a0-90af-0cafaea17990",
   "metadata": {
    "tags": []
   },
   "outputs": [
    {
     "data": {
      "text/plain": [
       "tensor(5.9851)"
      ]
     },
     "execution_count": 231,
     "metadata": {},
     "output_type": "execute_result"
    }
   ],
   "source": [
    "(s1 + s2 + s3)"
   ]
  },
  {
   "cell_type": "code",
   "execution_count": 155,
   "id": "a4977aac-7faa-4fc7-a898-4e70769f1460",
   "metadata": {
    "tags": []
   },
   "outputs": [
    {
     "data": {
      "text/plain": [
       "torch.Size([2, 100, 100])"
      ]
     },
     "execution_count": 155,
     "metadata": {},
     "output_type": "execute_result"
    }
   ],
   "source": [
    "sigma_b.shape"
   ]
  },
  {
   "cell_type": "code",
   "execution_count": 241,
   "id": "2bb4c86a-925d-470b-a402-460a706d24a4",
   "metadata": {
    "tags": []
   },
   "outputs": [],
   "source": [
    "s = sigma_b.view(2, -1)\n",
    "ils = instance_labels.view(3, -1)\n",
    "\n",
    "mean_ss = torch.zeros(3, 2)\n",
    "\n",
    "for i in range(3):\n",
    "    mean_ss[i] = s[:, ils[i]==1].mean(dim=1)"
   ]
  },
  {
   "cell_type": "code",
   "execution_count": 245,
   "id": "06c54eaf-f7b8-4138-9047-aaadaf3de4ab",
   "metadata": {
    "tags": []
   },
   "outputs": [
    {
     "data": {
      "text/plain": [
       "torch.Size([3, 2])"
      ]
     },
     "execution_count": 245,
     "metadata": {},
     "output_type": "execute_result"
    }
   ],
   "source": [
    "mean_ss.shape"
   ]
  },
  {
   "cell_type": "code",
   "execution_count": 229,
   "id": "0a123adf-5808-4203-a8d0-4959560f318f",
   "metadata": {
    "tags": []
   },
   "outputs": [],
   "source": [
    "l = 0\n",
    "for i in range(3):\n",
    "    l += (s[:,ils[i]==1] - mean_ss[i].unsqueeze(-1)).pow(2).sum(dim=0).mean()"
   ]
  },
  {
   "cell_type": "code",
   "execution_count": 230,
   "id": "151527df-b27b-486e-9f34-b3a97f9a6af3",
   "metadata": {
    "tags": []
   },
   "outputs": [
    {
     "data": {
      "text/plain": [
       "tensor(5.9851)"
      ]
     },
     "execution_count": 230,
     "metadata": {},
     "output_type": "execute_result"
    }
   ],
   "source": [
    "l"
   ]
  },
  {
   "cell_type": "code",
   "execution_count": 184,
   "id": "a161377a-c641-4ba2-b9b2-8783ea42cd1f",
   "metadata": {
    "tags": []
   },
   "outputs": [
    {
     "data": {
      "text/plain": [
       "torch.Size([3])"
      ]
     },
     "execution_count": 184,
     "metadata": {},
     "output_type": "execute_result"
    }
   ],
   "source": [
    "mean_ss[0].shape"
   ]
  },
  {
   "cell_type": "code",
   "execution_count": 232,
   "id": "1f7c499c-3754-454c-accf-9a7542e8a1c0",
   "metadata": {
    "tags": []
   },
   "outputs": [],
   "source": [
    "def sigma_means_and_smooth_loss(sigma_map, instance_labels):\n",
    "    \"\"\"\n",
    "    sigma_map: [1, <dims>] or [S, <dims>]\n",
    "    instance_labels: [I, <dims>]\n",
    "    \"\"\"\n",
    "    \n",
    "    I = instance_labels.shape[0]\n",
    "    S = sigma_map.shape[0]\n",
    "    device = sigma_map.device\n",
    "    sigma_means = torch.zeros((I, S), device=device)\n",
    "    \n",
    "    smooth_loss = 0\n",
    "    \n",
    "    sigma_map = sigma_map.view(S, -1)\n",
    "    instance_labels = instance_labels.view(I, -1)\n",
    "    \n",
    "    for i in range(I):\n",
    "        s_at_i = sigma_map[:, instance_labels[i]==1]\n",
    "        sigma_mean = s_at_i.mean(dim=1)\n",
    "        smooth_loss += (s_at_i - sigma_mean.unsqueeze(-1)).pow(2).sum(dim=0).mean() # sum over number of S dims, mean over\n",
    "        # number of pixels in the instance\n",
    "        \n",
    "        sigma_means[i] = sigma_mean\n",
    "        \n",
    "    return sigma_means, smooth_loss\n",
    "        "
   ]
  },
  {
   "cell_type": "code",
   "execution_count": 233,
   "id": "25ce767c-8acf-4827-9b87-a84bd58bc4b0",
   "metadata": {
    "tags": []
   },
   "outputs": [
    {
     "data": {
      "text/plain": [
       "(tensor([[-0.1038, -0.2355],\n",
       "         [ 0.0538,  0.0062],\n",
       "         [ 0.2467, -0.0073]]),\n",
       " tensor(5.9851))"
      ]
     },
     "execution_count": 233,
     "metadata": {},
     "output_type": "execute_result"
    }
   ],
   "source": [
    "sigma_means_and_smooth_loss(sigma_b, instance_labels)"
   ]
  },
  {
   "cell_type": "code",
   "execution_count": 199,
   "id": "00dac10d-8dd3-498d-b117-2d9b7f46b426",
   "metadata": {
    "tags": []
   },
   "outputs": [],
   "source": [
    "positions = torch.stack(\n",
    "            torch.meshgrid(\n",
    "                *[torch.arange(0, sdi, 1) for sdi in (192, 168)],\n",
    "                indexing='ij'\n",
    "            )\n",
    "        ).type(torch.float32)"
   ]
  },
  {
   "cell_type": "code",
   "execution_count": 201,
   "id": "46aa99d7-c40f-42b9-8a3d-b656b1ee83e6",
   "metadata": {
    "tags": []
   },
   "outputs": [
    {
     "data": {
      "text/plain": [
       "torch.Size([2, 192, 168])"
      ]
     },
     "execution_count": 201,
     "metadata": {},
     "output_type": "execute_result"
    }
   ],
   "source": [
    "positions.shape"
   ]
  },
  {
   "cell_type": "code",
   "execution_count": 204,
   "id": "e861b5a5-a2f4-4019-ac7a-f4551285336a",
   "metadata": {
    "tags": []
   },
   "outputs": [
    {
     "data": {
      "text/plain": [
       "tensor([[[  0.,   0.,   0.,  ...,   0.,   0.,   0.],\n",
       "         [  2.,   2.,   2.,  ...,   2.,   2.,   2.],\n",
       "         [  4.,   4.,   4.,  ...,   4.,   4.,   4.],\n",
       "         ...,\n",
       "         [378., 378., 378.,  ..., 378., 378., 378.],\n",
       "         [380., 380., 380.,  ..., 380., 380., 380.],\n",
       "         [382., 382., 382.,  ..., 382., 382., 382.]],\n",
       "\n",
       "        [[  0.,   3.,   6.,  ..., 495., 498., 501.],\n",
       "         [  0.,   3.,   6.,  ..., 495., 498., 501.],\n",
       "         [  0.,   3.,   6.,  ..., 495., 498., 501.],\n",
       "         ...,\n",
       "         [  0.,   3.,   6.,  ..., 495., 498., 501.],\n",
       "         [  0.,   3.,   6.,  ..., 495., 498., 501.],\n",
       "         [  0.,   3.,   6.,  ..., 495., 498., 501.]]])"
      ]
     },
     "execution_count": 204,
     "metadata": {},
     "output_type": "execute_result"
    }
   ],
   "source": [
    "positions * torch.Tensor([2, 3]).unsqueeze(-1).unsqueeze(-1)"
   ]
  },
  {
   "cell_type": "code",
   "execution_count": 195,
   "id": "38b0dc11-a790-475c-a8d2-affc1e8d0b79",
   "metadata": {
    "tags": []
   },
   "outputs": [],
   "source": [
    "full_embedding = torch.zeros(4, 192, 168)"
   ]
  },
  {
   "cell_type": "code",
   "execution_count": 196,
   "id": "e0a67ee5-afca-48ab-8ab8-82bb6abf943f",
   "metadata": {
    "tags": []
   },
   "outputs": [],
   "source": [
    "full_embedding[0:2] = positions"
   ]
  },
  {
   "cell_type": "code",
   "execution_count": 197,
   "id": "b83c3153-339f-4e08-b8d3-eea80584aef5",
   "metadata": {
    "tags": []
   },
   "outputs": [
    {
     "data": {
      "text/plain": [
       "tensor([[[  0.,   0.,   0.,  ...,   0.,   0.,   0.],\n",
       "         [  1.,   1.,   1.,  ...,   1.,   1.,   1.],\n",
       "         [  2.,   2.,   2.,  ...,   2.,   2.,   2.],\n",
       "         ...,\n",
       "         [189., 189., 189.,  ..., 189., 189., 189.],\n",
       "         [190., 190., 190.,  ..., 190., 190., 190.],\n",
       "         [191., 191., 191.,  ..., 191., 191., 191.]],\n",
       "\n",
       "        [[  0.,   1.,   2.,  ..., 165., 166., 167.],\n",
       "         [  0.,   1.,   2.,  ..., 165., 166., 167.],\n",
       "         [  0.,   1.,   2.,  ..., 165., 166., 167.],\n",
       "         ...,\n",
       "         [  0.,   1.,   2.,  ..., 165., 166., 167.],\n",
       "         [  0.,   1.,   2.,  ..., 165., 166., 167.],\n",
       "         [  0.,   1.,   2.,  ..., 165., 166., 167.]],\n",
       "\n",
       "        [[  0.,   0.,   0.,  ...,   0.,   0.,   0.],\n",
       "         [  0.,   0.,   0.,  ...,   0.,   0.,   0.],\n",
       "         [  0.,   0.,   0.,  ...,   0.,   0.,   0.],\n",
       "         ...,\n",
       "         [  0.,   0.,   0.,  ...,   0.,   0.,   0.],\n",
       "         [  0.,   0.,   0.,  ...,   0.,   0.,   0.],\n",
       "         [  0.,   0.,   0.,  ...,   0.,   0.,   0.]],\n",
       "\n",
       "        [[  0.,   0.,   0.,  ...,   0.,   0.,   0.],\n",
       "         [  0.,   0.,   0.,  ...,   0.,   0.,   0.],\n",
       "         [  0.,   0.,   0.,  ...,   0.,   0.,   0.],\n",
       "         ...,\n",
       "         [  0.,   0.,   0.,  ...,   0.,   0.,   0.],\n",
       "         [  0.,   0.,   0.,  ...,   0.,   0.,   0.],\n",
       "         [  0.,   0.,   0.,  ...,   0.,   0.,   0.]]])"
      ]
     },
     "execution_count": 197,
     "metadata": {},
     "output_type": "execute_result"
    }
   ],
   "source": [
    "full_embedding"
   ]
  },
  {
   "cell_type": "code",
   "execution_count": 246,
   "id": "fd8e1587-1626-4fca-8caf-7c53bc707657",
   "metadata": {
    "tags": []
   },
   "outputs": [
    {
     "data": {
      "text/plain": [
       "(torch.Size([3, 2]), torch.Size([3, 100, 100]))"
      ]
     },
     "execution_count": 246,
     "metadata": {},
     "output_type": "execute_result"
    }
   ],
   "source": [
    "S = 2\n",
    "I = instance_labels.shape[0]\n",
    "embeddings = torch.randn(S, 100, 100)\n",
    "sigma_means = mean_ss\n",
    "sigma_means.shape, instance_labels.shape"
   ]
  },
  {
   "cell_type": "code",
   "execution_count": 247,
   "id": "0423e0c7-84fb-4594-9d1d-2cded3cd5ff5",
   "metadata": {
    "tags": []
   },
   "outputs": [],
   "source": [
    "e = embeddings.view(S, -1)\n",
    "e = e.expand(I, S, e.shape[-1])"
   ]
  },
  {
   "cell_type": "code",
   "execution_count": 299,
   "id": "cb66f7e2-6189-4c28-b184-c82a90ea9e65",
   "metadata": {
    "tags": []
   },
   "outputs": [],
   "source": [
    "phi = (-(e - sigma_means.unsqueeze(-1)).pow(2)/sigma_means.pow(2).unsqueeze(-1)).sum(dim=1).exp() + 1"
   ]
  },
  {
   "cell_type": "code",
   "execution_count": 300,
   "id": "02903ff7-8d9f-4743-abcc-a7e83b6dc614",
   "metadata": {
    "tags": []
   },
   "outputs": [
    {
     "data": {
      "text/plain": [
       "tensor(1.)"
      ]
     },
     "execution_count": 300,
     "metadata": {},
     "output_type": "execute_result"
    }
   ],
   "source": [
    "phi.min()"
   ]
  },
  {
   "cell_type": "code",
   "execution_count": 254,
   "id": "3f6a8b01-df95-4634-8c10-987a9343cb3d",
   "metadata": {
    "tags": []
   },
   "outputs": [
    {
     "data": {
      "text/plain": [
       "(torch.Size([3, 2, 10000]), torch.Size([3, 10000]))"
      ]
     },
     "execution_count": 254,
     "metadata": {},
     "output_type": "execute_result"
    }
   ],
   "source": [
    "e.shape, phi.shape"
   ]
  },
  {
   "cell_type": "code",
   "execution_count": 256,
   "id": "7fc47468-2f59-408f-b0ef-e3d63508ffcc",
   "metadata": {
    "tags": []
   },
   "outputs": [],
   "source": [
    "from monai.losses import DiceLoss"
   ]
  },
  {
   "cell_type": "code",
   "execution_count": 263,
   "id": "85e91be0-8c70-4188-bd3b-8fcc3c2c7c46",
   "metadata": {
    "tags": []
   },
   "outputs": [],
   "source": [
    "loss = DiceLoss(sigmoid=True, reduction='sum')"
   ]
  },
  {
   "cell_type": "code",
   "execution_count": 265,
   "id": "b97c59ab-67f1-4848-922c-d0c555b85bf6",
   "metadata": {
    "tags": []
   },
   "outputs": [
    {
     "data": {
      "text/plain": [
       "tensor(2.8741)"
      ]
     },
     "execution_count": 265,
     "metadata": {},
     "output_type": "execute_result"
    }
   ],
   "source": [
    "loss(phi.unsqueeze(1), instance_labels.view(I, 1, -1))"
   ]
  },
  {
   "cell_type": "code",
   "execution_count": 308,
   "id": "26da9db1-4ee8-4293-bb30-be5c37d88d55",
   "metadata": {
    "tags": []
   },
   "outputs": [
    {
     "data": {
      "text/plain": [
       "torch.Size([3, 10000])"
      ]
     },
     "execution_count": 308,
     "metadata": {},
     "output_type": "execute_result"
    }
   ],
   "source": [
    "phi.shape"
   ]
  },
  {
   "cell_type": "code",
   "execution_count": 266,
   "id": "c755ceeb-a007-4ac8-8a2e-5ab1ff7eb0cf",
   "metadata": {
    "tags": []
   },
   "outputs": [
    {
     "data": {
      "text/plain": [
       "torch.Size([3, 100, 100])"
      ]
     },
     "execution_count": 266,
     "metadata": {},
     "output_type": "execute_result"
    }
   ],
   "source": [
    "instance_labels.shape"
   ]
  },
  {
   "cell_type": "code",
   "execution_count": 309,
   "id": "89c85145-1313-4b6e-9a72-bed3adec108c",
   "metadata": {
    "tags": []
   },
   "outputs": [],
   "source": [
    "seed_mask = (phi * instance_labels.view(I, -1)).sum(dim=0)"
   ]
  },
  {
   "cell_type": "code",
   "execution_count": 310,
   "id": "59375abc-7aee-4d55-a76f-502578db841c",
   "metadata": {
    "tags": []
   },
   "outputs": [
    {
     "data": {
      "text/plain": [
       "tensor(9315)"
      ]
     },
     "execution_count": 310,
     "metadata": {},
     "output_type": "execute_result"
    }
   ],
   "source": [
    "(seed_mask == 0).sum()"
   ]
  },
  {
   "cell_type": "code",
   "execution_count": 279,
   "id": "ca7528d1-eabf-4cdf-a360-bf708a5e8b32",
   "metadata": {
    "tags": []
   },
   "outputs": [
    {
     "data": {
      "text/plain": [
       "tensor(29315)"
      ]
     },
     "execution_count": 279,
     "metadata": {},
     "output_type": "execute_result"
    }
   ],
   "source": [
    "(instance_labels==0).sum()"
   ]
  },
  {
   "cell_type": "code",
   "execution_count": 280,
   "id": "a887123a-e340-44b1-b006-92c011b5adbf",
   "metadata": {
    "tags": []
   },
   "outputs": [
    {
     "data": {
      "text/plain": [
       "tensor([0, 1])"
      ]
     },
     "execution_count": 280,
     "metadata": {},
     "output_type": "execute_result"
    }
   ],
   "source": [
    "instance_labels.unique()"
   ]
  },
  {
   "cell_type": "code",
   "execution_count": 281,
   "id": "2880e920-f305-41c3-a373-23be1a285c0e",
   "metadata": {
    "tags": []
   },
   "outputs": [
    {
     "data": {
      "text/plain": [
       "torch.Size([3, 100, 100])"
      ]
     },
     "execution_count": 281,
     "metadata": {},
     "output_type": "execute_result"
    }
   ],
   "source": [
    "instance_labels.shape"
   ]
  },
  {
   "cell_type": "code",
   "execution_count": 306,
   "id": "a3ab046b-7966-4124-acf3-06eab16892a6",
   "metadata": {
    "tags": []
   },
   "outputs": [
    {
     "data": {
      "text/plain": [
       "tensor(9315)"
      ]
     },
     "execution_count": 306,
     "metadata": {},
     "output_type": "execute_result"
    }
   ],
   "source": [
    "(instance_labels.sum(0)==0).sum()"
   ]
  },
  {
   "cell_type": "code",
   "execution_count": 303,
   "id": "90ac2374-1b96-40f3-a83b-28b329547341",
   "metadata": {
    "tags": []
   },
   "outputs": [
    {
     "data": {
      "text/plain": [
       "tensor(0)"
      ]
     },
     "execution_count": 303,
     "metadata": {},
     "output_type": "execute_result"
    }
   ],
   "source": [
    "(phi == 0).sum()"
   ]
  },
  {
   "cell_type": "code",
   "execution_count": 293,
   "id": "ac4f099f-821c-4663-ad56-30a830f03f11",
   "metadata": {
    "tags": []
   },
   "outputs": [
    {
     "data": {
      "text/plain": [
       "torch.Size([2, 10000])"
      ]
     },
     "execution_count": 293,
     "metadata": {},
     "output_type": "execute_result"
    }
   ],
   "source": [
    "seed_mask.shape"
   ]
  },
  {
   "cell_type": "code",
   "execution_count": 307,
   "id": "93c0f480-8377-43ca-85ab-34b7c4c8169c",
   "metadata": {
    "tags": []
   },
   "outputs": [
    {
     "data": {
      "text/plain": [
       "torch.Size([3, 100, 100])"
      ]
     },
     "execution_count": 307,
     "metadata": {},
     "output_type": "execute_result"
    }
   ],
   "source": [
    "instance_labels.shape"
   ]
  },
  {
   "cell_type": "code",
   "execution_count": null,
   "id": "fb58d3a4-4637-4521-8e73-dd523b933e8c",
   "metadata": {},
   "outputs": [],
   "source": [
    "a = torch.randn(*instance_labels.shape)"
   ]
  }
 ],
 "metadata": {
  "kernelspec": {
   "display_name": "Python 3 (ipykernel)",
   "language": "python",
   "name": "python3"
  },
  "language_info": {
   "codemirror_mode": {
    "name": "ipython",
    "version": 3
   },
   "file_extension": ".py",
   "mimetype": "text/x-python",
   "name": "python",
   "nbconvert_exporter": "python",
   "pygments_lexer": "ipython3",
   "version": "3.10.11"
  }
 },
 "nbformat": 4,
 "nbformat_minor": 5
}
