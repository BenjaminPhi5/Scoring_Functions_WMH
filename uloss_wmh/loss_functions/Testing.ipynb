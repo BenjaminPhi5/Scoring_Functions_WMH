{
 "cells": [
  {
   "cell_type": "markdown",
   "id": "13aef1d2-3b31-4933-a0b3-032ffa34b450",
   "metadata": {},
   "source": [
    "### Testing"
   ]
  },
  {
   "cell_type": "code",
   "execution_count": 1,
   "id": "ab9f193c-033d-4bac-bfde-dfb0892af6de",
   "metadata": {},
   "outputs": [],
   "source": [
    "import torch\n",
    "import numpy as np\n",
    "import matplotlib.pyplot as plt"
   ]
  },
  {
   "cell_type": "code",
   "execution_count": 2,
   "id": "2b8cd5e4-50ca-49dc-ade4-51a3b4fbdbd1",
   "metadata": {},
   "outputs": [],
   "source": [
    "z = torch.randn(2, 3, 4)"
   ]
  },
  {
   "cell_type": "code",
   "execution_count": 3,
   "id": "63105c65-4d2c-4eb9-a8dc-44fd70e96391",
   "metadata": {},
   "outputs": [
    {
     "data": {
      "text/plain": [
       "torch.Size([2, 4])"
      ]
     },
     "execution_count": 3,
     "metadata": {},
     "output_type": "execute_result"
    }
   ],
   "source": [
    "z.sum(dim=(1,)).shape"
   ]
  },
  {
   "cell_type": "code",
   "execution_count": 4,
   "id": "59c75b7a-f222-4617-95c2-c7eb1870cf77",
   "metadata": {},
   "outputs": [
    {
     "data": {
      "text/plain": [
       "3"
      ]
     },
     "execution_count": 4,
     "metadata": {},
     "output_type": "execute_result"
    }
   ],
   "source": [
    "len(z.shape)"
   ]
  },
  {
   "cell_type": "code",
   "execution_count": 5,
   "id": "14184be4-e2e3-4d09-82b1-01b40df7d03a",
   "metadata": {},
   "outputs": [
    {
     "data": {
      "text/plain": [
       "[2]"
      ]
     },
     "execution_count": 5,
     "metadata": {},
     "output_type": "execute_result"
    }
   ],
   "source": [
    "[i for i in range(2, len(z.shape))]"
   ]
  },
  {
   "cell_type": "code",
   "execution_count": 6,
   "id": "6def413c-1f57-4c75-9108-e4b1ea450927",
   "metadata": {},
   "outputs": [
    {
     "data": {
      "text/plain": [
       "tensor([[[ 0.3403, -0.0996,  0.8317,  0.0292],\n",
       "         [ 0.2502,  0.5125,  0.2854,  0.1968],\n",
       "         [-1.0844, -0.1888, -0.3405, -0.6832]],\n",
       "\n",
       "        [[-0.1299, -0.6610,  1.0111, -0.4988],\n",
       "         [-0.3281, -0.0127, -0.4559, -1.0405],\n",
       "         [ 0.3418,  0.6893,  0.8568,  0.3378]]])"
      ]
     },
     "execution_count": 6,
     "metadata": {},
     "output_type": "execute_result"
    }
   ],
   "source": [
    "z"
   ]
  },
  {
   "cell_type": "code",
   "execution_count": 7,
   "id": "b0554344-9be5-4ba4-a4e7-bafc1580757b",
   "metadata": {},
   "outputs": [
    {
     "data": {
      "text/plain": [
       "tensor([-1.,  0.,  1.])"
      ]
     },
     "execution_count": 7,
     "metadata": {},
     "output_type": "execute_result"
    }
   ],
   "source": [
    "torch.round(z).unique()"
   ]
  },
  {
   "cell_type": "code",
   "execution_count": 8,
   "id": "b911e677-634b-4f9b-8e52-71ac69bdbd81",
   "metadata": {},
   "outputs": [
    {
     "data": {
      "text/plain": [
       "array([-2, -1, -2, -1])"
      ]
     },
     "execution_count": 8,
     "metadata": {},
     "output_type": "execute_result"
    }
   ],
   "source": [
    "~np.array([1,0,1,0])"
   ]
  },
  {
   "cell_type": "code",
   "execution_count": 9,
   "id": "846efa51-45ed-4eba-b88b-57752c7b2a75",
   "metadata": {},
   "outputs": [
    {
     "data": {
      "text/plain": [
       "tensor([False,  True, False,  True])"
      ]
     },
     "execution_count": 9,
     "metadata": {},
     "output_type": "execute_result"
    }
   ],
   "source": [
    "~torch.Tensor([1,0,1,0]).type(torch.bool)"
   ]
  },
  {
   "cell_type": "code",
   "execution_count": 10,
   "id": "19fd6a67-dfc0-44fe-9abb-2fbdb7612960",
   "metadata": {},
   "outputs": [
    {
     "data": {
      "text/plain": [
       "<function torch._VariableFunctionsClass.logical_not>"
      ]
     },
     "execution_count": 10,
     "metadata": {},
     "output_type": "execute_result"
    }
   ],
   "source": [
    "torch.logical_not"
   ]
  },
  {
   "cell_type": "code",
   "execution_count": 11,
   "id": "ded123e7-68c7-48d0-870f-deee97d97304",
   "metadata": {},
   "outputs": [
    {
     "name": "stderr",
     "output_type": "stream",
     "text": [
      "/home/benp/anaconda3/envs/loss/lib/python3.9/site-packages/torch/functional.py:504: UserWarning: torch.meshgrid: in an upcoming release, it will be required to pass the indexing argument. (Triggered internally at ../aten/src/ATen/native/TensorShape.cpp:3483.)\n",
      "  return _VF.meshgrid(tensors, **kwargs)  # type: ignore[attr-defined]\n"
     ]
    }
   ],
   "source": [
    "result = torch.meshgrid(torch.arange(0,5,1), torch.arange(0,6,1), torch.arange(0,7,1))"
   ]
  },
  {
   "cell_type": "code",
   "execution_count": 12,
   "id": "ee25a151-b283-4be4-9df8-8d6edc1f9e6a",
   "metadata": {},
   "outputs": [
    {
     "data": {
      "text/plain": [
       "torch.Size([3, 5, 6, 7])"
      ]
     },
     "execution_count": 12,
     "metadata": {},
     "output_type": "execute_result"
    }
   ],
   "source": [
    "torch.stack(result).shape"
   ]
  },
  {
   "cell_type": "code",
   "execution_count": 13,
   "id": "4595a01e-43ce-449a-9d8b-2975d3038b1c",
   "metadata": {},
   "outputs": [],
   "source": [
    "a = torch.randn(2, 2, 3)\n",
    "b = torch.randn(2,3)"
   ]
  },
  {
   "cell_type": "code",
   "execution_count": 14,
   "id": "2bc9efc4-fa4d-4e04-a274-d6ebceab41d9",
   "metadata": {},
   "outputs": [
    {
     "data": {
      "text/plain": [
       "torch.Size([2, 2, 3])"
      ]
     },
     "execution_count": 14,
     "metadata": {},
     "output_type": "execute_result"
    }
   ],
   "source": [
    "(a + b).shape"
   ]
  },
  {
   "cell_type": "code",
   "execution_count": 15,
   "id": "1f28cf6b-4a08-4980-b36e-1ebfe8527ec0",
   "metadata": {},
   "outputs": [
    {
     "data": {
      "text/plain": [
       "tensor([[ 0.2520, -0.1863, -0.2478],\n",
       "        [ 1.2881, -0.2275,  0.2608]])"
      ]
     },
     "execution_count": 15,
     "metadata": {},
     "output_type": "execute_result"
    }
   ],
   "source": [
    "a[1] + b"
   ]
  },
  {
   "cell_type": "code",
   "execution_count": 16,
   "id": "cae3b842-4c78-4cc2-9898-3aabdc009352",
   "metadata": {},
   "outputs": [
    {
     "data": {
      "text/plain": [
       "tensor([[ 0.2520, -0.1863, -0.2478],\n",
       "        [ 1.2881, -0.2275,  0.2608]])"
      ]
     },
     "execution_count": 16,
     "metadata": {},
     "output_type": "execute_result"
    }
   ],
   "source": [
    "(a+b)[1]"
   ]
  },
  {
   "cell_type": "code",
   "execution_count": 17,
   "id": "c079b0b5-fafb-4a88-a838-51d87d7295da",
   "metadata": {},
   "outputs": [],
   "source": [
    "spatial_dims = [25, 25, 25]\n",
    "grid = torch.stack(\n",
    "            torch.meshgrid(\n",
    "                *[torch.arange(0, sdi, 1) for sdi in spatial_dims],\n",
    "                indexing='ij'\n",
    "            )\n",
    "        )"
   ]
  },
  {
   "cell_type": "code",
   "execution_count": 18,
   "id": "f0544a31-9e2c-4ab4-8ab1-8c2fbc69e504",
   "metadata": {},
   "outputs": [
    {
     "data": {
      "text/plain": [
       "torch.Size([15625, 3])"
      ]
     },
     "execution_count": 18,
     "metadata": {},
     "output_type": "execute_result"
    }
   ],
   "source": [
    "torch.cartesian_prod(*[torch.arange(0, sdi, 1) for sdi in spatial_dims]).shape"
   ]
  },
  {
   "cell_type": "code",
   "execution_count": 19,
   "id": "23489840-a554-4f6c-957d-a63cc65f19ee",
   "metadata": {},
   "outputs": [
    {
     "data": {
      "text/plain": [
       "torch.Size([3, 25, 25, 25])"
      ]
     },
     "execution_count": 19,
     "metadata": {},
     "output_type": "execute_result"
    }
   ],
   "source": [
    "grid.shape"
   ]
  },
  {
   "cell_type": "code",
   "execution_count": 20,
   "id": "d525ffcb-0a43-4ecb-bda5-f0770ac35a0e",
   "metadata": {},
   "outputs": [],
   "source": [
    "example_mask = torch.zeros(spatial_dims)"
   ]
  },
  {
   "cell_type": "code",
   "execution_count": 21,
   "id": "a93b1bb5-6fe7-422f-8bfe-426b71c421e9",
   "metadata": {},
   "outputs": [],
   "source": [
    "example_mask[10:15+1, 7:10+1, 20:22+1] = 1"
   ]
  },
  {
   "cell_type": "code",
   "execution_count": 22,
   "id": "8b413f81-4904-4e49-8b4c-c92417700c16",
   "metadata": {},
   "outputs": [
    {
     "data": {
      "text/plain": [
       "tensor([12.5000,  8.5000, 21.0000])"
      ]
     },
     "execution_count": 22,
     "metadata": {},
     "output_type": "execute_result"
    }
   ],
   "source": [
    "grid[:,example_mask.type(torch.bool)].type(torch.float32).mean(dim=1)"
   ]
  },
  {
   "cell_type": "code",
   "execution_count": 24,
   "id": "17076797-ea67-4f13-b82a-05651b2f16f5",
   "metadata": {},
   "outputs": [
    {
     "data": {
      "text/plain": [
       "tensor(625.)"
      ]
     },
     "execution_count": 24,
     "metadata": {},
     "output_type": "execute_result"
    }
   ],
   "source": [
    "torch.Tensor([*grid.shape[2:]]).prod()"
   ]
  },
  {
   "cell_type": "code",
   "execution_count": 25,
   "id": "fd7110e6-11a1-49cc-ad31-b9a51b257821",
   "metadata": {},
   "outputs": [],
   "source": [
    "z = torch.randn((10,10)) * 10"
   ]
  },
  {
   "cell_type": "code",
   "execution_count": 26,
   "id": "eb05d3a7-083a-482f-bfbc-34b4eb99c0ef",
   "metadata": {},
   "outputs": [
    {
     "data": {
      "text/plain": [
       "tensor([[ 0.9974, -0.9997, -1.0000, -1.0000,  1.0000, -1.0000,  1.0000, -1.0000,\n",
       "         -1.0000,  1.0000],\n",
       "        [ 1.0000, -1.0000, -0.9934, -0.9955, -1.0000, -1.0000,  1.0000, -1.0000,\n",
       "          1.0000,  0.9995],\n",
       "        [-1.0000, -0.9991, -1.0000,  1.0000,  1.0000, -0.9838,  1.0000, -0.8277,\n",
       "          1.0000, -1.0000],\n",
       "        [ 1.0000, -0.9999, -1.0000,  0.6091, -1.0000,  0.5371, -0.9785, -0.9924,\n",
       "          1.0000,  0.9636],\n",
       "        [-1.0000,  1.0000, -1.0000,  1.0000, -1.0000, -1.0000, -0.9899, -0.9999,\n",
       "          0.1476,  1.0000],\n",
       "        [ 0.4363, -0.6139, -1.0000, -0.8547,  1.0000, -0.9998, -1.0000, -1.0000,\n",
       "          1.0000,  1.0000],\n",
       "        [-0.9053,  1.0000, -0.9999,  1.0000, -1.0000, -1.0000,  1.0000,  1.0000,\n",
       "         -1.0000, -0.9853],\n",
       "        [-0.9997,  0.9998,  1.0000, -1.0000, -1.0000,  1.0000, -0.8853, -1.0000,\n",
       "         -1.0000, -0.0730],\n",
       "        [-1.0000, -0.9996,  1.0000, -1.0000, -1.0000, -1.0000, -0.9013, -0.9918,\n",
       "          1.0000, -1.0000],\n",
       "        [-0.9950,  0.9065,  0.9966,  1.0000,  0.9995, -1.0000, -1.0000,  0.9926,\n",
       "          0.8901, -1.0000]])"
      ]
     },
     "execution_count": 26,
     "metadata": {},
     "output_type": "execute_result"
    }
   ],
   "source": [
    "z.tanh()"
   ]
  },
  {
   "cell_type": "code",
   "execution_count": null,
   "id": "0bb5cfe5-827a-491b-b4e8-e321262558d4",
   "metadata": {},
   "outputs": [],
   "source": []
  }
 ],
 "metadata": {
  "kernelspec": {
   "display_name": "Python 3 (ipykernel)",
   "language": "python",
   "name": "python3"
  },
  "language_info": {
   "codemirror_mode": {
    "name": "ipython",
    "version": 3
   },
   "file_extension": ".py",
   "mimetype": "text/x-python",
   "name": "python",
   "nbconvert_exporter": "python",
   "pygments_lexer": "ipython3",
   "version": "3.9.16"
  }
 },
 "nbformat": 4,
 "nbformat_minor": 5
}
