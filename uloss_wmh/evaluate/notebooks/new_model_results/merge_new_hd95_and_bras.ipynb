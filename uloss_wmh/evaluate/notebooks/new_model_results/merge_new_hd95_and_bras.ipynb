{
 "cells": [
  {
   "cell_type": "code",
   "execution_count": 1,
   "id": "84397b2e-9f8a-48bd-9f11-e670195d34b8",
   "metadata": {
    "tags": []
   },
   "outputs": [],
   "source": [
    "import os\n",
    "import numpy as np\n"
   ]
  },
  {
   "cell_type": "code",
   "execution_count": 2,
   "id": "dd96a86d-460f-48df-b9c1-89752be9bfd4",
   "metadata": {
    "tags": []
   },
   "outputs": [],
   "source": [
    "folders = os.listdir('.')"
   ]
  },
  {
   "cell_type": "code",
   "execution_count": 4,
   "id": "20765b51-e869-4a46-b9a5-b5ab5d2bfd73",
   "metadata": {
    "tags": []
   },
   "outputs": [],
   "source": [
    "# selected_data_files = ['dice_1/data.txt','dice_2/data.txt','dice_3/data.txt',]"
   ]
  },
  {
   "cell_type": "code",
   "execution_count": 5,
   "id": "d8da1c53-f7d5-4885-829e-004d6d8d77cd",
   "metadata": {},
   "outputs": [],
   "source": [
    "def read_data(file):\n",
    "    with open(file) as f:\n",
    "        lines = f.readlines()\n",
    "        #print(lines)\n",
    "        lines = [float(l.split(\": \")[-1][:-1]) for l in lines[0:9]]\n",
    "    return np.array(lines)"
   ]
  },
  {
   "cell_type": "code",
   "execution_count": 22,
   "id": "53e75b1e-9f40-426d-aaf5-98198c939b28",
   "metadata": {
    "tags": []
   },
   "outputs": [
    {
     "name": "stdout",
     "output_type": "stream",
     "text": [
      "brier_power2: 0.6888\n",
      "spherical_alpha2: 0.6883\n",
      "xent_e: 0.6817\n",
      "brier_topk10: 0.6954\n",
      "spherical_topk1_: 0.6829\n",
      "xent_topk10: 0.685\n",
      "dice_standard: 0.5601\n",
      "dice_plusplus_gamma3: 0.6838\n",
      "dice_temp_scaled: 0.6274\n"
     ]
    }
   ],
   "source": [
    "loss_names = [\"brier_power2\", \"spherical_alpha2\", \"xent_e\", \"brier_topk10\", \"spherical_topk1_\", \"xent_topk10\", \"dice_standard\", \"dice_plusplus_gamma3\", \"dice_temp_scaled\"]\n",
    "for loss_name in loss_names:\n",
    "\n",
    "    selected_data_files = [f\"{f}/new_bras.txt\" for f in folders if loss_name in f]\n",
    "\n",
    "    arrays = [read_data(f) for f in selected_data_files]\n",
    "    arrays = np.array(arrays)\n",
    "    result = arrays.mean(axis=0)\n",
    "\n",
    "    print(f\"{loss_name}: {result[0]:.4}\")"
   ]
  },
  {
   "cell_type": "code",
   "execution_count": 21,
   "id": "bd678785-8651-4b9e-8a40-3639fcd42565",
   "metadata": {
    "tags": []
   },
   "outputs": [
    {
     "name": "stdout",
     "output_type": "stream",
     "text": [
      "brier_power2: 6.97\n",
      "spherical_alpha2: 6.53\n",
      "xent_e: 6.19\n",
      "brier_topk10: 6.43\n",
      "spherical_topk1_: 6.37\n",
      "xent_topk10: 6.06\n",
      "dice_standard: 8.61\n",
      "dice_plusplus_gamma3: 6.6\n"
     ]
    }
   ],
   "source": [
    "loss_names_no_temp = [\"brier_power2\", \"spherical_alpha2\", \"xent_e\", \"brier_topk10\", \"spherical_topk1_\", \"xent_topk10\", \"dice_standard\", \"dice_plusplus_gamma3\"]\n",
    "\n",
    "for loss_name in loss_names_no_temp:\n",
    "\n",
    "    selected_data_files = [f\"{f}/new_hd95.txt\" for f in folders if loss_name in f]\n",
    "\n",
    "    arrays = [read_data(f) for f in selected_data_files]\n",
    "    arrays = np.array(arrays)\n",
    "    result = arrays.mean(axis=0)\n",
    "\n",
    "    print(f\"{loss_name}: {result[0]:.3}\")"
   ]
  },
  {
   "cell_type": "code",
   "execution_count": 7,
   "id": "d7295227-ba4f-40d4-985e-5b703d8eeaeb",
   "metadata": {
    "tags": []
   },
   "outputs": [],
   "source": []
  },
  {
   "cell_type": "code",
   "execution_count": 8,
   "id": "b1a75535-94db-4a44-b8ed-c1a14a7c883c",
   "metadata": {
    "tags": []
   },
   "outputs": [],
   "source": []
  },
  {
   "cell_type": "code",
   "execution_count": 9,
   "id": "fc7a4c76-d5e9-4b64-9404-58dee956d345",
   "metadata": {
    "tags": []
   },
   "outputs": [
    {
     "data": {
      "text/plain": [
       "array([[0.68307547],\n",
       "       [0.68407398],\n",
       "       [0.68794593]])"
      ]
     },
     "execution_count": 9,
     "metadata": {},
     "output_type": "execute_result"
    }
   ],
   "source": [
    "arrays"
   ]
  },
  {
   "cell_type": "code",
   "execution_count": 10,
   "id": "00be4dd9-9df7-43cf-8466-1e829949d7f1",
   "metadata": {},
   "outputs": [
    {
     "data": {
      "text/plain": [
       "array([0.68503179])"
      ]
     },
     "execution_count": 10,
     "metadata": {},
     "output_type": "execute_result"
    }
   ],
   "source": []
  },
  {
   "cell_type": "code",
   "execution_count": null,
   "id": "9fe63f9a-b82f-4c96-8a15-7e8f32d7b042",
   "metadata": {},
   "outputs": [],
   "source": []
  }
 ],
 "metadata": {
  "kernelspec": {
   "display_name": "Python 3 (ipykernel)",
   "language": "python",
   "name": "python3"
  },
  "language_info": {
   "codemirror_mode": {
    "name": "ipython",
    "version": 3
   },
   "file_extension": ".py",
   "mimetype": "text/x-python",
   "name": "python",
   "nbconvert_exporter": "python",
   "pygments_lexer": "ipython3",
   "version": "3.10.11"
  }
 },
 "nbformat": 4,
 "nbformat_minor": 5
}
