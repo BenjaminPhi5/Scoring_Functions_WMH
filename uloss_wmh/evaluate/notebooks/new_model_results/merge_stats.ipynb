{
 "cells": [
  {
   "cell_type": "code",
   "execution_count": 1,
   "id": "84397b2e-9f8a-48bd-9f11-e670195d34b8",
   "metadata": {
    "tags": []
   },
   "outputs": [],
   "source": [
    "import os\n",
    "import numpy as np\n"
   ]
  },
  {
   "cell_type": "code",
   "execution_count": 2,
   "id": "dd96a86d-460f-48df-b9c1-89752be9bfd4",
   "metadata": {
    "tags": []
   },
   "outputs": [],
   "source": [
    "folders = os.listdir('.')"
   ]
  },
  {
   "cell_type": "code",
   "execution_count": 3,
   "id": "53e75b1e-9f40-426d-aaf5-98198c939b28",
   "metadata": {
    "tags": []
   },
   "outputs": [],
   "source": [
    "loss_name = \"xent_topk10\"\n",
    "selected_data_files = [f\"{f}/data.txt\" for f in folders if loss_name in f]"
   ]
  },
  {
   "cell_type": "code",
   "execution_count": 4,
   "id": "20765b51-e869-4a46-b9a5-b5ab5d2bfd73",
   "metadata": {
    "tags": []
   },
   "outputs": [],
   "source": [
    "# selected_data_files = ['dice_1/data.txt','dice_2/data.txt','dice_3/data.txt',]"
   ]
  },
  {
   "cell_type": "code",
   "execution_count": 5,
   "id": "d8da1c53-f7d5-4885-829e-004d6d8d77cd",
   "metadata": {},
   "outputs": [],
   "source": [
    "def read_data(file):\n",
    "    with open(file) as f:\n",
    "        lines = f.readlines()\n",
    "        #print(lines)\n",
    "        lines = [float(l.split(\": \")[-1][:-1]) for l in lines[0:9]]\n",
    "    return np.array(lines)"
   ]
  },
  {
   "cell_type": "code",
   "execution_count": 6,
   "id": "bd678785-8651-4b9e-8a40-3639fcd42565",
   "metadata": {
    "tags": []
   },
   "outputs": [],
   "source": [
    "arrays = [read_data(f) for f in selected_data_files]"
   ]
  },
  {
   "cell_type": "code",
   "execution_count": 7,
   "id": "d7295227-ba4f-40d4-985e-5b703d8eeaeb",
   "metadata": {
    "tags": []
   },
   "outputs": [],
   "source": [
    "arrays = np.array(arrays)"
   ]
  },
  {
   "cell_type": "code",
   "execution_count": 8,
   "id": "b1a75535-94db-4a44-b8ed-c1a14a7c883c",
   "metadata": {
    "tags": []
   },
   "outputs": [],
   "source": [
    "result = arrays.mean(axis=0)"
   ]
  },
  {
   "cell_type": "code",
   "execution_count": 9,
   "id": "fc7a4c76-d5e9-4b64-9404-58dee956d345",
   "metadata": {
    "tags": []
   },
   "outputs": [
    {
     "data": {
      "text/plain": [
       "array([[ 0.90840695,  0.07237049,  0.75999999,  0.73000002, 19.26000023,\n",
       "         3.91000009,  0.70999998,  0.43545383,  0.10968057],\n",
       "       [ 0.9155796 ,  0.08244647,  0.75999999,  0.72000003, 20.54000092,\n",
       "         4.01000023,  0.69      ,  0.43759945,  0.11228813],\n",
       "       [ 0.91243755,  0.08158587,  0.75999999,  0.70999998, 19.96999931,\n",
       "         3.86999989,  0.73000002,  0.43335965,  0.09485006]])"
      ]
     },
     "execution_count": 9,
     "metadata": {},
     "output_type": "execute_result"
    }
   ],
   "source": [
    "arrays"
   ]
  },
  {
   "cell_type": "code",
   "execution_count": 10,
   "id": "524a954b-55ed-40cb-b2cf-579c36a7e1f3",
   "metadata": {
    "tags": []
   },
   "outputs": [
    {
     "name": "stdout",
     "output_type": "stream",
     "text": [
      "0.912    0.079    0.760    0.720    19.9    3.93    0.710    0.435    0.106\n"
     ]
    }
   ],
   "source": [
    "# the new CE topk 10...\n",
    "print(f\"{result[0]:.3f}    {result[1]:.3f}    {result[2]:.3f}    {result[3]:.3f}    {result[4]:.1f}    {result[5]:.2f}    {result[6]:.3f}    {result[7]:.3f}    {result[8]:.3f}\")"
   ]
  },
  {
   "cell_type": "code",
   "execution_count": 55,
   "id": "156629b5-11ca-4162-bb5a-bbfd5cbcf5ac",
   "metadata": {
    "tags": []
   },
   "outputs": [
    {
     "name": "stdout",
     "output_type": "stream",
     "text": [
      "0.994    0.236    0.717    0.627    35.9    5.72    0.597    0.150    0.275\n"
     ]
    }
   ],
   "source": [
    "# the new dice\n",
    "print(f\"{result[0]:.3f}    {result[1]:.3f}    {result[2]:.3f}    {result[3]:.3f}    {result[4]:.1f}    {result[5]:.2f}    {result[6]:.3f}    {result[7]:.3f}    {result[8]:.3f}\")"
   ]
  },
  {
   "cell_type": "code",
   "execution_count": 63,
   "id": "e89f68e8-b5e4-4d54-a343-90e72c69271b",
   "metadata": {
    "tags": []
   },
   "outputs": [
    {
     "name": "stdout",
     "output_type": "stream",
     "text": [
      "0.509    0.092    0.717    0.627    35.9    5.72    0.597    0.233    0.241\n"
     ]
    }
   ],
   "source": [
    "# the new temp dice\n",
    "print(f\"{result[0]:.3f}    {result[1]:.3f}    {result[2]:.3f}    {result[3]:.3f}    {result[4]:.1f}    {result[5]:.2f}    {result[6]:.3f}    {result[7]:.3f}    {result[8]:.3f}\")"
   ]
  },
  {
   "cell_type": "code",
   "execution_count": 47,
   "id": "4b4d5ae4-fcbf-43af-bc8d-bf0fdeac564f",
   "metadata": {
    "tags": []
   },
   "outputs": [
    {
     "name": "stdout",
     "output_type": "stream",
     "text": [
      "0.907    0.083    0.760    0.713    20.9    4.06    0.707    0.430    0.108\n"
     ]
    }
   ],
   "source": [
    "# the new brier topk 10\n",
    "print(f\"{result[0]:.3f}    {result[1]:.3f}    {result[2]:.3f}    {result[3]:.3f}    {result[4]:.1f}    {result[5]:.2f}    {result[6]:.3f}    {result[7]:.3f}    {result[8]:.3f}\")"
   ]
  },
  {
   "cell_type": "code",
   "execution_count": 30,
   "id": "b26e756e-c2be-445d-90de-cfed54f18e16",
   "metadata": {
    "tags": []
   },
   "outputs": [
    {
     "name": "stdout",
     "output_type": "stream",
     "text": [
      "0.900    0.076    0.760    0.700    20.3    4.20    0.673    0.433    0.124\n"
     ]
    }
   ],
   "source": [
    "# the new spherical\n",
    "print(f\"{result[0]:.3f}    {result[1]:.3f}    {result[2]:.3f}    {result[3]:.3f}    {result[4]:.1f}    {result[5]:.2f}    {result[6]:.3f}    {result[7]:.3f}    {result[8]:.3f}\")"
   ]
  },
  {
   "cell_type": "code",
   "execution_count": 21,
   "id": "18ec98ba-1b02-4bc4-8dac-74c56d9606f0",
   "metadata": {
    "tags": []
   },
   "outputs": [
    {
     "name": "stdout",
     "output_type": "stream",
     "text": [
      "0.892    0.076    0.757    0.683    20.7    4.38    0.637    0.427    0.140\n"
     ]
    }
   ],
   "source": [
    "# the new brier\n",
    "print(f\"{result[0]:.3f}    {result[1]:.3f}    {result[2]:.3f}    {result[3]:.3f}    {result[4]:.1f}    {result[5]:.2f}    {result[6]:.3f}    {result[7]:.3f}    {result[8]:.3f}\")"
   ]
  },
  {
   "cell_type": "code",
   "execution_count": 12,
   "id": "9f756f4c-4b2b-4708-b79f-5a66b9f42c8e",
   "metadata": {
    "tags": []
   },
   "outputs": [
    {
     "name": "stdout",
     "output_type": "stream",
     "text": [
      "0.916    0.074    0.760    0.727    20.6    3.94    0.710    0.437    0.110\n"
     ]
    }
   ],
   "source": [
    "# the new CE\n",
    "print(f\"{result[0]:.3f}    {result[1]:.3f}    {result[2]:.3f}    {result[3]:.3f}    {result[4]:.1f}    {result[5]:.2f}    {result[6]:.3f}    {result[7]:.3f}    {result[8]:.3f}\")"
   ]
  },
  {
   "cell_type": "code",
   "execution_count": 38,
   "id": "fd055bc4-86a9-4032-81d6-8e92baa80c76",
   "metadata": {
    "tags": []
   },
   "outputs": [
    {
     "name": "stdout",
     "output_type": "stream",
     "text": [
      "0.877    0.050    0.750    0.680    19.6    4.35    0.630    0.427    0.146\n"
     ]
    }
   ],
   "source": [
    "# unweighted xent... hmm something is wierd here.... My comment is unjustified.\n",
    "# I would say the results are overall worse though, with BRAS score lower.... hmm.\n",
    "print(f\"{result[0]:.3f}    {result[1]:.3f}    {result[2]:.3f}    {result[3]:.3f}    {result[4]:.1f}    {result[5]:.2f}    {result[6]:.3f}    {result[7]:.3f}    {result[8]:.3f}\")"
   ]
  },
  {
   "cell_type": "code",
   "execution_count": null,
   "id": "00be4dd9-9df7-43cf-8466-1e829949d7f1",
   "metadata": {},
   "outputs": [],
   "source": []
  }
 ],
 "metadata": {
  "kernelspec": {
   "display_name": "Python 3 (ipykernel)",
   "language": "python",
   "name": "python3"
  },
  "language_info": {
   "codemirror_mode": {
    "name": "ipython",
    "version": 3
   },
   "file_extension": ".py",
   "mimetype": "text/x-python",
   "name": "python",
   "nbconvert_exporter": "python",
   "pygments_lexer": "ipython3",
   "version": "3.10.11"
  }
 },
 "nbformat": 4,
 "nbformat_minor": 5
}
