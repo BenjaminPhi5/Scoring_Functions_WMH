{
 "cells": [
  {
   "cell_type": "code",
   "execution_count": 1,
   "id": "84397b2e-9f8a-48bd-9f11-e670195d34b8",
   "metadata": {
    "tags": []
   },
   "outputs": [],
   "source": [
    "import os\n",
    "import numpy as np\n",
    "import scipy"
   ]
  },
  {
   "cell_type": "code",
   "execution_count": 2,
   "id": "dd96a86d-460f-48df-b9c1-89752be9bfd4",
   "metadata": {
    "tags": []
   },
   "outputs": [],
   "source": [
    "folders = os.listdir('.')"
   ]
  },
  {
   "cell_type": "code",
   "execution_count": 3,
   "id": "d8da1c53-f7d5-4885-829e-004d6d8d77cd",
   "metadata": {},
   "outputs": [],
   "source": [
    "def read_data(file):\n",
    "    with open(file) as f:\n",
    "        lines = f.readlines()\n",
    "        #print(lines)\n",
    "        lines = [float(l.split(\": \")[-1][:-1]) for l in lines[0:9]]\n",
    "    return np.array(lines)"
   ]
  },
  {
   "cell_type": "code",
   "execution_count": 4,
   "id": "00be4dd9-9df7-43cf-8466-1e829949d7f1",
   "metadata": {},
   "outputs": [],
   "source": [
    "def get_model_results(loss_name, datafile):\n",
    "    selected_data_files = [f\"{f}/{datafile}.txt\" for f in folders if loss_name in f]\n",
    "    arrays = [read_data(f) for f in selected_data_files]\n",
    "    arrays = np.array(arrays)\n",
    "    return arrays"
   ]
  },
  {
   "cell_type": "code",
   "execution_count": 5,
   "id": "db2fa921-477f-47e3-b7c1-90b67193dc7f",
   "metadata": {
    "tags": []
   },
   "outputs": [],
   "source": [
    "def load_all_data_files(loss_name):\n",
    "    data = []\n",
    "    for dfname in [\"data\", \"new_bras\", \"new_hd95\"]:\n",
    "        try:\n",
    "            data.append(get_model_results(loss_name, dfname))\n",
    "        except:\n",
    "            print(f\"file {dfname}.txt could not be loaded for: {loss_name}\")\n",
    "    return np.concatenate(data, axis=1)"
   ]
  },
  {
   "cell_type": "code",
   "execution_count": 6,
   "id": "d7c34e94-e389-4a49-a29e-fa86ae017f9d",
   "metadata": {
    "tags": []
   },
   "outputs": [],
   "source": [
    "loss_names = [\"brier_power2_\", \"spherical_alpha2_\", \"xent_e_\", \"brier_topk10_\", \n",
    "              \"spherical_topk1_\", \"xent_topk10_\", \"dice_standard_\", \"dice_temp_scaled_\", \"dice_plusplus_gamma3_\"]"
   ]
  },
  {
   "cell_type": "code",
   "execution_count": 7,
   "id": "cefa4af9-88f9-466d-9dc4-66ea5b258914",
   "metadata": {
    "tags": []
   },
   "outputs": [
    {
     "name": "stdout",
     "output_type": "stream",
     "text": [
      "file new_hd95.txt could not be loaded for: dice_temp_scaled_\n"
     ]
    }
   ],
   "source": [
    "results = {}\n",
    "for ln in loss_names:\n",
    "    results[ln] = load_all_data_files(ln)"
   ]
  },
  {
   "cell_type": "code",
   "execution_count": 8,
   "id": "c266a981-452f-4992-9f54-65e330d09e87",
   "metadata": {
    "tags": []
   },
   "outputs": [],
   "source": [
    "# key order is:\n",
    "key_id = {key:idx for (idx, key) in enumerate([\"old_bras\", \"ece\", \"dice\", \"f1\", \"avd\", \"old_hd95\", \"recall\", \"max_ueo\", \"prop_missed\", \"uus\", \"new_hd95\"])}"
   ]
  },
  {
   "cell_type": "code",
   "execution_count": 9,
   "id": "49dee672-ca85-43f7-b05f-f16d3ccb3a22",
   "metadata": {
    "tags": []
   },
   "outputs": [
    {
     "data": {
      "text/plain": [
       "array([[ 0.88536098,  0.08335576,  0.74000001,  0.66000003, 26.55999947,\n",
       "         4.34000015,  0.69999999,  0.42293313,  0.14064537,  0.68460005,\n",
       "         6.61999989],\n",
       "       [ 0.86001586,  0.08635876,  0.74000001,  0.66000003, 29.42000008,\n",
       "         4.36000013,  0.69      ,  0.42855981,  0.14716427,  0.6732083 ,\n",
       "         6.5       ],\n",
       "       [ 0.89745781,  0.06153423,  0.74000001,  0.68000001, 26.12999916,\n",
       "         4.32999992,  0.70999998,  0.42170531,  0.14292699,  0.6937374 ,\n",
       "         6.67000008]])"
      ]
     },
     "execution_count": 9,
     "metadata": {},
     "output_type": "execute_result"
    }
   ],
   "source": [
    "results[\"dice_plusplus_gamma3_\"]"
   ]
  },
  {
   "cell_type": "code",
   "execution_count": 10,
   "id": "e4c30565-e393-46d9-9a03-5143b2f6b24a",
   "metadata": {
    "tags": []
   },
   "outputs": [
    {
     "name": "stdout",
     "output_type": "stream",
     "text": [
      "spherical_alpha2_ dice_plusplus_gamma3_ uus\n",
      "[0.68996248 0.68677709 0.68801974]\n",
      "[0.68459982 0.6732083  0.69373687]\n"
     ]
    },
    {
     "data": {
      "text/plain": [
       "Ttest_indResult(statistic=0.7329206942546006, pvalue=0.504242864410653)"
      ]
     },
     "execution_count": 10,
     "metadata": {},
     "output_type": "execute_result"
    }
   ],
   "source": [
    "model1 = loss_names[1]\n",
    "model2 = loss_names[-1]\n",
    "key = \"uus\"\n",
    "print(model1, model2, key)\n",
    "inp1 = results[model1][:,key_id[key]] + np.random.randn(3) * 0.000001\n",
    "inp2 = results[model2][:,key_id[key]] + np.random.randn(3) * 0.000001\n",
    "print(inp1)\n",
    "print(inp2)\n",
    "scipy.stats.ttest_ind(inp1, inp2)"
   ]
  },
  {
   "cell_type": "code",
   "execution_count": 23,
   "id": "6981516e-78c7-4de9-9e50-f616f2556ab2",
   "metadata": {
    "tags": []
   },
   "outputs": [
    {
     "data": {
      "text/plain": [
       "0.2777777777777778"
      ]
     },
     "execution_count": 23,
     "metadata": {},
     "output_type": "execute_result"
    }
   ],
   "source": [
    "0.2/0.72"
   ]
  },
  {
   "cell_type": "code",
   "execution_count": 24,
   "id": "2a53273f-bea2-47ed-afe0-3480dd322973",
   "metadata": {
    "tags": []
   },
   "outputs": [
    {
     "data": {
      "text/plain": [
       "0.2222222222222222"
      ]
     },
     "execution_count": 24,
     "metadata": {},
     "output_type": "execute_result"
    }
   ],
   "source": [
    "10/45"
   ]
  },
  {
   "cell_type": "code",
   "execution_count": 41,
   "id": "111d3556-92e3-45ad-b0a7-2d37e284a91f",
   "metadata": {
    "tags": []
   },
   "outputs": [
    {
     "data": {
      "text/plain": [
       "10.370289769257985"
      ]
     },
     "execution_count": 41,
     "metadata": {},
     "output_type": "execute_result"
    }
   ],
   "source": [
    "np.std(results[\"dice_standard_\"][:,4], ddof=1)"
   ]
  },
  {
   "cell_type": "code",
   "execution_count": 25,
   "id": "46af2ab1-a4e1-47f0-952d-7a8fba8cb5d3",
   "metadata": {
    "tags": []
   },
   "outputs": [
    {
     "data": {
      "text/plain": [
       "array([0.63999999, 0.61000001, 0.63      ])"
      ]
     },
     "execution_count": 25,
     "metadata": {},
     "output_type": "execute_result"
    }
   ],
   "source": [
    "results[\"dice_standard_\"][:,3]"
   ]
  },
  {
   "cell_type": "code",
   "execution_count": 44,
   "id": "8c4ba566-258f-495a-904f-9a60a5c50d57",
   "metadata": {
    "tags": []
   },
   "outputs": [
    {
     "name": "stdout",
     "output_type": "stream",
     "text": [
      "brier_power2_ dice_standard_ avd\n",
      "[20.45000075 21.20999908 20.47999955]\n",
      "[25, 25, 25]\n",
      "Ttest_indResult(statistic=-17.251284306252792, pvalue=3.312600305092265e-05)\n",
      "----------------------------------\n",
      "spherical_alpha2_ dice_standard_ avd\n",
      "[19.46999931 21.63999941 19.77000045]\n",
      "[25, 25, 25]\n",
      "Ttest_indResult(statistic=-6.932991312161481, pvalue=0.0011362711492554174)\n",
      "----------------------------------\n",
      "xent_e_ dice_standard_ avd\n",
      "[19.60000039 20.65999985 21.44000053]\n",
      "[25, 25, 25]\n",
      "Ttest_indResult(statistic=-8.314448077824796, pvalue=0.0005715111682802779)\n",
      "----------------------------------\n",
      "brier_topk10_ dice_standard_ avd\n",
      "[21.63999939 20.34000014 20.84000016]\n",
      "[25, 25, 25]\n",
      "Ttest_indResult(statistic=-10.723898894919463, pvalue=0.00021426174934607834)\n",
      "----------------------------------\n",
      "spherical_topk1_ dice_standard_ avd\n",
      "[18.40999984 19.85000039 20.63999939]\n",
      "[25, 25, 25]\n",
      "Ttest_indResult(statistic=-8.22103075625029, pvalue=0.0005966874048850194)\n",
      "----------------------------------\n",
      "xent_topk10_ dice_standard_ avd\n",
      "[19.26000023 20.5400009  19.96999932]\n",
      "[25, 25, 25]\n",
      "Ttest_indResult(statistic=-13.711814052097049, pvalue=8.19402056887539e-05)\n",
      "----------------------------------\n",
      "dice_standard_ dice_standard_ avd\n",
      "[36.54999922 45.93000032 25.21999931]\n",
      "[25, 25, 25]\n",
      "Ttest_indResult(statistic=1.8205232002438074, pvalue=0.9286048585486346)\n",
      "----------------------------------\n",
      "dice_temp_scaled_ dice_standard_ avd\n",
      "[25.21999933 45.93000028 36.54999926]\n",
      "[25, 25, 25]\n",
      "Ttest_indResult(statistic=1.8205232062239498, pvalue=0.9286048590446101)\n",
      "----------------------------------\n",
      "dice_plusplus_gamma3_ dice_standard_ avd\n",
      "[26.55999947 29.42000009 26.12999917]\n",
      "[25, 25, 25]\n",
      "Ttest_indResult(statistic=2.295423190300172, pvalue=0.9583211011634387)\n",
      "----------------------------------\n"
     ]
    },
    {
     "name": "stderr",
     "output_type": "stream",
     "text": [
      "/tmp/ipykernel_7313/2652321199.py:11: RuntimeWarning: Precision loss occurred in moment calculation due to catastrophic cancellation. This occurs when the data are nearly identical. Results may be unreliable.\n",
      "  print(scipy.stats.ttest_ind(inp1, inp2, alternative='less'))\n"
     ]
    }
   ],
   "source": [
    "for model1id in range(9):\n",
    "    model1 = loss_names[model1id]\n",
    "    model2 = loss_names[-3]\n",
    "    key = \"avd\"\n",
    "    print(model1, model2, key)\n",
    "    try:\n",
    "        inp1 = results[model1][:,key_id[key]] + np.random.randn(3) * 0.00000001\n",
    "        inp2 = [25, 25, 25]# results[model2][:,key_id[key]] + np.random.randn(3) * 0.00000001\n",
    "        print(inp1)\n",
    "        print(inp2)\n",
    "        print(scipy.stats.ttest_ind(inp1, inp2, alternative='less'))\n",
    "        # print(scipy.stats.ttest_ind_from_stats(np.mean(inp1), np.std(inp1, ddof=1), len(inp1), np.mean(inp2), np.std(inp2, ddof=1), len(inp2)))\n",
    "    except:\n",
    "        print(f\"failed for {model1}\")\n",
    "    print(\"----------------------------------\")"
   ]
  },
  {
   "cell_type": "code",
   "execution_count": null,
   "id": "ca132505-fe2a-4353-b9ae-efb18a312676",
   "metadata": {},
   "outputs": [],
   "source": []
  }
 ],
 "metadata": {
  "kernelspec": {
   "display_name": "Python 3 (ipykernel)",
   "language": "python",
   "name": "python3"
  },
  "language_info": {
   "codemirror_mode": {
    "name": "ipython",
    "version": 3
   },
   "file_extension": ".py",
   "mimetype": "text/x-python",
   "name": "python",
   "nbconvert_exporter": "python",
   "pygments_lexer": "ipython3",
   "version": "3.10.11"
  }
 },
 "nbformat": 4,
 "nbformat_minor": 5
}
