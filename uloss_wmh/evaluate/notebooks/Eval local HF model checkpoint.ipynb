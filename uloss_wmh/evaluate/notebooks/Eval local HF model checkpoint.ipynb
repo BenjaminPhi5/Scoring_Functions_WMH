{
 "cells": [
  {
   "cell_type": "markdown",
   "id": "2b67212e-be1c-4c00-b7ef-1c22b1219d9a",
   "metadata": {},
   "source": [
    "## Eval local model checkpoint"
   ]
  },
  {
   "cell_type": "code",
   "execution_count": 3,
   "id": "ac534e65-236d-4790-bba6-f3156a9b276e",
   "metadata": {
    "tags": []
   },
   "outputs": [
    {
     "name": "stdout",
     "output_type": "stream",
     "text": [
      "The autoreload extension is already loaded. To reload it, use:\n",
      "  %reload_ext autoreload\n"
     ]
    }
   ],
   "source": [
    "%load_ext autoreload\n",
    "%autoreload 1"
   ]
  },
  {
   "cell_type": "code",
   "execution_count": 4,
   "id": "efa112cc-9782-4b92-9a10-68348f1c72aa",
   "metadata": {
    "tags": []
   },
   "outputs": [],
   "source": [
    "%autoreload"
   ]
  },
  {
   "cell_type": "code",
   "execution_count": 5,
   "id": "d568644d-c89d-4388-9513-cfe70f38945a",
   "metadata": {
    "tags": []
   },
   "outputs": [],
   "source": [
    "import torch\n",
    "import os\n",
    "import numpy as np\n",
    "import matplotlib.pyplot as plt\n",
    "import seaborn as sns\n",
    "import segmentation_models_pytorch as smp\n",
    "from natsort import natsorted\n",
    "from uloss_wmh.fitting.fitter import StandardLitModelWrapper\n",
    "from uloss_wmh.fitting.optimizer_constructor import OptimizerConfigurator, standard_configurations\n",
    "from tqdm import tqdm"
   ]
  },
  {
   "cell_type": "code",
   "execution_count": 6,
   "id": "9b2dcdd0-611d-4f1f-9099-a09ca889f4ed",
   "metadata": {
    "tags": []
   },
   "outputs": [],
   "source": [
    "from uloss_wmh.evaluate.eval_metrics.weighted_average_challenge_metrics import weighted_challenge_metrics"
   ]
  },
  {
   "cell_type": "code",
   "execution_count": 7,
   "id": "910cc064-bc21-4753-84c4-b28f74598872",
   "metadata": {
    "tags": []
   },
   "outputs": [],
   "source": [
    "from uloss_wmh.evaluate.eval_metrics.challenge_metrics import do_challenge_metrics, per_model_chal_stats, challenge_results_combined_lists"
   ]
  },
  {
   "cell_type": "code",
   "execution_count": 8,
   "id": "1ddb0586-fb48-4d3f-9a4f-47838cfd0c9e",
   "metadata": {
    "tags": []
   },
   "outputs": [],
   "source": [
    "# loss functions\n",
    "from monai.losses import DiceLoss, GeneralizedDiceLoss, FocalLoss, TverskyLoss, DiceCELoss, DiceFocalLoss\n",
    "from uloss_wmh.loss_functions.brier import Brier, BrierPlusDice\n",
    "from uloss_wmh.loss_functions.odyssey_dice import SoftDiceLoss, DC_and_topk_loss\n",
    "from uloss_wmh.loss_functions.odyssey_ND_Crossentropy import TopKLoss, CrossentropyND\n",
    "from uloss_wmh.loss_functions.dice_plusplus import DicePlusPlusLoss"
   ]
  },
  {
   "cell_type": "markdown",
   "id": "ef7a6d34-edde-4ab9-99c9-b2b6946fe200",
   "metadata": {},
   "source": [
    "### loading the train, val and test datasets in 3D this time."
   ]
  },
  {
   "cell_type": "code",
   "execution_count": 9,
   "id": "e45e73dd-788e-42cb-9966-6ded93e23340",
   "metadata": {
    "tags": []
   },
   "outputs": [],
   "source": [
    "from ulw_data.torch_dataset.challenge_dataset_3D import load_3D_wmh_chal\n",
    "from ulw_data.torch_dataset.challenge_data_pipeline import train_data_pipeline"
   ]
  },
  {
   "cell_type": "code",
   "execution_count": 10,
   "id": "71511389-fb2b-47e3-a8a1-d3fa79a127e1",
   "metadata": {
    "tags": []
   },
   "outputs": [],
   "source": [
    "collated_folder = \"/media/benp/NVMEspare/datasets/full_WMH_Chal_dataset/preprocessed/collated/\"\n",
    "train_ds, val_ds = train_data_pipeline(ds_path=collated_folder, val_proportion=0.15, seed=5, transforms=None, dims=3)"
   ]
  },
  {
   "cell_type": "code",
   "execution_count": 11,
   "id": "b483b947-4de3-4218-8b44-3b5d8a15e982",
   "metadata": {
    "tags": []
   },
   "outputs": [],
   "source": [
    "test_dss = load_3D_wmh_chal(ds_path=collated_folder, train=False, combine=False)"
   ]
  },
  {
   "cell_type": "code",
   "execution_count": 12,
   "id": "831110df-06aa-49ac-9402-ad0367134c77",
   "metadata": {
    "tags": []
   },
   "outputs": [
    {
     "data": {
      "text/plain": [
       "5"
      ]
     },
     "execution_count": 12,
     "metadata": {},
     "output_type": "execute_result"
    }
   ],
   "source": [
    "len(test_dss)"
   ]
  },
  {
   "cell_type": "code",
   "execution_count": 13,
   "id": "1100c87b-698e-40ea-9f18-85c30fd4b34d",
   "metadata": {
    "tags": []
   },
   "outputs": [
    {
     "data": {
      "text/plain": [
       "'test_Utrecht_1'"
      ]
     },
     "execution_count": 13,
     "metadata": {},
     "output_type": "execute_result"
    }
   ],
   "source": [
    "test_dss[4][0]['uid']"
   ]
  },
  {
   "cell_type": "code",
   "execution_count": 14,
   "id": "24f70517-e65a-4036-8259-73a00f9cbbc6",
   "metadata": {
    "tags": []
   },
   "outputs": [],
   "source": [
    "# computing the voxel histogram for each image in the test dataset.\n",
    "example = test_dss[0][0]['image'][0]"
   ]
  },
  {
   "cell_type": "code",
   "execution_count": 15,
   "id": "3803e9ae-eac4-4dbc-8033-c39b9e66e69b",
   "metadata": {
    "tags": []
   },
   "outputs": [],
   "source": [
    "flat = example.view(-1)\n",
    "flat = flat[flat != 0]"
   ]
  },
  {
   "cell_type": "code",
   "execution_count": 16,
   "id": "6be730f7-1e81-4be2-8c90-4432c7ecbb78",
   "metadata": {
    "tags": []
   },
   "outputs": [],
   "source": [
    "# get volumes:\n",
    "from uloss_wmh.evaluate.eval_metrics.WMH_volume import GT_volumes\n",
    "\n",
    "ys3d = []\n",
    "for ds in test_dss:\n",
    "    for data in ds:\n",
    "        label = data['label']\n",
    "        ys3d.append(label)\n",
    "    \n",
    "volumes = GT_volumes(ys3d, 0.0003)"
   ]
  },
  {
   "cell_type": "code",
   "execution_count": 17,
   "id": "47b4ad94-9f68-48e1-96b4-5453e282dae1",
   "metadata": {
    "tags": []
   },
   "outputs": [
    {
     "data": {
      "text/plain": [
       "Text(0.5, 0, 'WMH Volume per individual - $mm^3$')"
      ]
     },
     "execution_count": 17,
     "metadata": {},
     "output_type": "execute_result"
    },
    {
     "data": {
      "image/png": "[encoded data removed]",
      "text/plain": [
       "<Figure size 640x480 with 1 Axes>"
      ]
     },
     "metadata": {},
     "output_type": "display_data"
    }
   ],
   "source": [
    "plt.hist(volumes, bins=100)\n",
    "plt.xlabel(r\"WMH Volume per individual - $mm^3$\")"
   ]
  },
  {
   "cell_type": "code",
   "execution_count": 18,
   "id": "10978bb1-ad86-4573-b35d-00b443871451",
   "metadata": {
    "tags": []
   },
   "outputs": [],
   "source": [
    "masks = []\n",
    "for ds in test_dss:\n",
    "    for data in ds:\n",
    "        mask = data['image'][2]\n",
    "        masks.append(mask)"
   ]
  },
  {
   "cell_type": "code",
   "execution_count": 19,
   "id": "63cc8fba-6da3-41c8-b948-ebaf20b690de",
   "metadata": {
    "tags": []
   },
   "outputs": [],
   "source": [
    "labels_dss = [[] for _ in range(len(test_dss))]\n",
    "labels = []\n",
    "\n",
    "for i, ds in enumerate(test_dss):\n",
    "    for data in ds:\n",
    "        label = data['label'].squeeze()\n",
    "        labels.append(label)\n",
    "        labels_dss[i].append(label)"
   ]
  },
  {
   "cell_type": "code",
   "execution_count": 20,
   "id": "fe7879c3-a981-441d-b2d5-0c98bc40518c",
   "metadata": {
    "tags": []
   },
   "outputs": [],
   "source": [
    "def plot_lesion_coverage_statistics1(u_thresholds, mean_FN_coverage, size_entirely_missed_lesions, mean_missed_lesion_coverage, prop_entirely_missed, loss_name, lr):\n",
    "    plt.plot(u_thresholds, mean_FN_coverage)\n",
    "    plt.title(f\"{loss_name} {lr}\")\n",
    "    plt.xlim((0, 0.7))\n",
    "    plt.xlabel(\"Uncertainty threshold\")\n",
    "    plt.ylim((0, 1))\n",
    "    plt.ylabel(\"mean FN coverage\")\n",
    "    plt.savefig(f\"initial_model_results/{loss_name}_{lr}/\" + \"mean_FN_coverage\" + \".jpg\", bbox_inches='tight')\n",
    "    plt.show()\n",
    "    plt.clf()\n",
    "    \n",
    "def plot_lesion_coverage_statistics2(u_thresholds, mean_FN_coverage, size_entirely_missed_lesions, mean_missed_lesion_coverage, prop_entirely_missed, loss_name, lr):\n",
    "\n",
    "    plt.plot(u_thresholds, size_entirely_missed_lesions)\n",
    "    plt.title(f\"{loss_name} {lr}\")\n",
    "    plt.xlim((0, 0.7))\n",
    "    plt.xlabel(\"Uncertainty threshold\")\n",
    "    plt.ylim((0, 7))\n",
    "    plt.ylabel(\"size of entirely missed lesions\")\n",
    "    plt.savefig(f\"initial_model_results/{loss_name}_{lr}/\" + \"size_entirely_missed_lesions\" + \".jpg\", bbox_inches='tight')\n",
    "    plt.show()\n",
    "    plt.clf()\n",
    "    \n",
    "def plot_lesion_coverage_statistics3(u_thresholds, mean_FN_coverage, size_entirely_missed_lesions, mean_missed_lesion_coverage, prop_entirely_missed, loss_name, lr):\n",
    "    plt.plot(u_thresholds, mean_missed_lesion_coverage)\n",
    "    plt.title(f\"{loss_name} {lr}\")\n",
    "    plt.xlim((0, 0.7))\n",
    "    plt.xlabel(\"Uncertainty threshold\")\n",
    "    plt.ylim((0, 1))\n",
    "    plt.ylabel(\"mean missed lesion coverage\")\n",
    "    plt.savefig(f\"initial_model_results/{loss_name}_{lr}/\" + \"mean_missed_lesion_coverage\" + \".jpg\", bbox_inches='tight')\n",
    "    plt.show()\n",
    "    plt.clf()\n",
    "\n",
    "    \n",
    "def plot_lesion_coverage_statistics4(u_thresholds, mean_FN_coverage, size_entirely_missed_lesions, mean_missed_lesion_coverage, prop_entirely_missed, loss_name, lr):\n",
    "    \n",
    "    plt.plot(u_thresholds, prop_entirely_missed)\n",
    "    plt.title(f\"{loss_name} {lr}\")\n",
    "    plt.xlim((0, 0.7))\n",
    "    plt.xlabel(\"Uncertainty threshold\")\n",
    "    plt.ylim((0, 0.4))\n",
    "    plt.ylabel(\"proprtion of lesions entirely missed in uncertainty map\")\n",
    "    plt.savefig(f\"initial_model_results/{loss_name}_{lr}/\" + \"prop_entirely_missed\" + \".jpg\", bbox_inches='tight')\n",
    "    plt.show()\n",
    "    plt.clf()"
   ]
  },
  {
   "cell_type": "code",
   "execution_count": 22,
   "id": "d244a878-1f20-429c-a9c0-97e1baceb36a",
   "metadata": {
    "tags": []
   },
   "outputs": [],
   "source": [
    "def combined_challenge_metrics(preds_domain, labels_domain, model, loss_dir):\n",
    "    results_domain = []\n",
    "    for i in range(len(preds_domain)):\n",
    "        results_domain.append(per_model_chal_stats([p>0.5 for p in preds_domain[i]], labels_domain[i], do_argmax=False))\n",
    "        \n",
    "    results_combined_df = challenge_results_combined_lists(results_domain, loss_dir)\n",
    "    \n",
    "    return results_combined_df, results_domain"
   ]
  },
  {
   "cell_type": "code",
   "execution_count": 23,
   "id": "ae0104b8-89b6-48dd-978e-59364a245f15",
   "metadata": {
    "tags": []
   },
   "outputs": [],
   "source": [
    "def dice_distribution(combined_metrics, loss_name, lr):\n",
    "    ### dice only.\n",
    "    chart = sns.boxplot(data=combined_metrics, y=\"loss_name\", x=\"dice\")\n",
    "    chart.set_yticklabels(chart.get_yticklabels(), rotation=90)\n",
    "    title_str = f\"Dice distribution - {loss_name} {lr}\"\n",
    "    plt.title(title_str)\n",
    "    plt.xlim((0,1))\n",
    "    plt.xlabel(\"Dice\")\n",
    "    plt.savefig(f\"initial_model_results/{loss_name}_{lr}/\" + \"dice_dist\" + \".jpg\", bbox_inches='tight')\n",
    "    plt.show()\n",
    "    plt.clf()"
   ]
  },
  {
   "cell_type": "code",
   "execution_count": 24,
   "id": "770dd582-3ea0-4708-810d-5e6270e5501a",
   "metadata": {
    "tags": []
   },
   "outputs": [],
   "source": [
    "def AVD_Dice_plot(data, loss_name, lr):\n",
    "    sns.jointplot(data, x='dice', y='avd')\n",
    "    plt.xlabel('Dice - per Test Set Individual')\n",
    "    plt.ylabel('AVD - per Test Set Individual')\n",
    "    plt.suptitle(f\"AVD vs Dice: {loss_name}, {lr}\")\n",
    "    plt.xlim((0, 1))\n",
    "    plt.savefig(f\"initial_model_results/{loss_name}_{lr}/\" + \"avd_dice_plot\" + \".jpg\", bbox_inches='tight')\n",
    "    plt.show()\n",
    "    plt.clf()"
   ]
  },
  {
   "cell_type": "code",
   "execution_count": 25,
   "id": "9c51483b-3de0-4b89-b920-e01eb587e5ed",
   "metadata": {
    "tags": []
   },
   "outputs": [],
   "source": [
    "def AVD_Volume_plot(volumes, data, loss_name, lr):\n",
    "    plt.scatter(volumes, data['avd'])\n",
    "    plt.xscale('log')\n",
    "    plt.title(f\"AVD vs Volume: {loss_name}, {lr}\")\n",
    "    plt.xlabel(\"WMH GT volume\")\n",
    "    plt.ylabel(\"AVD\")\n",
    "    plt.savefig(f\"initial_model_results/{loss_name}_{lr}/\" + \"avd_volume_plot\" + \".jpg\", bbox_inches='tight')\n",
    "    plt.show()\n",
    "    plt.clf()"
   ]
  },
  {
   "cell_type": "code",
   "execution_count": 26,
   "id": "13ed0b58-df9f-4510-bc1f-79b4dd52d334",
   "metadata": {
    "tags": []
   },
   "outputs": [],
   "source": [
    "def get_inputs(test_datasets):\n",
    "    inputs = []\n",
    "    for dataset in test_datasets:\n",
    "        for data in dataset:\n",
    "            inputs.append(data['image'])\n",
    "    return inputs\n",
    "\n",
    "def get_labels(test_datasets):\n",
    "    labels = []\n",
    "    for dataset in test_datasets:\n",
    "        for data in dataset:\n",
    "            labels.append(data['label'].squeeze())\n",
    "    return labels\n",
    "\n",
    "\n",
    "# since the area that I want to check is  predominantly confidently 0, I should compute values at n-step dilation.\n",
    "from kornia.morphology import dilation\n",
    "\n",
    "def dilate_considered_area(pred, label, threshold, steps=0):\n",
    "    step0_area = (pred > threshold) | (label == 1)\n",
    "    step0_area = step0_area.moveaxis(-1,0).unsqueeze(1) # step0_area requries shape B C H W\n",
    "    \n",
    "    result = step0_area.type(torch.float32)\n",
    "    for step in range(steps):\n",
    "        result = dilation(result, kernel=torch.ones(3, 3).to(result.device), engine='convolution')\n",
    "    \n",
    "    return result.squeeze().moveaxis(0, -1).type(torch.long)\n",
    "\n",
    "def get_n_step_dilated_voxels(pred, label, threshold, steps):\n",
    "    dilated = dilate_considered_area(pred, label, threshold=threshold, steps=steps)\n",
    "    return pred[dilated==1]\n",
    "\n",
    "def get_prediction_voxels(labels, model_preds, threshold=0.01, steps=2):\n",
    "    prediction_voxels = []\n",
    "    for i in tqdm(range(len(labels))):\n",
    "        label = labels[i].cuda()\n",
    "        pred = model_preds[i].cuda()\n",
    "        voxels = get_n_step_dilated_voxels(pred, label, threshold=threshold, steps=steps)\n",
    "        prediction_voxels.append(voxels.reshape(-1).cpu())\n",
    "\n",
    "    prediction_voxels = torch.cat(prediction_voxels)\n",
    "    return prediction_voxels"
   ]
  },
  {
   "cell_type": "code",
   "execution_count": 27,
   "id": "b14ba400-9c78-4cca-b9f0-2877f4774d5a",
   "metadata": {
    "tags": []
   },
   "outputs": [],
   "source": [
    "def softmax_confidence_distribution(prediction_voxels, loss_name, lr):\n",
    "    sns.histplot(prediction_voxels, bins=20)\n",
    "    plt.xlabel(f\"Softmax Confidence - {loss_name}, {lr}\")\n",
    "    plt.savefig(f\"initial_model_results/{loss_name}_{lr}/\" + \"softmax_confidence_distribution\" + \".jpg\", bbox_inches='tight')\n",
    "    plt.show()\n",
    "    plt.clf()"
   ]
  },
  {
   "cell_type": "code",
   "execution_count": 28,
   "id": "4a0c2886-15fd-485d-9a56-7e5f9a534be0",
   "metadata": {
    "tags": []
   },
   "outputs": [],
   "source": [
    "\n",
    "\n",
    "def compute_calibration_curve(predictions, labels, prediction_threshold=0., convert_to_numpy=True, num_bins=20):\n",
    "    \"\"\"Computes the calibration curve of a model.\n",
    "    \n",
    "    modified from a chat with google bard.\n",
    "\n",
    "    Args:\n",
    "    predictions: A list of pytorch tensors of shape (batch_size, height, width).\n",
    "    labels: A list of pytorch tensors of shape (batch_size, height, width).\n",
    "    prediction_threshold: the minimim prediction confidence to be considered\n",
    "\n",
    "    Returns:\n",
    "    A tuple of (calibration_curve, expected_calibration_error).\n",
    "    The calibration_curve is a list of tuples of (confidence, accuracy).\n",
    "    The expected_calibration_error is the average distance between the model's\n",
    "    confidence and a perfectly calibrated model.\n",
    "    \n",
    "    \"\"\"\n",
    "\n",
    "    # Convert the predictions and labels to numpy arrays.\n",
    "    if convert_to_numpy:\n",
    "        predictions = torch.stack(predictions)\n",
    "        labels = torch.stack(labels)\n",
    "        predictions = predictions.cpu().numpy()\n",
    "        labels = labels.cpu().numpy()\n",
    "\n",
    "    # Bin the predictions into 10 equally spaced bins.\n",
    "    bins = np.linspace(prediction_threshold, 1, num_bins)\n",
    "    bin_indices = np.digitize(predictions, bins)\n",
    "    #print(bins)\n",
    "    \n",
    "    # Compute the accuracy in each bin.\n",
    "    accuracies = np.zeros(num_bins)\n",
    "    confidences = np.zeros(num_bins)\n",
    "    for i in tqdm(range(num_bins)):\n",
    "        accuracies[i] = np.mean(labels[bin_indices == i])\n",
    "        confidences[i] = np.mean(predictions[bin_indices == i])\n",
    "\n",
    "    # Compute the expected calibration error.\n",
    "    expected_calibration_error = np.mean(np.abs(confidences[1:] - accuracies[1:]))\n",
    "\n",
    "    # Return the calibration curve and the expected calibration error.\n",
    "    return (bins, confidences, accuracies), expected_calibration_error\n"
   ]
  },
  {
   "cell_type": "code",
   "execution_count": 29,
   "id": "d415ed41-2eec-42d5-b407-b1d20b5480b7",
   "metadata": {
    "tags": []
   },
   "outputs": [],
   "source": [
    "# calibration per individual, and calibration score per volume\n",
    "def compute_calibration_curve_per_individual(predictions, labels, prediction_threshold=0., convert_to_numpy=True, num_bins=20):\n",
    "    \"\"\"Computes the calibration curve of a model.\n",
    "    \n",
    "    modified from a chat with google bard.\n",
    "\n",
    "    Args:\n",
    "    predictions: A list of pytorch tensors of shape (batch_size, height, width).\n",
    "    labels: A list of pytorch tensors of shape (batch_size, height, width).\n",
    "    prediction_threshold: the minimim prediction confidence to be considered\n",
    "\n",
    "    Returns:\n",
    "    list of confidences, accuracies, eces for each individual.\n",
    "    \"\"\"\n",
    "\n",
    "    # Convert the predictions and labels to numpy arrays.\n",
    "    if convert_to_numpy:\n",
    "        predictions = torch.stack(predictions)\n",
    "        labels = torch.stack(labels)\n",
    "        predictions = predictions.cpu().numpy()\n",
    "        labels = labels.cpu().numpy()\n",
    "\n",
    "    # Bin the predictions into 10 equally spaced bins.\n",
    "    bins = np.linspace(prediction_threshold, 1, num_bins)\n",
    "    bin_indices = np.digitize(predictions, bins)\n",
    "    #print(bins)\n",
    "    \n",
    "    individual_accuracies = []\n",
    "    individual_confidences = []\n",
    "    individual_eces = []\n",
    "    \n",
    "    for j in tqdm(range(predictions.shape[0])):\n",
    "        # Compute the accuracy in each bin.\n",
    "        accuracies = np.zeros(num_bins)\n",
    "        confidences = np.zeros(num_bins)\n",
    "        for i in range(num_bins):\n",
    "            accuracies[i] = np.mean(labels[j][bin_indices[j] == i])\n",
    "            confidences[i] = np.mean(predictions[j][bin_indices[j] == i])\n",
    "\n",
    "        # Compute the expected calibration error.\n",
    "        expected_calibration_error = np.mean(np.abs(confidences[1:] - accuracies[1:]))\n",
    "        \n",
    "        individual_accuracies.append(accuracies)\n",
    "        individual_confidences.append(confidences)\n",
    "        individual_eces.append(expected_calibration_error)\n",
    "        \n",
    "\n",
    "    # Return the calibration curve and the expected calibration error.\n",
    "    return individual_confidences, individual_accuracies, individual_eces\n"
   ]
  },
  {
   "cell_type": "code",
   "execution_count": 30,
   "id": "a5fcd7a3-d44c-4390-bbfd-ff192dffc1a8",
   "metadata": {
    "tags": []
   },
   "outputs": [],
   "source": [
    "def plot_calibration(confidences, accuracies, ece, loss_name, lr):\n",
    "    plt.plot([0,1],[0,1], c='black')\n",
    "    plt.plot(confidences, accuracies)\n",
    "    #plt.xlim((0.5, 1))\n",
    "    #plt.ylim((0., 1))\n",
    "    plt.xlabel(\"Softmax Confidence\")\n",
    "    plt.ylabel(\"Proportion of WMH\")\n",
    "    plt.title(f\"Calibration Curve: {loss_name} {lr}\\nECE: {ece:.3}\")\n",
    "    plt.savefig(f\"initial_model_results/{loss_name}_{lr}/\" + \"calibration\" + \".jpg\", bbox_inches='tight')\n",
    "    plt.show()\n",
    "    plt.clf()"
   ]
  },
  {
   "cell_type": "code",
   "execution_count": 31,
   "id": "7588bf7b-47cf-4786-bdfa-1e64b210fd5b",
   "metadata": {
    "tags": []
   },
   "outputs": [],
   "source": [
    "def individual_calib_plots(ind_confidences, ind_accuracies, ind_eces, loss_name, lr):\n",
    "    plt.plot([0,1], [0,1], c='black')\n",
    "    for i in range(60):\n",
    "        plt.plot(ind_confidences[i], ind_accuracies[i])\n",
    "    plt.title(f\"Calibration Curves per individual - {loss_name} {lr}\")\n",
    "    plt.savefig(f\"initial_model_results/{loss_name}_{lr}/\" + \"calib_per_ind\" + \".jpg\", bbox_inches='tight')\n",
    "    plt.show()\n",
    "    plt.clf()\n",
    "    \n",
    "    plt.scatter(volumes, ind_eces)\n",
    "    plt.xscale('log')\n",
    "    plt.ylabel(\"Expected Calbiration Error (ECE) per individual\")\n",
    "    plt.xlabel(r\"WMH Volume $mm^3$\")\n",
    "    plt.title(f\"ECE vs Volume {loss_name} {lr}\")\n",
    "    plt.savefig(f\"initial_model_results/{loss_name}_{lr}/\" + \"calib_vs_volume\" + \".jpg\", bbox_inches='tight')\n",
    "    plt.show()\n",
    "    plt.clf()"
   ]
  },
  {
   "cell_type": "code",
   "execution_count": 32,
   "id": "949da6f8-8420-4452-aa19-3768e77db5e3",
   "metadata": {
    "tags": []
   },
   "outputs": [],
   "source": [
    "# precision and recall curve as the confidence threshold is varied\n",
    "def precision_recall_curves(predictions, labels, num_bins=20):\n",
    "    # TODO: I need to make this a weighted precision and recall at somepoint, and include does\n",
    "    # with the metrics that I vary\n",
    "    bins = np.linspace(0, 1, num_bins)\n",
    "    \n",
    "    precisions = []\n",
    "    recalls = []\n",
    "    \n",
    "    for bin in tqdm(bins):\n",
    "        tps = 0\n",
    "        fps = 0\n",
    "        fns = 0\n",
    "        for i in range(len(predictions)):\n",
    "            pred = predictions[i].cuda()\n",
    "            label = labels[i].cuda()\n",
    "            tps += ((pred > bin) * (label==1)).sum().item()\n",
    "            fps += ((pred > bin) * (label==0)).sum().item()\n",
    "            fns += ((pred < bin) * (label==1)).sum().item()\n",
    "            \n",
    "        precisions.append(tps / (tps + fps + 1e-8))\n",
    "        recalls.append(tps / (tps + fns + 1e-8))\n",
    "            \n",
    "        \n",
    "    return bins, precisions, recalls\n",
    "\n",
    "def precision_recall_curve(bins, precisions, recalls, loss_name, lr):\n",
    "    plt.plot(bins[1:-1], precisions[1:-1], label='precision')\n",
    "    plt.plot(bins[1:-1], recalls[1:-1], label='recall')\n",
    "    plt.xlabel(\"Softmax Threshold\")\n",
    "    plt.xlim((0,1))\n",
    "    plt.ylim((0,1))\n",
    "    plt.legend(loc='lower right')\n",
    "    plt.title(f\"Precision, Recall as Softmax \\n Threshold Varies - {loss_name} {lr}\")\n",
    "    plt.savefig(f\"initial_model_results/{loss_name}_{lr}/\" + \"pres_recall_curve\" + \".jpg\", bbox_inches='tight')\n",
    "    plt.show()\n",
    "    plt.clf()"
   ]
  },
  {
   "cell_type": "code",
   "execution_count": 33,
   "id": "577d9e1e-0be4-42e0-badd-a8715b21032d",
   "metadata": {
    "tags": []
   },
   "outputs": [],
   "source": [
    "def softmax_ent(preds):\n",
    "    ent_maps = []\n",
    "    for p in tqdm(preds):\n",
    "        e = -(p * p.log() + (1-p) * (1-p).log())\n",
    "        ent_maps.append(e)\n",
    "        \n",
    "    return ent_maps"
   ]
  },
  {
   "cell_type": "code",
   "execution_count": 34,
   "id": "a5aee128-1e33-46e3-9fe5-d60675e8f4c0",
   "metadata": {
    "tags": []
   },
   "outputs": [],
   "source": [
    "from uloss_wmh.evaluate.eval_metrics.sUEO import sUEO\n",
    "\n",
    "def UEO_curve(preds, ent_maps, labels, u_thresholds):\n",
    "    t_ueo = []\n",
    "    for tau in tqdm(u_thresholds):\n",
    "        ueos = []\n",
    "        for i in range(len(preds)):\n",
    "            seg = preds[i].cuda() > 0.5\n",
    "            error = seg != labels[i].cuda()\n",
    "            ent = ent_maps[i].cuda() > tau\n",
    "            \n",
    "            numerator = 2 * (ent * error).sum()\n",
    "            denominator = ent.sum() + error.sum()\n",
    "            ueos.append((numerator/denominator).item())\n",
    "        \n",
    "        t_ueo.append(torch.Tensor(ueos).mean().item())\n",
    "    \n",
    "    return t_ueo\n",
    "\n",
    "def plot_ueo_curve(u_thresholds, ueos, loss_name, lr):\n",
    "    plt.plot(u_thresholds, ueos)\n",
    "    plt.xlim((0,0.7))\n",
    "    plt.ylim((0, 0.5))\n",
    "    plt.xlabel(\"uncertainty threshold\")\n",
    "    plt.ylabel(\"UEO score\")\n",
    "    plt.title(f\"UEO curve - {loss_name} {lr}\")\n",
    "    plt.savefig(f\"initial_model_results/{loss_name}_{lr}/\" + \"ueo curve\" + \".jpg\", bbox_inches='tight')\n",
    "    plt.show()\n",
    "    plt.clf()"
   ]
  },
  {
   "cell_type": "code",
   "execution_count": 35,
   "id": "6e5e8815-a22b-4692-99b5-02386fb6b2dc",
   "metadata": {
    "tags": []
   },
   "outputs": [],
   "source": [
    "%autoreload\n",
    "from sklearn import metrics\n",
    "from uloss_wmh.evaluate.eval_metrics.BraS import *\n",
    "import math\n",
    "\n",
    "def compute_BraS_Score(uncertainty_thresholds, preds, ent_maps, labels, masks):\n",
    "\n",
    "    filtered_dices = []\n",
    "    filtered_tns = []\n",
    "    filtered_tps = []\n",
    "\n",
    "    for i in tqdm(range(len(preds)), position=0, leave=True):\n",
    "        pred = preds[i].cuda() > 0.5\n",
    "        ent_map = ent_maps[i].cuda()\n",
    "        y = labels[i].cuda()\n",
    "        mask = masks[i].cuda()\n",
    "\n",
    "        ind_filtered_dices = []\n",
    "        ind_filtered_tns = []\n",
    "        ind_filtered_tps = []\n",
    "\n",
    "        if pred.sum() == 0:\n",
    "            continue\n",
    "\n",
    "        for t in uncertainty_thresholds:\n",
    "            ind_filtered_dices.append(filtered_dice(pred, ent_map, y, t))\n",
    "            ind_filtered_tns.append(filtered_tns_score(mask, pred, ent_map, y, t))\n",
    "            ind_filtered_tps.append(filtered_tps_score(pred, ent_map, y, t))\n",
    "\n",
    "        filtered_dices.append(ind_filtered_dices)\n",
    "        filtered_tns.append(ind_filtered_tns)\n",
    "        filtered_tps.append(ind_filtered_tps)\n",
    "\n",
    "\n",
    "    # we need to calculate the area under the curve of the dice, so that will be mean dice per threshold?\n",
    "    filtered_dices = torch.stack([torch.Tensor(v) for v in filtered_dices], dim=0)\n",
    "    filtered_tns = torch.stack([torch.Tensor(v) for v in filtered_tns], dim=0)\n",
    "    filtered_tps = torch.stack([torch.Tensor(v) for v in filtered_tps], dim=0)\n",
    "    \n",
    "    fdice_curve = filtered_dices.mean(dim=0)\n",
    "    tn_curve = filtered_tns.mean(dim=0)\n",
    "    tp_curve = filtered_tps.mean(dim=0)\n",
    "    max_ent = math.log(0.5)\n",
    "    bras_score = (1/3) * (\n",
    "        metrics.auc(uncertainty_thresholds/max_ent, fdice_curve)\n",
    "         + (1 - metrics.auc(uncertainty_thresholds/max_ent, tn_curve))\n",
    "         + (1 - metrics.auc(uncertainty_thresholds/max_ent, tp_curve))\n",
    "    )\n",
    "    return bras_score"
   ]
  },
  {
   "cell_type": "code",
   "execution_count": 36,
   "id": "d3b23e6b-19e6-4695-a6b9-877b1fc7c1a6",
   "metadata": {
    "tags": []
   },
   "outputs": [],
   "source": [
    "%autoreload\n",
    "from uloss_wmh.evaluate.eval_metrics.connected_comps_analysis import conn_comp_2d_analysis"
   ]
  },
  {
   "cell_type": "markdown",
   "id": "95c8ccf0-8f6c-4850-b9eb-fbfe8f766b91",
   "metadata": {},
   "source": [
    "### compute the metrics for each metric"
   ]
  },
  {
   "cell_type": "code",
   "execution_count": 37,
   "id": "43646e73-4965-4bda-9130-df97a8a9d91e",
   "metadata": {
    "tags": []
   },
   "outputs": [
    {
     "name": "stderr",
     "output_type": "stream",
     "text": [
      "size_average and reduce args will be deprecated, please use reduction='none' instead.\n"
     ]
    }
   ],
   "source": [
    "LOSS_FUNCTION_CONFIG = {\n",
    "    \"dice_topk\":{\"loss\":DC_and_topk_loss({\"do_bg\":False}, {\"k\":10}), \"outchannels\":2},\n",
    "    \"dice_focal\":{\"loss\":DiceFocalLoss(sigmoid=True, gamma=2.0), \"outchannels\":1},\n",
    "    \"dice_plusplus\":{\"loss\":DicePlusPlusLoss(sigmoid=True, gamma=2), \"outchannels\":1},\n",
    "    \"cross_entropy\":{\"loss\":CrossentropyND(), \"outchannels\":2},\n",
    "    \"brier\":{\"loss\":Brier(sigmoid=True), \"outchannels\":1},\n",
    "    \"topk\":{\"loss\":TopKLoss(k=10), \"outchannels\":2},\n",
    "    \"focal\":{\"loss\":FocalLoss(gamma=2.0, reduction='sum'), \"outchannels\":1},\n",
    "    \"dice\":{\"loss\":DiceLoss(sigmoid=True), \"outchannels\":1},\n",
    "    \"tversky_alpha.7\":{\"loss\":TverskyLoss(sigmoid=True, alpha=0.7, beta=0.5), \"outchannels\":1},\n",
    "    \"tversly_beta.7\":{\"loss\":TverskyLoss(sigmoid=True, alpha=0.5, beta=0.7), \"outchannels\":1},\n",
    "    \"soft_dice\":{\"loss\":SoftDiceLoss(apply_nonlin=lambda x : torch.softmax(x, 1), do_bg=False, smooth=1e-5), \"outchannels\":2},\n",
    "    \"dice_brier\":{\"loss\":BrierPlusDice(sigmoid=True, brier_factor=1/100, dice_factor=1), \"outchannels\":1},\n",
    "    \"generalized_dice\":{\"loss\":GeneralizedDiceLoss(sigmoid=True), \"outchannels\":1},\n",
    "    \"dice_cross_entropy\":{\"loss\":DiceCELoss(sigmoid=True), \"outchannels\":1},\n",
    "    \"\":None,\n",
    "}"
   ]
  },
  {
   "cell_type": "code",
   "execution_count": 38,
   "id": "cad0f20a-6563-4f92-bab9-dcdca7feeca0",
   "metadata": {
    "tags": []
   },
   "outputs": [],
   "source": [
    "from uloss_wmh.models.hf_smp_unet_wrapper import SmpHfUnet"
   ]
  },
  {
   "cell_type": "code",
   "execution_count": 39,
   "id": "e9aca69d-90d0-4e7f-97a8-51d0a8626ed0",
   "metadata": {
    "tags": []
   },
   "outputs": [],
   "source": [
    "model1 = SmpHfUnet(\n",
    "    encoder_name=\"resnet18\",        # choose encoder, e.g. mobilenet_v2 or efficientnet-b7\n",
    "    encoder_weights=None,     # use `imagenet` pre-trained weights for encoder initialization\n",
    "    in_channels=3,                  # model input channels (1 for gray-scale images, 3 for RGB, etc.)\n",
    "    classes=1,                      # model output channels (number of classes in your dataset)\n",
    ")\n",
    "\n",
    "# model2 = smp.Unet(\n",
    "#         encoder_name=\"resnet18\",        # choose encoder, e.g. mobilenet_v2 or efficientnet-b7\n",
    "#         encoder_weights=None,     # use `imagenet` pre-trained weights for encoder initialization\n",
    "#         in_channels=3,                  # model input channels (1 for gray-scale images, 3 for RGB, etc.)\n",
    "#         classes=2,                      # model output channels (number of classes in your dataset)\n",
    "#     )"
   ]
  },
  {
   "cell_type": "code",
   "execution_count": 56,
   "id": "f05fbaee-997f-4ba7-b930-a4a5a5d84dc6",
   "metadata": {
    "tags": []
   },
   "outputs": [],
   "source": [
    "def load_model_preds(model, t=1):\n",
    "    preds_dss = []\n",
    "    with torch.no_grad():\n",
    "        for ds in test_dss:\n",
    "            preds_domain = []\n",
    "            for data in tqdm(ds):\n",
    "                inp = data['image'].cuda().moveaxis(-1, 0)\n",
    "                out = model(inp)\n",
    "                \n",
    "                if out.shape[1] == 2:\n",
    "                    out = torch.softmax(out/t, dim=1)[:,1]\n",
    "                else:\n",
    "                    out = torch.sigmoid(out/t)\n",
    "                \n",
    "                preds_domain.append(out.moveaxis(0, -1).squeeze().cpu())\n",
    "            preds_dss.append(preds_domain)\n",
    "    \n",
    "    # get combined list of all domains together\n",
    "    preds = []\n",
    "    for p in preds_dss:\n",
    "        preds.extend(p)\n",
    "        \n",
    "    return preds, preds_dss\n",
    "\n",
    "\n",
    "def load_model_HF_preds(model, t=1):\n",
    "    preds_dss = []\n",
    "    with torch.no_grad():\n",
    "        model.eval()\n",
    "        for ds in test_dss:\n",
    "            preds_domain = []\n",
    "            for data in tqdm(ds):\n",
    "                inp = data['image'].cuda().moveaxis(-1, 0)\n",
    "                out = model(inp)[-1]\n",
    "                \n",
    "                if out.shape[1] == 2:\n",
    "                    out = torch.softmax(out/t, dim=1)[:,1]\n",
    "                else:\n",
    "                    out = torch.sigmoid(out/t)\n",
    "                \n",
    "                preds_domain.append(out.moveaxis(0, -1).squeeze().cpu())\n",
    "            preds_dss.append(preds_domain)\n",
    "    \n",
    "    # get combined list of all domains together\n",
    "    preds = []\n",
    "    for p in preds_dss:\n",
    "        preds.extend(p)\n",
    "        \n",
    "    return preds, preds_dss"
   ]
  },
  {
   "cell_type": "code",
   "execution_count": 57,
   "id": "189cba58-f566-4a20-a0ec-6ff8064611b9",
   "metadata": {
    "tags": []
   },
   "outputs": [],
   "source": [
    "custom_optim_config = OptimizerConfigurator(optim='Adam', lr=2e-4, weight_decay=0, scheduler='ReduceOnPlateau', patience=12, threshold=1e-4, factor=0.3, min_lr=1e-6, monitor='train_loss', verbose_lr=True)"
   ]
  },
  {
   "cell_type": "code",
   "execution_count": 58,
   "id": "13b54727-3e41-4314-9b55-5f9308e40ddc",
   "metadata": {
    "tags": []
   },
   "outputs": [
    {
     "name": "stdout",
     "output_type": "stream",
     "text": [
      "local test brier dice\n",
      "assume folder exists\n"
     ]
    },
    {
     "name": "stderr",
     "output_type": "stream",
     "text": [
      "100%|█████████████████████████████████████████████████████████████████████████████████████████████████████████████████████████████████████████████████████████| 10/10 [00:01<00:00,  8.32it/s]\n",
      "100%|█████████████████████████████████████████████████████████████████████████████████████████████████████████████████████████████████████████████████████████| 30/30 [00:03<00:00,  8.54it/s]\n",
      "100%|█████████████████████████████████████████████████████████████████████████████████████████████████████████████████████████████████████████████████████████| 10/10 [00:01<00:00,  8.54it/s]\n",
      "100%|█████████████████████████████████████████████████████████████████████████████████████████████████████████████████████████████████████████████████████████| 30/30 [00:03<00:00,  8.51it/s]\n",
      "100%|█████████████████████████████████████████████████████████████████████████████████████████████████████████████████████████████████████████████████████████| 30/30 [00:03<00:00,  8.51it/s]\n",
      "100%|█████████████████████████████████████████████████████████████████████████████████████████████████████████████████████████████████████████████████████████| 10/10 [00:07<00:00,  1.29it/s]\n",
      "100%|█████████████████████████████████████████████████████████████████████████████████████████████████████████████████████████████████████████████████████████| 30/30 [00:23<00:00,  1.30it/s]\n",
      "100%|█████████████████████████████████████████████████████████████████████████████████████████████████████████████████████████████████████████████████████████| 10/10 [00:07<00:00,  1.31it/s]\n",
      "100%|█████████████████████████████████████████████████████████████████████████████████████████████████████████████████████████████████████████████████████████| 30/30 [00:23<00:00,  1.30it/s]\n",
      "100%|█████████████████████████████████████████████████████████████████████████████████████████████████████████████████████████████████████████████████████████| 30/30 [00:23<00:00,  1.28it/s]"
     ]
    },
    {
     "name": "stdout",
     "output_type": "stream",
     "text": [
      "{'dice': 0.7300000190734863, 'f1': 0.7400000095367432, 'avd': 25.6299991607666, 'hd95': 4.0, 'recall': 0.7400000095367432}\n"
     ]
    },
    {
     "name": "stderr",
     "output_type": "stream",
     "text": [
      "\n"
     ]
    }
   ],
   "source": [
    "for i in range(1):\n",
    "    \n",
    "    ckpt_path = f\"~/Documents/PhD_projects/LossFunctionsUQ/lossfuncs_WMH_UQ/uloss_wmh/run/testing/epoch=179-step=22694.ckpt\"\n",
    "    loss_name = \"local test brier dice\"\n",
    "    lr = \"2e-4\"\n",
    "    outchannels = 1\n",
    "    loss_dir = \".\"\n",
    "    \n",
    "    print(loss_name)\n",
    "    \n",
    "    if lr == 'lr0.003':\n",
    "        continue\n",
    "    \n",
    "    if outchannels == 2:\n",
    "        model_base = model2\n",
    "    else:\n",
    "        model_base = model1\n",
    "        \n",
    "    model = StandardLitModelWrapper.load_from_checkpoint(checkpoint_path=ckpt_path, model=model_base, loss=None, optimizer_configurator=custom_optim_config)\n",
    "    \n",
    "    try:\n",
    "        os.mkdir(f\"initial_model_results/{loss_name}_{lr}\")\n",
    "    except:\n",
    "        print(\"assume folder exists\")\n",
    "        \n",
    "    preds, preds_dss = load_model_HF_preds(model)\n",
    "    combined_metrics, metrics_per_domain = combined_challenge_metrics(preds_dss, labels_dss, model, loss_dir)\n",
    "    \n",
    "    chal_metrics = weighted_challenge_metrics(metrics_per_domain)\n",
    "    print(chal_metrics)\n",
    "    \n",
    "#     dice_distribution(combined_metrics, loss_name, lr)\n",
    "#     AVD_Dice_plot(combined_metrics, loss_name, lr)\n",
    "#     AVD_Volume_plot(volumes,combined_metrics , loss_name, lr)\n",
    "    \n",
    "#     inputs = get_inputs(test_dss)\n",
    "#     labels = get_labels(test_dss)\n",
    "#     model_preds = preds\n",
    "    \n",
    "#     prediction_voxels = get_prediction_voxels(labels, model_preds, threshold=0.03, steps=0)  \n",
    "#     softmax_confidence_distribution(prediction_voxels, loss_name, lr)    \n",
    "#     (bins, confidences, accuracies), expected_calibration_error = compute_calibration_curve(model_preds, labels, prediction_threshold=0., num_bins=20)  \n",
    "#     print(\"ECE: \", expected_calibration_error)\n",
    "#     plot_calibration(confidences, accuracies, expected_calibration_error, loss_name, lr)\n",
    "#     ind_confidences, ind_accuracies, ind_eces = compute_calibration_curve_per_individual(model_preds, labels, prediction_threshold=0., convert_to_numpy=True, num_bins=10)\n",
    "#     individual_calib_plots(ind_confidences, ind_accuracies, ind_eces, loss_name, lr)\n",
    "#     bins, precisions, recalls = precision_recall_curves(model_preds, labels)\n",
    "#     precision_recall_curve(bins, precisions, recalls, loss_name, lr)\n",
    "    \n",
    "#     ent_maps = softmax_ent(model_preds)\n",
    "#     u_thresholds = torch.arange(0, 0.75, 0.05)\n",
    "#     ueos = UEO_curve(model_preds, ent_maps, labels, u_thresholds)\n",
    "#     plot_ueo_curve(u_thresholds, ueos, loss_name, lr)\n",
    "    \n",
    "#     bras_score = compute_BraS_Score(u_thresholds, model_preds, ent_maps, labels, masks)\n",
    "#     mean_FN_coverage, size_entirely_missed_lesions, mean_missed_lesion_coverage, prop_entirely_missed = conn_comp_2d_analysis(u_thresholds, labels, model_preds, ent_maps)\n",
    "\n",
    "#     plot_lesion_coverage_statistics1(u_thresholds, mean_FN_coverage, size_entirely_missed_lesions, mean_missed_lesion_coverage, prop_entirely_missed, loss_name, lr)\n",
    "#     plot_lesion_coverage_statistics2(u_thresholds, mean_FN_coverage, size_entirely_missed_lesions, mean_missed_lesion_coverage, prop_entirely_missed, loss_name, lr)\n",
    "#     plot_lesion_coverage_statistics3(u_thresholds, mean_FN_coverage, size_entirely_missed_lesions, mean_missed_lesion_coverage, prop_entirely_missed, loss_name, lr)\n",
    "#     plot_lesion_coverage_statistics4(u_thresholds, mean_FN_coverage, size_entirely_missed_lesions, mean_missed_lesion_coverage, prop_entirely_missed, loss_name, lr)\n",
    "\n",
    "#     with open(f\"initial_model_results/{loss_name}_{lr}/data.txt\", \"w\") as f:\n",
    "#         f.write(f\"bras: {bras_score}\\n\")\n",
    "#         f.write(f\"ece: {expected_calibration_error}\\n\")\n",
    "#         f.write(f\"dice: {chal_metrics['dice']}\\n\")\n",
    "#         f.write(f\"f1: {chal_metrics['f1']}\\n\")\n",
    "#         f.write(f\"avd: {chal_metrics['avd']}\\n\")\n",
    "#         f.write(f\"hd95: {chal_metrics['hd95']}\\n\")\n",
    "#         f.write(f\"recall: {chal_metrics['recall']}\\n\")\n",
    "#     # break"
   ]
  },
  {
   "cell_type": "markdown",
   "id": "443ff866-4bf3-41a0-897a-eba9f93b03b5",
   "metadata": {},
   "source": [
    "performance without model.eval() on. There is a big difference here! (especially in AVD!!!)\n",
    "\n",
    "{'dice': 0.7200000286102295, 'f1': 0.7300000190734863, 'avd': 33.040000915527344, 'hd95': 4.070000171661377, 'recall': 0.7699999809265137}\n",
    "\n",
    "\n"
   ]
  },
  {
   "cell_type": "code",
   "execution_count": 51,
   "id": "e8f98909-29ec-4184-8588-53a54136f671",
   "metadata": {
    "tags": []
   },
   "outputs": [
    {
     "name": "stderr",
     "output_type": "stream",
     "text": [
      " 20%|██████████████████████████████▊                                                                                                                           | 2/10 [00:00<00:01,  6.53it/s]"
     ]
    },
    {
     "name": "stdout",
     "output_type": "stream",
     "text": [
      "tensor(-9824468., device='cuda:0')\n",
      "tensor(-8454376., device='cuda:0')\n"
     ]
    },
    {
     "name": "stderr",
     "output_type": "stream",
     "text": [
      " 40%|█████████████████████████████████████████████████████████████▌                                                                                            | 4/10 [00:00<00:00,  7.61it/s]"
     ]
    },
    {
     "name": "stdout",
     "output_type": "stream",
     "text": [
      "tensor(-9229462., device='cuda:0')\n",
      "tensor(-12095422., device='cuda:0')\n"
     ]
    },
    {
     "name": "stderr",
     "output_type": "stream",
     "text": [
      " 60%|████████████████████████████████████████████████████████████████████████████████████████████▍                                                             | 6/10 [00:00<00:00,  7.89it/s]"
     ]
    },
    {
     "name": "stdout",
     "output_type": "stream",
     "text": [
      "tensor(-11357383., device='cuda:0')\n",
      "tensor(-12954313., device='cuda:0')\n"
     ]
    },
    {
     "name": "stderr",
     "output_type": "stream",
     "text": [
      " 80%|███████████████████████████████████████████████████████████████████████████████████████████████████████████████████████████▏                              | 8/10 [00:01<00:00,  8.01it/s]"
     ]
    },
    {
     "name": "stdout",
     "output_type": "stream",
     "text": [
      "tensor(-11876437., device='cuda:0')\n",
      "tensor(-9356236., device='cuda:0')\n"
     ]
    },
    {
     "name": "stderr",
     "output_type": "stream",
     "text": [
      "100%|█████████████████████████████████████████████████████████████████████████████████████████████████████████████████████████████████████████████████████████| 10/10 [00:01<00:00,  7.71it/s]"
     ]
    },
    {
     "name": "stdout",
     "output_type": "stream",
     "text": [
      "tensor(-8602926., device='cuda:0')\n",
      "tensor(-12245698., device='cuda:0')\n"
     ]
    },
    {
     "name": "stderr",
     "output_type": "stream",
     "text": [
      "\n"
     ]
    }
   ],
   "source": [
    "with torch.no_grad():\n",
    "    for ds in test_dss:\n",
    "        for data in tqdm(ds):\n",
    "            inp = data['image'].cuda().moveaxis(-1, 0)\n",
    "            out = model(inp)[-1]\n",
    "            print(out[inp[:,2].unsqueeze(1)==1].sum())\n",
    "        break"
   ]
  },
  {
   "cell_type": "code",
   "execution_count": 53,
   "id": "fc33db92-06ee-4bc5-93b6-a7bbe672c7e4",
   "metadata": {
    "tags": []
   },
   "outputs": [
    {
     "name": "stderr",
     "output_type": "stream",
     "text": [
      " 20%|██████████████████████████████▊                                                                                                                           | 2/10 [00:00<00:01,  7.37it/s]"
     ]
    },
    {
     "name": "stdout",
     "output_type": "stream",
     "text": [
      "tensor(-10153560., device='cuda:0')\n",
      "tensor(-7839388.5000, device='cuda:0')\n"
     ]
    },
    {
     "name": "stderr",
     "output_type": "stream",
     "text": [
      " 40%|█████████████████████████████████████████████████████████████▌                                                                                            | 4/10 [00:00<00:00,  8.14it/s]"
     ]
    },
    {
     "name": "stdout",
     "output_type": "stream",
     "text": [
      "tensor(-9195974., device='cuda:0')\n",
      "tensor(-12374337., device='cuda:0')\n"
     ]
    },
    {
     "name": "stderr",
     "output_type": "stream",
     "text": [
      " 60%|████████████████████████████████████████████████████████████████████████████████████████████▍                                                             | 6/10 [00:00<00:00,  8.34it/s]"
     ]
    },
    {
     "name": "stdout",
     "output_type": "stream",
     "text": [
      "tensor(-11329378., device='cuda:0')\n",
      "tensor(-12456984., device='cuda:0')\n"
     ]
    },
    {
     "name": "stderr",
     "output_type": "stream",
     "text": [
      " 80%|███████████████████████████████████████████████████████████████████████████████████████████████████████████████████████████▏                              | 8/10 [00:00<00:00,  8.43it/s]"
     ]
    },
    {
     "name": "stdout",
     "output_type": "stream",
     "text": [
      "tensor(-12108043., device='cuda:0')\n",
      "tensor(-9538880., device='cuda:0')\n"
     ]
    },
    {
     "name": "stderr",
     "output_type": "stream",
     "text": [
      "100%|█████████████████████████████████████████████████████████████████████████████████████████████████████████████████████████████████████████████████████████| 10/10 [00:01<00:00,  8.22it/s]"
     ]
    },
    {
     "name": "stdout",
     "output_type": "stream",
     "text": [
      "tensor(-8481882., device='cuda:0')\n",
      "tensor(-11816230., device='cuda:0')\n"
     ]
    },
    {
     "name": "stderr",
     "output_type": "stream",
     "text": [
      "\n"
     ]
    }
   ],
   "source": [
    "with torch.no_grad():\n",
    "    model.eval()\n",
    "    for ds in test_dss:\n",
    "        for data in tqdm(ds):\n",
    "            inp = data['image'].cuda().moveaxis(-1, 0)\n",
    "            out = model(inp)[-1]\n",
    "            print(out[inp[:,2].unsqueeze(1)==1].sum())\n",
    "        break"
   ]
  },
  {
   "cell_type": "code",
   "execution_count": 437,
   "id": "045adb22-a3cd-46b2-ad28-2a6729069f54",
   "metadata": {
    "tags": []
   },
   "outputs": [
    {
     "data": {
      "text/plain": [
       "tensor([ 5, 10])"
      ]
     },
     "execution_count": 437,
     "metadata": {},
     "output_type": "execute_result"
    }
   ],
   "source": [
    "torch.arange(5, 11, 5)"
   ]
  },
  {
   "cell_type": "code",
   "execution_count": 438,
   "id": "f4846516-c6f0-4665-8d31-16b024b6ac20",
   "metadata": {
    "tags": []
   },
   "outputs": [],
   "source": [
    "def calculate_best_tau(model):\n",
    "    best_ece = 1\n",
    "    best_tau = 1\n",
    "    for t in torch.arange(5, 11, 5):\n",
    "        print(t)\n",
    "        preds, preds_dss = load_model_preds(model, t)\n",
    "        model_preds = preds\n",
    "        (bins, confidences, accuracies), expected_calibration_error = compute_calibration_curve(model_preds, labels, prediction_threshold=0., num_bins=20)  \n",
    "        print(\"ECE: \", expected_calibration_error)\n",
    "        if expected_calibration_error < best_ece:\n",
    "            best_ece = expected_calibration_error\n",
    "            best_tau = t\n",
    "            \n",
    "    return best_tau"
   ]
  },
  {
   "cell_type": "code",
   "execution_count": 439,
   "id": "3e5a156e-9e81-4def-ae58-c48d72fd6db1",
   "metadata": {
    "tags": []
   },
   "outputs": [
    {
     "name": "stdout",
     "output_type": "stream",
     "text": [
      "tensor(5)\n"
     ]
    },
    {
     "name": "stderr",
     "output_type": "stream",
     "text": [
      "100%|████████████████████████████████████████████████████████████| 10/10 [00:01<00:00,  7.90it/s]\n",
      "100%|████████████████████████████████████████████████████████████| 30/30 [00:03<00:00,  8.17it/s]\n",
      "100%|████████████████████████████████████████████████████████████| 10/10 [00:01<00:00,  8.04it/s]\n",
      "100%|████████████████████████████████████████████████████████████| 30/30 [00:03<00:00,  8.05it/s]\n",
      "100%|████████████████████████████████████████████████████████████| 30/30 [00:03<00:00,  8.03it/s]\n",
      "100%|████████████████████████████████████████████████████████████| 20/20 [00:11<00:00,  1.69it/s]\n"
     ]
    },
    {
     "name": "stdout",
     "output_type": "stream",
     "text": [
      "ECE:  0.19655046589236894\n",
      "tensor(10)\n"
     ]
    },
    {
     "name": "stderr",
     "output_type": "stream",
     "text": [
      "100%|████████████████████████████████████████████████████████████| 10/10 [00:01<00:00,  7.78it/s]\n",
      "100%|████████████████████████████████████████████████████████████| 30/30 [00:03<00:00,  8.13it/s]\n",
      "100%|████████████████████████████████████████████████████████████| 10/10 [00:01<00:00,  8.10it/s]\n",
      "100%|████████████████████████████████████████████████████████████| 30/30 [00:03<00:00,  8.06it/s]\n",
      "100%|████████████████████████████████████████████████████████████| 30/30 [00:03<00:00,  8.06it/s]\n",
      "100%|████████████████████████████████████████████████████████████| 20/20 [00:15<00:00,  1.31it/s]"
     ]
    },
    {
     "name": "stdout",
     "output_type": "stream",
     "text": [
      "ECE:  0.18209188298493356\n"
     ]
    },
    {
     "name": "stderr",
     "output_type": "stream",
     "text": [
      "\n"
     ]
    },
    {
     "data": {
      "text/plain": [
       "tensor(10)"
      ]
     },
     "execution_count": 439,
     "metadata": {},
     "output_type": "execute_result"
    }
   ],
   "source": [
    "calculate_best_tau(model)"
   ]
  },
  {
   "cell_type": "code",
   "execution_count": 441,
   "id": "b6131098-b0e9-4841-9006-1a4850c8e63f",
   "metadata": {
    "tags": []
   },
   "outputs": [
    {
     "data": {
      "text/plain": [
       "'tversly_beta.7'"
      ]
     },
     "execution_count": 441,
     "metadata": {},
     "output_type": "execute_result"
    }
   ],
   "source": [
    "loss_name"
   ]
  },
  {
   "cell_type": "code",
   "execution_count": 440,
   "id": "77d1c3f7-08be-456b-a2f8-482717ca8e86",
   "metadata": {
    "tags": []
   },
   "outputs": [
    {
     "name": "stderr",
     "output_type": "stream",
     "text": [
      "100%|████████████████████████████████████████████████████████████| 10/10 [00:01<00:00,  7.89it/s]\n",
      "100%|████████████████████████████████████████████████████████████| 30/30 [00:03<00:00,  8.31it/s]\n",
      "100%|████████████████████████████████████████████████████████████| 10/10 [00:01<00:00,  8.34it/s]\n",
      "100%|████████████████████████████████████████████████████████████| 30/30 [00:03<00:00,  8.28it/s]\n",
      "100%|████████████████████████████████████████████████████████████| 30/30 [00:03<00:00,  8.30it/s]\n"
     ]
    }
   ],
   "source": [
    "preds, preds_dss = load_model_preds(model, 10)"
   ]
  },
  {
   "cell_type": "code",
   "execution_count": 444,
   "id": "18f17395-32ef-4493-9746-6d6a39d41732",
   "metadata": {
    "tags": []
   },
   "outputs": [],
   "source": [
    "model_preds = preds"
   ]
  },
  {
   "cell_type": "code",
   "execution_count": 445,
   "id": "1ea4c1af-22cd-467e-982a-0ce86d941000",
   "metadata": {
    "tags": []
   },
   "outputs": [
    {
     "name": "stderr",
     "output_type": "stream",
     "text": [
      "  0%|                                                                     | 0/20 [00:00<?, ?it/s]Mean of empty slice.\n",
      "invalid value encountered in scalar divide\n",
      "invalid value encountered in divide\n",
      "100%|████████████████████████████████████████████████████████████| 20/20 [00:15<00:00,  1.31it/s]\n"
     ]
    }
   ],
   "source": [
    "(bins, confidences, accuracies), expected_calibration_error = compute_calibration_curve(model_preds, labels, prediction_threshold=0., num_bins=20) "
   ]
  },
  {
   "cell_type": "code",
   "execution_count": 448,
   "id": "2074e556-978c-47ce-965f-0abe7b7e0742",
   "metadata": {
    "tags": []
   },
   "outputs": [
    {
     "ename": "FileNotFoundError",
     "evalue": "[Errno 2] No such file or directory: 'initial_model_results/tversly_beta.7_lr0.0003/calibration.jpg'",
     "output_type": "error",
     "traceback": [
      "\u001b[0;31m---------------------------------------------------------------------------\u001b[0m",
      "\u001b[0;31mFileNotFoundError\u001b[0m                         Traceback (most recent call last)",
      "Cell \u001b[0;32mIn[448], line 1\u001b[0m\n\u001b[0;32m----> 1\u001b[0m \u001b[43mplot_calibration\u001b[49m\u001b[43m(\u001b[49m\u001b[43mconfidences\u001b[49m\u001b[43m,\u001b[49m\u001b[43m \u001b[49m\u001b[43maccuracies\u001b[49m\u001b[43m,\u001b[49m\u001b[43m \u001b[49m\u001b[43mexpected_calibration_error\u001b[49m\u001b[43m,\u001b[49m\u001b[43m \u001b[49m\u001b[43mloss_name\u001b[49m\u001b[43m,\u001b[49m\u001b[43m \u001b[49m\u001b[43mlr\u001b[49m\u001b[43m)\u001b[49m\n",
      "Cell \u001b[0;32mIn[411], line 9\u001b[0m, in \u001b[0;36mplot_calibration\u001b[0;34m(confidences, accuracies, ece, loss_name, lr)\u001b[0m\n\u001b[1;32m      7\u001b[0m plt\u001b[38;5;241m.\u001b[39mylabel(\u001b[38;5;124m\"\u001b[39m\u001b[38;5;124mProportion of WMH\u001b[39m\u001b[38;5;124m\"\u001b[39m)\n\u001b[1;32m      8\u001b[0m plt\u001b[38;5;241m.\u001b[39mtitle(\u001b[38;5;124mf\u001b[39m\u001b[38;5;124m\"\u001b[39m\u001b[38;5;124mCalibration Curve: \u001b[39m\u001b[38;5;132;01m{\u001b[39;00mloss_name\u001b[38;5;132;01m}\u001b[39;00m\u001b[38;5;124m \u001b[39m\u001b[38;5;132;01m{\u001b[39;00mlr\u001b[38;5;132;01m}\u001b[39;00m\u001b[38;5;130;01m\\n\u001b[39;00m\u001b[38;5;124mECE: \u001b[39m\u001b[38;5;132;01m{\u001b[39;00mece\u001b[38;5;132;01m:\u001b[39;00m\u001b[38;5;124m.3\u001b[39m\u001b[38;5;132;01m}\u001b[39;00m\u001b[38;5;124m\"\u001b[39m)\n\u001b[0;32m----> 9\u001b[0m \u001b[43mplt\u001b[49m\u001b[38;5;241;43m.\u001b[39;49m\u001b[43msavefig\u001b[49m\u001b[43m(\u001b[49m\u001b[38;5;124;43mf\u001b[39;49m\u001b[38;5;124;43m\"\u001b[39;49m\u001b[38;5;124;43minitial_model_results/\u001b[39;49m\u001b[38;5;132;43;01m{\u001b[39;49;00m\u001b[43mloss_name\u001b[49m\u001b[38;5;132;43;01m}\u001b[39;49;00m\u001b[38;5;124;43m_\u001b[39;49m\u001b[38;5;132;43;01m{\u001b[39;49;00m\u001b[43mlr\u001b[49m\u001b[38;5;132;43;01m}\u001b[39;49;00m\u001b[38;5;124;43m/\u001b[39;49m\u001b[38;5;124;43m\"\u001b[39;49m\u001b[43m \u001b[49m\u001b[38;5;241;43m+\u001b[39;49m\u001b[43m \u001b[49m\u001b[38;5;124;43m\"\u001b[39;49m\u001b[38;5;124;43mcalibration\u001b[39;49m\u001b[38;5;124;43m\"\u001b[39;49m\u001b[43m \u001b[49m\u001b[38;5;241;43m+\u001b[39;49m\u001b[43m \u001b[49m\u001b[38;5;124;43m\"\u001b[39;49m\u001b[38;5;124;43m.jpg\u001b[39;49m\u001b[38;5;124;43m\"\u001b[39;49m\u001b[43m,\u001b[49m\u001b[43m \u001b[49m\u001b[43mbbox_inches\u001b[49m\u001b[38;5;241;43m=\u001b[39;49m\u001b[38;5;124;43m'\u001b[39;49m\u001b[38;5;124;43mtight\u001b[39;49m\u001b[38;5;124;43m'\u001b[39;49m\u001b[43m)\u001b[49m\n\u001b[1;32m     10\u001b[0m plt\u001b[38;5;241m.\u001b[39mshow()\n\u001b[1;32m     11\u001b[0m plt\u001b[38;5;241m.\u001b[39mclf()\n",
      "File \u001b[0;32m~/.local/lib/python3.10/site-packages/matplotlib/pyplot.py:1023\u001b[0m, in \u001b[0;36msavefig\u001b[0;34m(*args, **kwargs)\u001b[0m\n\u001b[1;32m   1020\u001b[0m \u001b[38;5;129m@_copy_docstring_and_deprecators\u001b[39m(Figure\u001b[38;5;241m.\u001b[39msavefig)\n\u001b[1;32m   1021\u001b[0m \u001b[38;5;28;01mdef\u001b[39;00m \u001b[38;5;21msavefig\u001b[39m(\u001b[38;5;241m*\u001b[39margs, \u001b[38;5;241m*\u001b[39m\u001b[38;5;241m*\u001b[39mkwargs):\n\u001b[1;32m   1022\u001b[0m     fig \u001b[38;5;241m=\u001b[39m gcf()\n\u001b[0;32m-> 1023\u001b[0m     res \u001b[38;5;241m=\u001b[39m \u001b[43mfig\u001b[49m\u001b[38;5;241;43m.\u001b[39;49m\u001b[43msavefig\u001b[49m\u001b[43m(\u001b[49m\u001b[38;5;241;43m*\u001b[39;49m\u001b[43margs\u001b[49m\u001b[43m,\u001b[49m\u001b[43m \u001b[49m\u001b[38;5;241;43m*\u001b[39;49m\u001b[38;5;241;43m*\u001b[39;49m\u001b[43mkwargs\u001b[49m\u001b[43m)\u001b[49m\n\u001b[1;32m   1024\u001b[0m     fig\u001b[38;5;241m.\u001b[39mcanvas\u001b[38;5;241m.\u001b[39mdraw_idle()  \u001b[38;5;66;03m# Need this if 'transparent=True', to reset colors.\u001b[39;00m\n\u001b[1;32m   1025\u001b[0m     \u001b[38;5;28;01mreturn\u001b[39;00m res\n",
      "File \u001b[0;32m~/.local/lib/python3.10/site-packages/matplotlib/figure.py:3343\u001b[0m, in \u001b[0;36mFigure.savefig\u001b[0;34m(self, fname, transparent, **kwargs)\u001b[0m\n\u001b[1;32m   3339\u001b[0m     \u001b[38;5;28;01mfor\u001b[39;00m ax \u001b[38;5;129;01min\u001b[39;00m \u001b[38;5;28mself\u001b[39m\u001b[38;5;241m.\u001b[39maxes:\n\u001b[1;32m   3340\u001b[0m         stack\u001b[38;5;241m.\u001b[39menter_context(\n\u001b[1;32m   3341\u001b[0m             ax\u001b[38;5;241m.\u001b[39mpatch\u001b[38;5;241m.\u001b[39m_cm_set(facecolor\u001b[38;5;241m=\u001b[39m\u001b[38;5;124m'\u001b[39m\u001b[38;5;124mnone\u001b[39m\u001b[38;5;124m'\u001b[39m, edgecolor\u001b[38;5;241m=\u001b[39m\u001b[38;5;124m'\u001b[39m\u001b[38;5;124mnone\u001b[39m\u001b[38;5;124m'\u001b[39m))\n\u001b[0;32m-> 3343\u001b[0m \u001b[38;5;28;43mself\u001b[39;49m\u001b[38;5;241;43m.\u001b[39;49m\u001b[43mcanvas\u001b[49m\u001b[38;5;241;43m.\u001b[39;49m\u001b[43mprint_figure\u001b[49m\u001b[43m(\u001b[49m\u001b[43mfname\u001b[49m\u001b[43m,\u001b[49m\u001b[43m \u001b[49m\u001b[38;5;241;43m*\u001b[39;49m\u001b[38;5;241;43m*\u001b[39;49m\u001b[43mkwargs\u001b[49m\u001b[43m)\u001b[49m\n",
      "File \u001b[0;32m~/.local/lib/python3.10/site-packages/matplotlib/backend_bases.py:2366\u001b[0m, in \u001b[0;36mFigureCanvasBase.print_figure\u001b[0;34m(self, filename, dpi, facecolor, edgecolor, orientation, format, bbox_inches, pad_inches, bbox_extra_artists, backend, **kwargs)\u001b[0m\n\u001b[1;32m   2362\u001b[0m \u001b[38;5;28;01mtry\u001b[39;00m:\n\u001b[1;32m   2363\u001b[0m     \u001b[38;5;66;03m# _get_renderer may change the figure dpi (as vector formats\u001b[39;00m\n\u001b[1;32m   2364\u001b[0m     \u001b[38;5;66;03m# force the figure dpi to 72), so we need to set it again here.\u001b[39;00m\n\u001b[1;32m   2365\u001b[0m     \u001b[38;5;28;01mwith\u001b[39;00m cbook\u001b[38;5;241m.\u001b[39m_setattr_cm(\u001b[38;5;28mself\u001b[39m\u001b[38;5;241m.\u001b[39mfigure, dpi\u001b[38;5;241m=\u001b[39mdpi):\n\u001b[0;32m-> 2366\u001b[0m         result \u001b[38;5;241m=\u001b[39m \u001b[43mprint_method\u001b[49m\u001b[43m(\u001b[49m\n\u001b[1;32m   2367\u001b[0m \u001b[43m            \u001b[49m\u001b[43mfilename\u001b[49m\u001b[43m,\u001b[49m\n\u001b[1;32m   2368\u001b[0m \u001b[43m            \u001b[49m\u001b[43mfacecolor\u001b[49m\u001b[38;5;241;43m=\u001b[39;49m\u001b[43mfacecolor\u001b[49m\u001b[43m,\u001b[49m\n\u001b[1;32m   2369\u001b[0m \u001b[43m            \u001b[49m\u001b[43medgecolor\u001b[49m\u001b[38;5;241;43m=\u001b[39;49m\u001b[43medgecolor\u001b[49m\u001b[43m,\u001b[49m\n\u001b[1;32m   2370\u001b[0m \u001b[43m            \u001b[49m\u001b[43morientation\u001b[49m\u001b[38;5;241;43m=\u001b[39;49m\u001b[43morientation\u001b[49m\u001b[43m,\u001b[49m\n\u001b[1;32m   2371\u001b[0m \u001b[43m            \u001b[49m\u001b[43mbbox_inches_restore\u001b[49m\u001b[38;5;241;43m=\u001b[39;49m\u001b[43m_bbox_inches_restore\u001b[49m\u001b[43m,\u001b[49m\n\u001b[1;32m   2372\u001b[0m \u001b[43m            \u001b[49m\u001b[38;5;241;43m*\u001b[39;49m\u001b[38;5;241;43m*\u001b[39;49m\u001b[43mkwargs\u001b[49m\u001b[43m)\u001b[49m\n\u001b[1;32m   2373\u001b[0m \u001b[38;5;28;01mfinally\u001b[39;00m:\n\u001b[1;32m   2374\u001b[0m     \u001b[38;5;28;01mif\u001b[39;00m bbox_inches \u001b[38;5;129;01mand\u001b[39;00m restore_bbox:\n",
      "File \u001b[0;32m~/.local/lib/python3.10/site-packages/matplotlib/backend_bases.py:2232\u001b[0m, in \u001b[0;36mFigureCanvasBase._switch_canvas_and_return_print_method.<locals>.<lambda>\u001b[0;34m(*args, **kwargs)\u001b[0m\n\u001b[1;32m   2228\u001b[0m     optional_kws \u001b[38;5;241m=\u001b[39m {  \u001b[38;5;66;03m# Passed by print_figure for other renderers.\u001b[39;00m\n\u001b[1;32m   2229\u001b[0m         \u001b[38;5;124m\"\u001b[39m\u001b[38;5;124mdpi\u001b[39m\u001b[38;5;124m\"\u001b[39m, \u001b[38;5;124m\"\u001b[39m\u001b[38;5;124mfacecolor\u001b[39m\u001b[38;5;124m\"\u001b[39m, \u001b[38;5;124m\"\u001b[39m\u001b[38;5;124medgecolor\u001b[39m\u001b[38;5;124m\"\u001b[39m, \u001b[38;5;124m\"\u001b[39m\u001b[38;5;124morientation\u001b[39m\u001b[38;5;124m\"\u001b[39m,\n\u001b[1;32m   2230\u001b[0m         \u001b[38;5;124m\"\u001b[39m\u001b[38;5;124mbbox_inches_restore\u001b[39m\u001b[38;5;124m\"\u001b[39m}\n\u001b[1;32m   2231\u001b[0m     skip \u001b[38;5;241m=\u001b[39m optional_kws \u001b[38;5;241m-\u001b[39m {\u001b[38;5;241m*\u001b[39minspect\u001b[38;5;241m.\u001b[39msignature(meth)\u001b[38;5;241m.\u001b[39mparameters}\n\u001b[0;32m-> 2232\u001b[0m     print_method \u001b[38;5;241m=\u001b[39m functools\u001b[38;5;241m.\u001b[39mwraps(meth)(\u001b[38;5;28;01mlambda\u001b[39;00m \u001b[38;5;241m*\u001b[39margs, \u001b[38;5;241m*\u001b[39m\u001b[38;5;241m*\u001b[39mkwargs: \u001b[43mmeth\u001b[49m\u001b[43m(\u001b[49m\n\u001b[1;32m   2233\u001b[0m \u001b[43m        \u001b[49m\u001b[38;5;241;43m*\u001b[39;49m\u001b[43margs\u001b[49m\u001b[43m,\u001b[49m\u001b[43m \u001b[49m\u001b[38;5;241;43m*\u001b[39;49m\u001b[38;5;241;43m*\u001b[39;49m\u001b[43m{\u001b[49m\u001b[43mk\u001b[49m\u001b[43m:\u001b[49m\u001b[43m \u001b[49m\u001b[43mv\u001b[49m\u001b[43m \u001b[49m\u001b[38;5;28;43;01mfor\u001b[39;49;00m\u001b[43m \u001b[49m\u001b[43mk\u001b[49m\u001b[43m,\u001b[49m\u001b[43m \u001b[49m\u001b[43mv\u001b[49m\u001b[43m \u001b[49m\u001b[38;5;129;43;01min\u001b[39;49;00m\u001b[43m \u001b[49m\u001b[43mkwargs\u001b[49m\u001b[38;5;241;43m.\u001b[39;49m\u001b[43mitems\u001b[49m\u001b[43m(\u001b[49m\u001b[43m)\u001b[49m\u001b[43m \u001b[49m\u001b[38;5;28;43;01mif\u001b[39;49;00m\u001b[43m \u001b[49m\u001b[43mk\u001b[49m\u001b[43m \u001b[49m\u001b[38;5;129;43;01mnot\u001b[39;49;00m\u001b[43m \u001b[49m\u001b[38;5;129;43;01min\u001b[39;49;00m\u001b[43m \u001b[49m\u001b[43mskip\u001b[49m\u001b[43m}\u001b[49m\u001b[43m)\u001b[49m)\n\u001b[1;32m   2234\u001b[0m \u001b[38;5;28;01melse\u001b[39;00m:  \u001b[38;5;66;03m# Let third-parties do as they see fit.\u001b[39;00m\n\u001b[1;32m   2235\u001b[0m     print_method \u001b[38;5;241m=\u001b[39m meth\n",
      "File \u001b[0;32m~/.local/lib/python3.10/site-packages/matplotlib/backends/backend_agg.py:526\u001b[0m, in \u001b[0;36mFigureCanvasAgg.print_jpg\u001b[0;34m(self, filename_or_obj, pil_kwargs)\u001b[0m\n\u001b[1;32m    521\u001b[0m \u001b[38;5;28;01mdef\u001b[39;00m \u001b[38;5;21mprint_jpg\u001b[39m(\u001b[38;5;28mself\u001b[39m, filename_or_obj, \u001b[38;5;241m*\u001b[39m, pil_kwargs\u001b[38;5;241m=\u001b[39m\u001b[38;5;28;01mNone\u001b[39;00m):\n\u001b[1;32m    522\u001b[0m     \u001b[38;5;66;03m# savefig() has already applied savefig.facecolor; we now set it to\u001b[39;00m\n\u001b[1;32m    523\u001b[0m     \u001b[38;5;66;03m# white to make imsave() blend semi-transparent figures against an\u001b[39;00m\n\u001b[1;32m    524\u001b[0m     \u001b[38;5;66;03m# assumed white background.\u001b[39;00m\n\u001b[1;32m    525\u001b[0m     \u001b[38;5;28;01mwith\u001b[39;00m mpl\u001b[38;5;241m.\u001b[39mrc_context({\u001b[38;5;124m\"\u001b[39m\u001b[38;5;124msavefig.facecolor\u001b[39m\u001b[38;5;124m\"\u001b[39m: \u001b[38;5;124m\"\u001b[39m\u001b[38;5;124mwhite\u001b[39m\u001b[38;5;124m\"\u001b[39m}):\n\u001b[0;32m--> 526\u001b[0m         \u001b[38;5;28;43mself\u001b[39;49m\u001b[38;5;241;43m.\u001b[39;49m\u001b[43m_print_pil\u001b[49m\u001b[43m(\u001b[49m\u001b[43mfilename_or_obj\u001b[49m\u001b[43m,\u001b[49m\u001b[43m \u001b[49m\u001b[38;5;124;43m\"\u001b[39;49m\u001b[38;5;124;43mjpeg\u001b[39;49m\u001b[38;5;124;43m\"\u001b[39;49m\u001b[43m,\u001b[49m\u001b[43m \u001b[49m\u001b[43mpil_kwargs\u001b[49m\u001b[43m)\u001b[49m\n",
      "File \u001b[0;32m~/.local/lib/python3.10/site-packages/matplotlib/backends/backend_agg.py:458\u001b[0m, in \u001b[0;36mFigureCanvasAgg._print_pil\u001b[0;34m(self, filename_or_obj, fmt, pil_kwargs, metadata)\u001b[0m\n\u001b[1;32m    453\u001b[0m \u001b[38;5;250m\u001b[39m\u001b[38;5;124;03m\"\"\"\u001b[39;00m\n\u001b[1;32m    454\u001b[0m \u001b[38;5;124;03mDraw the canvas, then save it using `.image.imsave` (to which\u001b[39;00m\n\u001b[1;32m    455\u001b[0m \u001b[38;5;124;03m*pil_kwargs* and *metadata* are forwarded).\u001b[39;00m\n\u001b[1;32m    456\u001b[0m \u001b[38;5;124;03m\"\"\"\u001b[39;00m\n\u001b[1;32m    457\u001b[0m FigureCanvasAgg\u001b[38;5;241m.\u001b[39mdraw(\u001b[38;5;28mself\u001b[39m)\n\u001b[0;32m--> 458\u001b[0m \u001b[43mmpl\u001b[49m\u001b[38;5;241;43m.\u001b[39;49m\u001b[43mimage\u001b[49m\u001b[38;5;241;43m.\u001b[39;49m\u001b[43mimsave\u001b[49m\u001b[43m(\u001b[49m\n\u001b[1;32m    459\u001b[0m \u001b[43m    \u001b[49m\u001b[43mfilename_or_obj\u001b[49m\u001b[43m,\u001b[49m\u001b[43m \u001b[49m\u001b[38;5;28;43mself\u001b[39;49m\u001b[38;5;241;43m.\u001b[39;49m\u001b[43mbuffer_rgba\u001b[49m\u001b[43m(\u001b[49m\u001b[43m)\u001b[49m\u001b[43m,\u001b[49m\u001b[43m \u001b[49m\u001b[38;5;28;43mformat\u001b[39;49m\u001b[38;5;241;43m=\u001b[39;49m\u001b[43mfmt\u001b[49m\u001b[43m,\u001b[49m\u001b[43m \u001b[49m\u001b[43morigin\u001b[49m\u001b[38;5;241;43m=\u001b[39;49m\u001b[38;5;124;43m\"\u001b[39;49m\u001b[38;5;124;43mupper\u001b[39;49m\u001b[38;5;124;43m\"\u001b[39;49m\u001b[43m,\u001b[49m\n\u001b[1;32m    460\u001b[0m \u001b[43m    \u001b[49m\u001b[43mdpi\u001b[49m\u001b[38;5;241;43m=\u001b[39;49m\u001b[38;5;28;43mself\u001b[39;49m\u001b[38;5;241;43m.\u001b[39;49m\u001b[43mfigure\u001b[49m\u001b[38;5;241;43m.\u001b[39;49m\u001b[43mdpi\u001b[49m\u001b[43m,\u001b[49m\u001b[43m \u001b[49m\u001b[43mmetadata\u001b[49m\u001b[38;5;241;43m=\u001b[39;49m\u001b[43mmetadata\u001b[49m\u001b[43m,\u001b[49m\u001b[43m \u001b[49m\u001b[43mpil_kwargs\u001b[49m\u001b[38;5;241;43m=\u001b[39;49m\u001b[43mpil_kwargs\u001b[49m\u001b[43m)\u001b[49m\n",
      "File \u001b[0;32m~/.local/lib/python3.10/site-packages/matplotlib/image.py:1689\u001b[0m, in \u001b[0;36mimsave\u001b[0;34m(fname, arr, vmin, vmax, cmap, format, origin, dpi, metadata, pil_kwargs)\u001b[0m\n\u001b[1;32m   1687\u001b[0m pil_kwargs\u001b[38;5;241m.\u001b[39msetdefault(\u001b[38;5;124m\"\u001b[39m\u001b[38;5;124mformat\u001b[39m\u001b[38;5;124m\"\u001b[39m, \u001b[38;5;28mformat\u001b[39m)\n\u001b[1;32m   1688\u001b[0m pil_kwargs\u001b[38;5;241m.\u001b[39msetdefault(\u001b[38;5;124m\"\u001b[39m\u001b[38;5;124mdpi\u001b[39m\u001b[38;5;124m\"\u001b[39m, (dpi, dpi))\n\u001b[0;32m-> 1689\u001b[0m \u001b[43mimage\u001b[49m\u001b[38;5;241;43m.\u001b[39;49m\u001b[43msave\u001b[49m\u001b[43m(\u001b[49m\u001b[43mfname\u001b[49m\u001b[43m,\u001b[49m\u001b[43m \u001b[49m\u001b[38;5;241;43m*\u001b[39;49m\u001b[38;5;241;43m*\u001b[39;49m\u001b[43mpil_kwargs\u001b[49m\u001b[43m)\u001b[49m\n",
      "File \u001b[0;32m~/.local/lib/python3.10/site-packages/PIL/Image.py:2429\u001b[0m, in \u001b[0;36mImage.save\u001b[0;34m(self, fp, format, **params)\u001b[0m\n\u001b[1;32m   2427\u001b[0m         fp \u001b[38;5;241m=\u001b[39m builtins\u001b[38;5;241m.\u001b[39mopen(filename, \u001b[38;5;124m\"\u001b[39m\u001b[38;5;124mr+b\u001b[39m\u001b[38;5;124m\"\u001b[39m)\n\u001b[1;32m   2428\u001b[0m     \u001b[38;5;28;01melse\u001b[39;00m:\n\u001b[0;32m-> 2429\u001b[0m         fp \u001b[38;5;241m=\u001b[39m \u001b[43mbuiltins\u001b[49m\u001b[38;5;241;43m.\u001b[39;49m\u001b[43mopen\u001b[49m\u001b[43m(\u001b[49m\u001b[43mfilename\u001b[49m\u001b[43m,\u001b[49m\u001b[43m \u001b[49m\u001b[38;5;124;43m\"\u001b[39;49m\u001b[38;5;124;43mw+b\u001b[39;49m\u001b[38;5;124;43m\"\u001b[39;49m\u001b[43m)\u001b[49m\n\u001b[1;32m   2431\u001b[0m \u001b[38;5;28;01mtry\u001b[39;00m:\n\u001b[1;32m   2432\u001b[0m     save_handler(\u001b[38;5;28mself\u001b[39m, fp, filename)\n",
      "\u001b[0;31mFileNotFoundError\u001b[0m: [Errno 2] No such file or directory: 'initial_model_results/tversly_beta.7_lr0.0003/calibration.jpg'"
     ]
    },
    {
     "data": {
      "image/png": "[encoded data removed]",
      "text/plain": [
       "<Figure size 640x480 with 1 Axes>"
      ]
     },
     "metadata": {},
     "output_type": "display_data"
    }
   ],
   "source": [
    "plot_calibration(confidences, accuracies, expected_calibration_error, loss_name, lr)"
   ]
  },
  {
   "cell_type": "code",
   "execution_count": 449,
   "id": "bc56b891-25ae-4262-8c29-6393b38f7b65",
   "metadata": {
    "tags": []
   },
   "outputs": [
    {
     "name": "stderr",
     "output_type": "stream",
     "text": [
      "100%|██████████████████████████████████████████████████████████| 110/110 [00:01<00:00, 60.30it/s]\n",
      "100%|████████████████████████████████████████████████████████████| 15/15 [00:13<00:00,  1.12it/s]\n"
     ]
    },
    {
     "ename": "FileNotFoundError",
     "evalue": "[Errno 2] No such file or directory: 'initial_model_results/tversly_beta.7_lr0.0003/ueo curve.jpg'",
     "output_type": "error",
     "traceback": [
      "\u001b[0;31m---------------------------------------------------------------------------\u001b[0m",
      "\u001b[0;31mFileNotFoundError\u001b[0m                         Traceback (most recent call last)",
      "Cell \u001b[0;32mIn[449], line 3\u001b[0m\n\u001b[1;32m      1\u001b[0m ent_maps \u001b[38;5;241m=\u001b[39m softmax_ent(model_preds)\n\u001b[1;32m      2\u001b[0m ueos \u001b[38;5;241m=\u001b[39m UEO_curve(model_preds, ent_maps, labels, u_thresholds)\n\u001b[0;32m----> 3\u001b[0m \u001b[43mplot_ueo_curve\u001b[49m\u001b[43m(\u001b[49m\u001b[43mu_thresholds\u001b[49m\u001b[43m,\u001b[49m\u001b[43m \u001b[49m\u001b[43mueos\u001b[49m\u001b[43m,\u001b[49m\u001b[43m \u001b[49m\u001b[43mloss_name\u001b[49m\u001b[43m,\u001b[49m\u001b[43m \u001b[49m\u001b[43mlr\u001b[49m\u001b[43m)\u001b[49m\n",
      "Cell \u001b[0;32mIn[403], line 27\u001b[0m, in \u001b[0;36mplot_ueo_curve\u001b[0;34m(u_thresholds, ueos, loss_name, lr)\u001b[0m\n\u001b[1;32m     25\u001b[0m plt\u001b[38;5;241m.\u001b[39mylabel(\u001b[38;5;124m\"\u001b[39m\u001b[38;5;124mUEO score\u001b[39m\u001b[38;5;124m\"\u001b[39m)\n\u001b[1;32m     26\u001b[0m plt\u001b[38;5;241m.\u001b[39mtitle(\u001b[38;5;124mf\u001b[39m\u001b[38;5;124m\"\u001b[39m\u001b[38;5;124mUEO curve - \u001b[39m\u001b[38;5;132;01m{\u001b[39;00mloss_name\u001b[38;5;132;01m}\u001b[39;00m\u001b[38;5;124m \u001b[39m\u001b[38;5;132;01m{\u001b[39;00mlr\u001b[38;5;132;01m}\u001b[39;00m\u001b[38;5;124m\"\u001b[39m)\n\u001b[0;32m---> 27\u001b[0m \u001b[43mplt\u001b[49m\u001b[38;5;241;43m.\u001b[39;49m\u001b[43msavefig\u001b[49m\u001b[43m(\u001b[49m\u001b[38;5;124;43mf\u001b[39;49m\u001b[38;5;124;43m\"\u001b[39;49m\u001b[38;5;124;43minitial_model_results/\u001b[39;49m\u001b[38;5;132;43;01m{\u001b[39;49;00m\u001b[43mloss_name\u001b[49m\u001b[38;5;132;43;01m}\u001b[39;49;00m\u001b[38;5;124;43m_\u001b[39;49m\u001b[38;5;132;43;01m{\u001b[39;49;00m\u001b[43mlr\u001b[49m\u001b[38;5;132;43;01m}\u001b[39;49;00m\u001b[38;5;124;43m/\u001b[39;49m\u001b[38;5;124;43m\"\u001b[39;49m\u001b[43m \u001b[49m\u001b[38;5;241;43m+\u001b[39;49m\u001b[43m \u001b[49m\u001b[38;5;124;43m\"\u001b[39;49m\u001b[38;5;124;43mueo curve\u001b[39;49m\u001b[38;5;124;43m\"\u001b[39;49m\u001b[43m \u001b[49m\u001b[38;5;241;43m+\u001b[39;49m\u001b[43m \u001b[49m\u001b[38;5;124;43m\"\u001b[39;49m\u001b[38;5;124;43m.jpg\u001b[39;49m\u001b[38;5;124;43m\"\u001b[39;49m\u001b[43m,\u001b[49m\u001b[43m \u001b[49m\u001b[43mbbox_inches\u001b[49m\u001b[38;5;241;43m=\u001b[39;49m\u001b[38;5;124;43m'\u001b[39;49m\u001b[38;5;124;43mtight\u001b[39;49m\u001b[38;5;124;43m'\u001b[39;49m\u001b[43m)\u001b[49m\n\u001b[1;32m     28\u001b[0m plt\u001b[38;5;241m.\u001b[39mshow()\n\u001b[1;32m     29\u001b[0m plt\u001b[38;5;241m.\u001b[39mclf()\n",
      "File \u001b[0;32m~/.local/lib/python3.10/site-packages/matplotlib/pyplot.py:1023\u001b[0m, in \u001b[0;36msavefig\u001b[0;34m(*args, **kwargs)\u001b[0m\n\u001b[1;32m   1020\u001b[0m \u001b[38;5;129m@_copy_docstring_and_deprecators\u001b[39m(Figure\u001b[38;5;241m.\u001b[39msavefig)\n\u001b[1;32m   1021\u001b[0m \u001b[38;5;28;01mdef\u001b[39;00m \u001b[38;5;21msavefig\u001b[39m(\u001b[38;5;241m*\u001b[39margs, \u001b[38;5;241m*\u001b[39m\u001b[38;5;241m*\u001b[39mkwargs):\n\u001b[1;32m   1022\u001b[0m     fig \u001b[38;5;241m=\u001b[39m gcf()\n\u001b[0;32m-> 1023\u001b[0m     res \u001b[38;5;241m=\u001b[39m \u001b[43mfig\u001b[49m\u001b[38;5;241;43m.\u001b[39;49m\u001b[43msavefig\u001b[49m\u001b[43m(\u001b[49m\u001b[38;5;241;43m*\u001b[39;49m\u001b[43margs\u001b[49m\u001b[43m,\u001b[49m\u001b[43m \u001b[49m\u001b[38;5;241;43m*\u001b[39;49m\u001b[38;5;241;43m*\u001b[39;49m\u001b[43mkwargs\u001b[49m\u001b[43m)\u001b[49m\n\u001b[1;32m   1024\u001b[0m     fig\u001b[38;5;241m.\u001b[39mcanvas\u001b[38;5;241m.\u001b[39mdraw_idle()  \u001b[38;5;66;03m# Need this if 'transparent=True', to reset colors.\u001b[39;00m\n\u001b[1;32m   1025\u001b[0m     \u001b[38;5;28;01mreturn\u001b[39;00m res\n",
      "File \u001b[0;32m~/.local/lib/python3.10/site-packages/matplotlib/figure.py:3343\u001b[0m, in \u001b[0;36mFigure.savefig\u001b[0;34m(self, fname, transparent, **kwargs)\u001b[0m\n\u001b[1;32m   3339\u001b[0m     \u001b[38;5;28;01mfor\u001b[39;00m ax \u001b[38;5;129;01min\u001b[39;00m \u001b[38;5;28mself\u001b[39m\u001b[38;5;241m.\u001b[39maxes:\n\u001b[1;32m   3340\u001b[0m         stack\u001b[38;5;241m.\u001b[39menter_context(\n\u001b[1;32m   3341\u001b[0m             ax\u001b[38;5;241m.\u001b[39mpatch\u001b[38;5;241m.\u001b[39m_cm_set(facecolor\u001b[38;5;241m=\u001b[39m\u001b[38;5;124m'\u001b[39m\u001b[38;5;124mnone\u001b[39m\u001b[38;5;124m'\u001b[39m, edgecolor\u001b[38;5;241m=\u001b[39m\u001b[38;5;124m'\u001b[39m\u001b[38;5;124mnone\u001b[39m\u001b[38;5;124m'\u001b[39m))\n\u001b[0;32m-> 3343\u001b[0m \u001b[38;5;28;43mself\u001b[39;49m\u001b[38;5;241;43m.\u001b[39;49m\u001b[43mcanvas\u001b[49m\u001b[38;5;241;43m.\u001b[39;49m\u001b[43mprint_figure\u001b[49m\u001b[43m(\u001b[49m\u001b[43mfname\u001b[49m\u001b[43m,\u001b[49m\u001b[43m \u001b[49m\u001b[38;5;241;43m*\u001b[39;49m\u001b[38;5;241;43m*\u001b[39;49m\u001b[43mkwargs\u001b[49m\u001b[43m)\u001b[49m\n",
      "File \u001b[0;32m~/.local/lib/python3.10/site-packages/matplotlib/backend_bases.py:2366\u001b[0m, in \u001b[0;36mFigureCanvasBase.print_figure\u001b[0;34m(self, filename, dpi, facecolor, edgecolor, orientation, format, bbox_inches, pad_inches, bbox_extra_artists, backend, **kwargs)\u001b[0m\n\u001b[1;32m   2362\u001b[0m \u001b[38;5;28;01mtry\u001b[39;00m:\n\u001b[1;32m   2363\u001b[0m     \u001b[38;5;66;03m# _get_renderer may change the figure dpi (as vector formats\u001b[39;00m\n\u001b[1;32m   2364\u001b[0m     \u001b[38;5;66;03m# force the figure dpi to 72), so we need to set it again here.\u001b[39;00m\n\u001b[1;32m   2365\u001b[0m     \u001b[38;5;28;01mwith\u001b[39;00m cbook\u001b[38;5;241m.\u001b[39m_setattr_cm(\u001b[38;5;28mself\u001b[39m\u001b[38;5;241m.\u001b[39mfigure, dpi\u001b[38;5;241m=\u001b[39mdpi):\n\u001b[0;32m-> 2366\u001b[0m         result \u001b[38;5;241m=\u001b[39m \u001b[43mprint_method\u001b[49m\u001b[43m(\u001b[49m\n\u001b[1;32m   2367\u001b[0m \u001b[43m            \u001b[49m\u001b[43mfilename\u001b[49m\u001b[43m,\u001b[49m\n\u001b[1;32m   2368\u001b[0m \u001b[43m            \u001b[49m\u001b[43mfacecolor\u001b[49m\u001b[38;5;241;43m=\u001b[39;49m\u001b[43mfacecolor\u001b[49m\u001b[43m,\u001b[49m\n\u001b[1;32m   2369\u001b[0m \u001b[43m            \u001b[49m\u001b[43medgecolor\u001b[49m\u001b[38;5;241;43m=\u001b[39;49m\u001b[43medgecolor\u001b[49m\u001b[43m,\u001b[49m\n\u001b[1;32m   2370\u001b[0m \u001b[43m            \u001b[49m\u001b[43morientation\u001b[49m\u001b[38;5;241;43m=\u001b[39;49m\u001b[43morientation\u001b[49m\u001b[43m,\u001b[49m\n\u001b[1;32m   2371\u001b[0m \u001b[43m            \u001b[49m\u001b[43mbbox_inches_restore\u001b[49m\u001b[38;5;241;43m=\u001b[39;49m\u001b[43m_bbox_inches_restore\u001b[49m\u001b[43m,\u001b[49m\n\u001b[1;32m   2372\u001b[0m \u001b[43m            \u001b[49m\u001b[38;5;241;43m*\u001b[39;49m\u001b[38;5;241;43m*\u001b[39;49m\u001b[43mkwargs\u001b[49m\u001b[43m)\u001b[49m\n\u001b[1;32m   2373\u001b[0m \u001b[38;5;28;01mfinally\u001b[39;00m:\n\u001b[1;32m   2374\u001b[0m     \u001b[38;5;28;01mif\u001b[39;00m bbox_inches \u001b[38;5;129;01mand\u001b[39;00m restore_bbox:\n",
      "File \u001b[0;32m~/.local/lib/python3.10/site-packages/matplotlib/backend_bases.py:2232\u001b[0m, in \u001b[0;36mFigureCanvasBase._switch_canvas_and_return_print_method.<locals>.<lambda>\u001b[0;34m(*args, **kwargs)\u001b[0m\n\u001b[1;32m   2228\u001b[0m     optional_kws \u001b[38;5;241m=\u001b[39m {  \u001b[38;5;66;03m# Passed by print_figure for other renderers.\u001b[39;00m\n\u001b[1;32m   2229\u001b[0m         \u001b[38;5;124m\"\u001b[39m\u001b[38;5;124mdpi\u001b[39m\u001b[38;5;124m\"\u001b[39m, \u001b[38;5;124m\"\u001b[39m\u001b[38;5;124mfacecolor\u001b[39m\u001b[38;5;124m\"\u001b[39m, \u001b[38;5;124m\"\u001b[39m\u001b[38;5;124medgecolor\u001b[39m\u001b[38;5;124m\"\u001b[39m, \u001b[38;5;124m\"\u001b[39m\u001b[38;5;124morientation\u001b[39m\u001b[38;5;124m\"\u001b[39m,\n\u001b[1;32m   2230\u001b[0m         \u001b[38;5;124m\"\u001b[39m\u001b[38;5;124mbbox_inches_restore\u001b[39m\u001b[38;5;124m\"\u001b[39m}\n\u001b[1;32m   2231\u001b[0m     skip \u001b[38;5;241m=\u001b[39m optional_kws \u001b[38;5;241m-\u001b[39m {\u001b[38;5;241m*\u001b[39minspect\u001b[38;5;241m.\u001b[39msignature(meth)\u001b[38;5;241m.\u001b[39mparameters}\n\u001b[0;32m-> 2232\u001b[0m     print_method \u001b[38;5;241m=\u001b[39m functools\u001b[38;5;241m.\u001b[39mwraps(meth)(\u001b[38;5;28;01mlambda\u001b[39;00m \u001b[38;5;241m*\u001b[39margs, \u001b[38;5;241m*\u001b[39m\u001b[38;5;241m*\u001b[39mkwargs: \u001b[43mmeth\u001b[49m\u001b[43m(\u001b[49m\n\u001b[1;32m   2233\u001b[0m \u001b[43m        \u001b[49m\u001b[38;5;241;43m*\u001b[39;49m\u001b[43margs\u001b[49m\u001b[43m,\u001b[49m\u001b[43m \u001b[49m\u001b[38;5;241;43m*\u001b[39;49m\u001b[38;5;241;43m*\u001b[39;49m\u001b[43m{\u001b[49m\u001b[43mk\u001b[49m\u001b[43m:\u001b[49m\u001b[43m \u001b[49m\u001b[43mv\u001b[49m\u001b[43m \u001b[49m\u001b[38;5;28;43;01mfor\u001b[39;49;00m\u001b[43m \u001b[49m\u001b[43mk\u001b[49m\u001b[43m,\u001b[49m\u001b[43m \u001b[49m\u001b[43mv\u001b[49m\u001b[43m \u001b[49m\u001b[38;5;129;43;01min\u001b[39;49;00m\u001b[43m \u001b[49m\u001b[43mkwargs\u001b[49m\u001b[38;5;241;43m.\u001b[39;49m\u001b[43mitems\u001b[49m\u001b[43m(\u001b[49m\u001b[43m)\u001b[49m\u001b[43m \u001b[49m\u001b[38;5;28;43;01mif\u001b[39;49;00m\u001b[43m \u001b[49m\u001b[43mk\u001b[49m\u001b[43m \u001b[49m\u001b[38;5;129;43;01mnot\u001b[39;49;00m\u001b[43m \u001b[49m\u001b[38;5;129;43;01min\u001b[39;49;00m\u001b[43m \u001b[49m\u001b[43mskip\u001b[49m\u001b[43m}\u001b[49m\u001b[43m)\u001b[49m)\n\u001b[1;32m   2234\u001b[0m \u001b[38;5;28;01melse\u001b[39;00m:  \u001b[38;5;66;03m# Let third-parties do as they see fit.\u001b[39;00m\n\u001b[1;32m   2235\u001b[0m     print_method \u001b[38;5;241m=\u001b[39m meth\n",
      "File \u001b[0;32m~/.local/lib/python3.10/site-packages/matplotlib/backends/backend_agg.py:526\u001b[0m, in \u001b[0;36mFigureCanvasAgg.print_jpg\u001b[0;34m(self, filename_or_obj, pil_kwargs)\u001b[0m\n\u001b[1;32m    521\u001b[0m \u001b[38;5;28;01mdef\u001b[39;00m \u001b[38;5;21mprint_jpg\u001b[39m(\u001b[38;5;28mself\u001b[39m, filename_or_obj, \u001b[38;5;241m*\u001b[39m, pil_kwargs\u001b[38;5;241m=\u001b[39m\u001b[38;5;28;01mNone\u001b[39;00m):\n\u001b[1;32m    522\u001b[0m     \u001b[38;5;66;03m# savefig() has already applied savefig.facecolor; we now set it to\u001b[39;00m\n\u001b[1;32m    523\u001b[0m     \u001b[38;5;66;03m# white to make imsave() blend semi-transparent figures against an\u001b[39;00m\n\u001b[1;32m    524\u001b[0m     \u001b[38;5;66;03m# assumed white background.\u001b[39;00m\n\u001b[1;32m    525\u001b[0m     \u001b[38;5;28;01mwith\u001b[39;00m mpl\u001b[38;5;241m.\u001b[39mrc_context({\u001b[38;5;124m\"\u001b[39m\u001b[38;5;124msavefig.facecolor\u001b[39m\u001b[38;5;124m\"\u001b[39m: \u001b[38;5;124m\"\u001b[39m\u001b[38;5;124mwhite\u001b[39m\u001b[38;5;124m\"\u001b[39m}):\n\u001b[0;32m--> 526\u001b[0m         \u001b[38;5;28;43mself\u001b[39;49m\u001b[38;5;241;43m.\u001b[39;49m\u001b[43m_print_pil\u001b[49m\u001b[43m(\u001b[49m\u001b[43mfilename_or_obj\u001b[49m\u001b[43m,\u001b[49m\u001b[43m \u001b[49m\u001b[38;5;124;43m\"\u001b[39;49m\u001b[38;5;124;43mjpeg\u001b[39;49m\u001b[38;5;124;43m\"\u001b[39;49m\u001b[43m,\u001b[49m\u001b[43m \u001b[49m\u001b[43mpil_kwargs\u001b[49m\u001b[43m)\u001b[49m\n",
      "File \u001b[0;32m~/.local/lib/python3.10/site-packages/matplotlib/backends/backend_agg.py:458\u001b[0m, in \u001b[0;36mFigureCanvasAgg._print_pil\u001b[0;34m(self, filename_or_obj, fmt, pil_kwargs, metadata)\u001b[0m\n\u001b[1;32m    453\u001b[0m \u001b[38;5;250m\u001b[39m\u001b[38;5;124;03m\"\"\"\u001b[39;00m\n\u001b[1;32m    454\u001b[0m \u001b[38;5;124;03mDraw the canvas, then save it using `.image.imsave` (to which\u001b[39;00m\n\u001b[1;32m    455\u001b[0m \u001b[38;5;124;03m*pil_kwargs* and *metadata* are forwarded).\u001b[39;00m\n\u001b[1;32m    456\u001b[0m \u001b[38;5;124;03m\"\"\"\u001b[39;00m\n\u001b[1;32m    457\u001b[0m FigureCanvasAgg\u001b[38;5;241m.\u001b[39mdraw(\u001b[38;5;28mself\u001b[39m)\n\u001b[0;32m--> 458\u001b[0m \u001b[43mmpl\u001b[49m\u001b[38;5;241;43m.\u001b[39;49m\u001b[43mimage\u001b[49m\u001b[38;5;241;43m.\u001b[39;49m\u001b[43mimsave\u001b[49m\u001b[43m(\u001b[49m\n\u001b[1;32m    459\u001b[0m \u001b[43m    \u001b[49m\u001b[43mfilename_or_obj\u001b[49m\u001b[43m,\u001b[49m\u001b[43m \u001b[49m\u001b[38;5;28;43mself\u001b[39;49m\u001b[38;5;241;43m.\u001b[39;49m\u001b[43mbuffer_rgba\u001b[49m\u001b[43m(\u001b[49m\u001b[43m)\u001b[49m\u001b[43m,\u001b[49m\u001b[43m \u001b[49m\u001b[38;5;28;43mformat\u001b[39;49m\u001b[38;5;241;43m=\u001b[39;49m\u001b[43mfmt\u001b[49m\u001b[43m,\u001b[49m\u001b[43m \u001b[49m\u001b[43morigin\u001b[49m\u001b[38;5;241;43m=\u001b[39;49m\u001b[38;5;124;43m\"\u001b[39;49m\u001b[38;5;124;43mupper\u001b[39;49m\u001b[38;5;124;43m\"\u001b[39;49m\u001b[43m,\u001b[49m\n\u001b[1;32m    460\u001b[0m \u001b[43m    \u001b[49m\u001b[43mdpi\u001b[49m\u001b[38;5;241;43m=\u001b[39;49m\u001b[38;5;28;43mself\u001b[39;49m\u001b[38;5;241;43m.\u001b[39;49m\u001b[43mfigure\u001b[49m\u001b[38;5;241;43m.\u001b[39;49m\u001b[43mdpi\u001b[49m\u001b[43m,\u001b[49m\u001b[43m \u001b[49m\u001b[43mmetadata\u001b[49m\u001b[38;5;241;43m=\u001b[39;49m\u001b[43mmetadata\u001b[49m\u001b[43m,\u001b[49m\u001b[43m \u001b[49m\u001b[43mpil_kwargs\u001b[49m\u001b[38;5;241;43m=\u001b[39;49m\u001b[43mpil_kwargs\u001b[49m\u001b[43m)\u001b[49m\n",
      "File \u001b[0;32m~/.local/lib/python3.10/site-packages/matplotlib/image.py:1689\u001b[0m, in \u001b[0;36mimsave\u001b[0;34m(fname, arr, vmin, vmax, cmap, format, origin, dpi, metadata, pil_kwargs)\u001b[0m\n\u001b[1;32m   1687\u001b[0m pil_kwargs\u001b[38;5;241m.\u001b[39msetdefault(\u001b[38;5;124m\"\u001b[39m\u001b[38;5;124mformat\u001b[39m\u001b[38;5;124m\"\u001b[39m, \u001b[38;5;28mformat\u001b[39m)\n\u001b[1;32m   1688\u001b[0m pil_kwargs\u001b[38;5;241m.\u001b[39msetdefault(\u001b[38;5;124m\"\u001b[39m\u001b[38;5;124mdpi\u001b[39m\u001b[38;5;124m\"\u001b[39m, (dpi, dpi))\n\u001b[0;32m-> 1689\u001b[0m \u001b[43mimage\u001b[49m\u001b[38;5;241;43m.\u001b[39;49m\u001b[43msave\u001b[49m\u001b[43m(\u001b[49m\u001b[43mfname\u001b[49m\u001b[43m,\u001b[49m\u001b[43m \u001b[49m\u001b[38;5;241;43m*\u001b[39;49m\u001b[38;5;241;43m*\u001b[39;49m\u001b[43mpil_kwargs\u001b[49m\u001b[43m)\u001b[49m\n",
      "File \u001b[0;32m~/.local/lib/python3.10/site-packages/PIL/Image.py:2429\u001b[0m, in \u001b[0;36mImage.save\u001b[0;34m(self, fp, format, **params)\u001b[0m\n\u001b[1;32m   2427\u001b[0m         fp \u001b[38;5;241m=\u001b[39m builtins\u001b[38;5;241m.\u001b[39mopen(filename, \u001b[38;5;124m\"\u001b[39m\u001b[38;5;124mr+b\u001b[39m\u001b[38;5;124m\"\u001b[39m)\n\u001b[1;32m   2428\u001b[0m     \u001b[38;5;28;01melse\u001b[39;00m:\n\u001b[0;32m-> 2429\u001b[0m         fp \u001b[38;5;241m=\u001b[39m \u001b[43mbuiltins\u001b[49m\u001b[38;5;241;43m.\u001b[39;49m\u001b[43mopen\u001b[49m\u001b[43m(\u001b[49m\u001b[43mfilename\u001b[49m\u001b[43m,\u001b[49m\u001b[43m \u001b[49m\u001b[38;5;124;43m\"\u001b[39;49m\u001b[38;5;124;43mw+b\u001b[39;49m\u001b[38;5;124;43m\"\u001b[39;49m\u001b[43m)\u001b[49m\n\u001b[1;32m   2431\u001b[0m \u001b[38;5;28;01mtry\u001b[39;00m:\n\u001b[1;32m   2432\u001b[0m     save_handler(\u001b[38;5;28mself\u001b[39m, fp, filename)\n",
      "\u001b[0;31mFileNotFoundError\u001b[0m: [Errno 2] No such file or directory: 'initial_model_results/tversly_beta.7_lr0.0003/ueo curve.jpg'"
     ]
    },
    {
     "data": {
      "image/png": "[encoded data removed]",
      "text/plain": [
       "<Figure size 640x480 with 1 Axes>"
      ]
     },
     "metadata": {},
     "output_type": "display_data"
    }
   ],
   "source": [
    "ent_maps = softmax_ent(model_preds)\n",
    "ueos = UEO_curve(model_preds, ent_maps, labels, u_thresholds)\n",
    "plot_ueo_curve(u_thresholds, ueos, loss_name, lr)\n"
   ]
  },
  {
   "cell_type": "code",
   "execution_count": 415,
   "id": "3e11c672-8414-4163-9cc9-f2e701d9e843",
   "metadata": {
    "tags": []
   },
   "outputs": [
    {
     "data": {
      "text/plain": [
       "torch.Size([245187768])"
      ]
     },
     "execution_count": 415,
     "metadata": {},
     "output_type": "execute_result"
    }
   ],
   "source": [
    "prediction_voxels.shape"
   ]
  },
  {
   "cell_type": "code",
   "execution_count": 418,
   "id": "adb2002f-db28-4c4f-9346-dcb4c373e00b",
   "metadata": {
    "tags": []
   },
   "outputs": [
    {
     "data": {
      "text/plain": [
       "tensor(239299804)"
      ]
     },
     "execution_count": 418,
     "metadata": {},
     "output_type": "execute_result"
    }
   ],
   "source": [
    "(prediction_voxels < 0.03).sum()"
   ]
  },
  {
   "cell_type": "code",
   "execution_count": 389,
   "id": "ed9967b0-5de1-4d5b-a33e-32adae52b62d",
   "metadata": {
    "tags": []
   },
   "outputs": [],
   "source": []
  },
  {
   "cell_type": "markdown",
   "id": "6cff8599-d0f4-4776-b242-cb432bc7af69",
   "metadata": {},
   "source": [
    "### Another notebook for doing all of the above but with post-hoc calibration"
   ]
  },
  {
   "cell_type": "code",
   "execution_count": null,
   "id": "0c4338f0-47fa-44a7-9870-c0a5796029b2",
   "metadata": {},
   "outputs": [],
   "source": []
  },
  {
   "cell_type": "code",
   "execution_count": null,
   "id": "39e863db-9434-4063-bebb-99b64c993b9b",
   "metadata": {},
   "outputs": [],
   "source": []
  },
  {
   "cell_type": "markdown",
   "id": "8390b940-41dc-48a9-a338-4af0f0310fb2",
   "metadata": {},
   "source": [
    "### Storing results:\n",
    "\n",
    "Saving all the plots and creating a text file with sUEO, BraS, Coverage at tau=0.4, mean challenge metrics, ece all recorded."
   ]
  },
  {
   "cell_type": "code",
   "execution_count": null,
   "id": "14d73fef-e002-44da-994f-75da70efce76",
   "metadata": {},
   "outputs": [],
   "source": []
  },
  {
   "cell_type": "code",
   "execution_count": null,
   "id": "b6e7086b-7ec9-451d-8666-dae64e25c5fb",
   "metadata": {},
   "outputs": [],
   "source": []
  },
  {
   "cell_type": "code",
   "execution_count": null,
   "id": "bf799a55-e631-482f-a4bd-2717a37a5a48",
   "metadata": {},
   "outputs": [],
   "source": []
  },
  {
   "cell_type": "code",
   "execution_count": null,
   "id": "de865fe9-4a0c-4a30-8897-118aae2ae1ce",
   "metadata": {},
   "outputs": [],
   "source": []
  },
  {
   "cell_type": "code",
   "execution_count": null,
   "id": "b0d91666-70aa-4154-9e97-4ee463d50c81",
   "metadata": {},
   "outputs": [],
   "source": []
  },
  {
   "cell_type": "code",
   "execution_count": null,
   "id": "c3383068-5de7-4090-926f-d3ca46fbe5b2",
   "metadata": {},
   "outputs": [],
   "source": []
  },
  {
   "cell_type": "markdown",
   "id": "442503a8-1fbf-44db-a2a7-91c3c9f8b201",
   "metadata": {},
   "source": [
    "### other evaluation points to compute\n",
    "for each of these it would be nice to be able to separate it per domain.\n",
    "once I have these I have the full set of evaluations for any MICCAI paper that I want to write....\n",
    "- [x] calculating volume\n",
    "- [x] calibration (n step)\n",
    "- [x] calibration vs volume n step\n",
    "- [x] challenge metrics vs volume\n",
    "- [ ] missing instances (and their size)\n",
    "- [ ] introduced instances (and their size)\n",
    "- [ ] uncertainty map coverage of missing lesions\n",
    "- [ ] sUEO\n",
    "- [ ] BraS score\n",
    "- [ ] TP, FP FN scores\n",
    "- [ ] post hoc calibration\n",
    "- [ ] precision / recall per segmentation theshold as in the Dice++ paper.\n",
    "- [ ] sample diversity / GeD (assuming I have an ensemble model, with an Ind output channel).\n",
    "- [ ] lesion coverage in 2D and 3D axial slices\n",
    "- [ ] pavpu metrics"
   ]
  },
  {
   "cell_type": "code",
   "execution_count": null,
   "id": "ff37bbee-2a14-4a30-a54c-9340ef321abb",
   "metadata": {},
   "outputs": [],
   "source": []
  }
 ],
 "metadata": {
  "kernelspec": {
   "display_name": "Python 3 (ipykernel)",
   "language": "python",
   "name": "python3"
  },
  "language_info": {
   "codemirror_mode": {
    "name": "ipython",
    "version": 3
   },
   "file_extension": ".py",
   "mimetype": "text/x-python",
   "name": "python",
   "nbconvert_exporter": "python",
   "pygments_lexer": "ipython3",
   "version": "3.10.11"
  }
 },
 "nbformat": 4,
 "nbformat_minor": 5
}
