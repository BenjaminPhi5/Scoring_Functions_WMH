{
 "cells": [
  {
   "cell_type": "markdown",
   "id": "2b67212e-be1c-4c00-b7ef-1c22b1219d9a",
   "metadata": {},
   "source": [
    "## Eval the new bras score"
   ]
  },
  {
   "cell_type": "code",
   "execution_count": 1,
   "id": "ac534e65-236d-4790-bba6-f3156a9b276e",
   "metadata": {
    "tags": []
   },
   "outputs": [],
   "source": [
    "%load_ext autoreload\n",
    "%autoreload 1"
   ]
  },
  {
   "cell_type": "code",
   "execution_count": 2,
   "id": "efa112cc-9782-4b92-9a10-68348f1c72aa",
   "metadata": {
    "tags": []
   },
   "outputs": [],
   "source": [
    "%autoreload"
   ]
  },
  {
   "cell_type": "code",
   "execution_count": 3,
   "id": "d568644d-c89d-4388-9513-cfe70f38945a",
   "metadata": {
    "tags": []
   },
   "outputs": [],
   "source": [
    "import torch\n",
    "import os\n",
    "import numpy as np\n",
    "import matplotlib.pyplot as plt\n",
    "import seaborn as sns\n",
    "import segmentation_models_pytorch as smp\n",
    "from natsort import natsorted\n",
    "from uloss_wmh.fitting.fitter import StandardLitModelWrapper\n",
    "from uloss_wmh.fitting.optimizer_constructor import OptimizerConfigurator, standard_configurations\n",
    "from tqdm import tqdm"
   ]
  },
  {
   "cell_type": "code",
   "execution_count": 4,
   "id": "9b2dcdd0-611d-4f1f-9099-a09ca889f4ed",
   "metadata": {
    "tags": []
   },
   "outputs": [],
   "source": [
    "from uloss_wmh.evaluate.eval_metrics.weighted_average_challenge_metrics import weighted_challenge_metrics"
   ]
  },
  {
   "cell_type": "code",
   "execution_count": 5,
   "id": "910cc064-bc21-4753-84c4-b28f74598872",
   "metadata": {
    "tags": []
   },
   "outputs": [],
   "source": [
    "from uloss_wmh.evaluate.eval_metrics.challenge_metrics import do_challenge_metrics, per_model_chal_stats, challenge_results_combined_lists"
   ]
  },
  {
   "cell_type": "code",
   "execution_count": 6,
   "id": "1ddb0586-fb48-4d3f-9a4f-47838cfd0c9e",
   "metadata": {
    "tags": []
   },
   "outputs": [],
   "source": [
    "# loss functions\n",
    "from monai.losses import DiceLoss, GeneralizedDiceLoss, FocalLoss, TverskyLoss, DiceCELoss, DiceFocalLoss\n",
    "from uloss_wmh.loss_functions.brier import Brier, BrierPlusDice\n",
    "from uloss_wmh.loss_functions.odyssey_dice import SoftDiceLoss, DC_and_topk_loss\n",
    "from uloss_wmh.loss_functions.odyssey_ND_Crossentropy import TopKLoss, CrossentropyND\n",
    "from uloss_wmh.loss_functions.dice_plusplus import DicePlusPlusLoss"
   ]
  },
  {
   "cell_type": "markdown",
   "id": "ef7a6d34-edde-4ab9-99c9-b2b6946fe200",
   "metadata": {},
   "source": [
    "### loading the train, val and test datasets in 3D this time."
   ]
  },
  {
   "cell_type": "code",
   "execution_count": 7,
   "id": "e45e73dd-788e-42cb-9966-6ded93e23340",
   "metadata": {
    "tags": []
   },
   "outputs": [],
   "source": [
    "from ulw_data.torch_dataset.challenge_dataset_3D import load_3D_wmh_chal\n",
    "from ulw_data.torch_dataset.challenge_data_pipeline import train_data_pipeline"
   ]
  },
  {
   "cell_type": "code",
   "execution_count": 8,
   "id": "71511389-fb2b-47e3-a8a1-d3fa79a127e1",
   "metadata": {
    "tags": []
   },
   "outputs": [],
   "source": [
    "collated_folder = \"/media/benp/NVMEspare/datasets/full_WMH_Chal_dataset_norm05/preprocessed/collated/\"\n",
    "train_ds, val_ds = train_data_pipeline(ds_path=collated_folder, val_proportion=0.15, seed=5, transforms=None, dims=3)"
   ]
  },
  {
   "cell_type": "code",
   "execution_count": 9,
   "id": "b483b947-4de3-4218-8b44-3b5d8a15e982",
   "metadata": {
    "tags": []
   },
   "outputs": [],
   "source": [
    "test_dss = load_3D_wmh_chal(ds_path=collated_folder, train=False, combine=False, remove_mask_channel=False)"
   ]
  },
  {
   "cell_type": "code",
   "execution_count": 10,
   "id": "831110df-06aa-49ac-9402-ad0367134c77",
   "metadata": {
    "tags": []
   },
   "outputs": [
    {
     "data": {
      "text/plain": [
       "5"
      ]
     },
     "execution_count": 10,
     "metadata": {},
     "output_type": "execute_result"
    }
   ],
   "source": [
    "len(test_dss)"
   ]
  },
  {
   "cell_type": "code",
   "execution_count": 11,
   "id": "1100c87b-698e-40ea-9f18-85c30fd4b34d",
   "metadata": {
    "tags": []
   },
   "outputs": [
    {
     "data": {
      "text/plain": [
       "'test_Utrecht_1'"
      ]
     },
     "execution_count": 11,
     "metadata": {},
     "output_type": "execute_result"
    }
   ],
   "source": [
    "test_dss[4][0]['uid']"
   ]
  },
  {
   "cell_type": "code",
   "execution_count": 12,
   "id": "24f70517-e65a-4036-8259-73a00f9cbbc6",
   "metadata": {
    "tags": []
   },
   "outputs": [],
   "source": [
    "# computing the voxel histogram for each image in the test dataset.\n",
    "example = test_dss[0][0]['image'][0]"
   ]
  },
  {
   "cell_type": "code",
   "execution_count": 13,
   "id": "3803e9ae-eac4-4dbc-8033-c39b9e66e69b",
   "metadata": {
    "tags": []
   },
   "outputs": [],
   "source": [
    "flat = example.view(-1)\n",
    "flat = flat[flat != 0]"
   ]
  },
  {
   "cell_type": "code",
   "execution_count": 14,
   "id": "6be730f7-1e81-4be2-8c90-4432c7ecbb78",
   "metadata": {
    "tags": []
   },
   "outputs": [],
   "source": [
    "# get volumes:\n",
    "from uloss_wmh.evaluate.eval_metrics.WMH_volume import GT_volumes\n",
    "\n",
    "ys3d = []\n",
    "for ds in test_dss:\n",
    "    for data in ds:\n",
    "        label = data['label']\n",
    "        ys3d.append(label)\n",
    "    # break # UNCOMMENT DEBUG\n",
    "    \n",
    "volumes = GT_volumes(ys3d, 0.0003)\n",
    "# volumes = volumes[0:10] ## UNCOMMENT DEBUG"
   ]
  },
  {
   "cell_type": "code",
   "execution_count": 15,
   "id": "47b4ad94-9f68-48e1-96b4-5453e282dae1",
   "metadata": {
    "tags": []
   },
   "outputs": [
    {
     "data": {
      "text/plain": [
       "Text(0.5, 0, 'WMH Volume per individual - $mm^3$')"
      ]
     },
     "execution_count": 15,
     "metadata": {},
     "output_type": "execute_result"
    },
    {
     "data": {
      "image/png": "[encoded data removed]",
      "text/plain": [
       "<Figure size 640x480 with 1 Axes>"
      ]
     },
     "metadata": {},
     "output_type": "display_data"
    }
   ],
   "source": [
    "plt.hist(volumes, bins=100)\n",
    "plt.xlabel(r\"WMH Volume per individual - $mm^3$\")"
   ]
  },
  {
   "cell_type": "code",
   "execution_count": 16,
   "id": "10978bb1-ad86-4573-b35d-00b443871451",
   "metadata": {
    "tags": []
   },
   "outputs": [],
   "source": [
    "masks = []\n",
    "for ds in test_dss:\n",
    "    for data in ds:\n",
    "        mask = data['image'][2]\n",
    "        masks.append(mask)\n",
    "    # break # UNCOMMENT DEBUG"
   ]
  },
  {
   "cell_type": "code",
   "execution_count": 17,
   "id": "94edeea5-a514-4d5f-91a8-5e30bd8672a1",
   "metadata": {
    "tags": []
   },
   "outputs": [
    {
     "data": {
      "text/plain": [
       "torch.int64"
      ]
     },
     "execution_count": 17,
     "metadata": {},
     "output_type": "execute_result"
    }
   ],
   "source": [
    "test_dss[0][0]['label'].dtype"
   ]
  },
  {
   "cell_type": "code",
   "execution_count": 18,
   "id": "63cc8fba-6da3-41c8-b948-ebaf20b690de",
   "metadata": {
    "tags": []
   },
   "outputs": [],
   "source": [
    "labels_dss = [[] for _ in range(len(test_dss))]\n",
    "labels = []\n",
    "\n",
    "for i, ds in enumerate(test_dss):\n",
    "    for data in ds:\n",
    "        label = data['label'].squeeze()\n",
    "        labels.append(label)\n",
    "        labels_dss[i].append(label==1)\n",
    "    # break # UNCOMMMENT DEBUG"
   ]
  },
  {
   "cell_type": "code",
   "execution_count": 19,
   "id": "fe7879c3-a981-441d-b2d5-0c98bc40518c",
   "metadata": {
    "tags": []
   },
   "outputs": [],
   "source": [
    "def plot_lesion_coverage_statistics1(u_thresholds, mean_FN_coverage, size_entirely_missed_lesions, mean_missed_lesion_coverage, prop_entirely_missed, folder_name):\n",
    "    plt.plot(u_thresholds, mean_FN_coverage)\n",
    "    plt.title(f\"{folder_name}\")\n",
    "    plt.xlim((0, 1.1))\n",
    "    plt.xlabel(\"Uncertainty threshold\")\n",
    "    plt.ylim((0, 1))\n",
    "    plt.ylabel(\"mean FN coverage\")\n",
    "    plt.savefig(f\"new_model_results/{folder_name}/\" + \"mean_FN_coverage\" + \".jpg\", bbox_inches='tight')\n",
    "    plt.show()\n",
    "    plt.clf()\n",
    "    \n",
    "def plot_lesion_coverage_statistics2(u_thresholds, mean_FN_coverage, size_entirely_missed_lesions, mean_missed_lesion_coverage, prop_entirely_missed, folder_name):\n",
    "\n",
    "    plt.plot(u_thresholds, size_entirely_missed_lesions)\n",
    "    plt.title(f\"{folder_name}\")\n",
    "    plt.xlim((0, 1.1))\n",
    "    plt.xlabel(\"Uncertainty threshold\")\n",
    "    plt.ylim((0, 7))\n",
    "    plt.ylabel(\"size of entirely missed lesions\")\n",
    "    plt.savefig(f\"new_model_results/{folder_name}/\" + \"size_entirely_missed_lesions\" + \".jpg\", bbox_inches='tight')\n",
    "    plt.show()\n",
    "    plt.clf()\n",
    "    \n",
    "def plot_lesion_coverage_statistics3(u_thresholds, mean_FN_coverage, size_entirely_missed_lesions, mean_missed_lesion_coverage, prop_entirely_missed, folder_name):\n",
    "    plt.plot(u_thresholds, mean_missed_lesion_coverage)\n",
    "    plt.title(f\"{folder_name}\")\n",
    "    plt.xlim((0, 1.1))\n",
    "    plt.xlabel(\"Uncertainty threshold\")\n",
    "    plt.ylim((0, 1))\n",
    "    plt.ylabel(\"mean missed lesion coverage\")\n",
    "    plt.savefig(f\"new_model_results/{folder_name}/\" + \"mean_missed_lesion_coverage\" + \".jpg\", bbox_inches='tight')\n",
    "    plt.show()\n",
    "    plt.clf()\n",
    "\n",
    "    \n",
    "def plot_lesion_coverage_statistics4(u_thresholds, mean_FN_coverage, size_entirely_missed_lesions, mean_missed_lesion_coverage, prop_entirely_missed, folder_name):\n",
    "    \n",
    "    plt.plot(u_thresholds, prop_entirely_missed)\n",
    "    plt.title(f\"{folder_name}\")\n",
    "    plt.xlim((0, 1.1))\n",
    "    plt.xlabel(\"Uncertainty threshold\")\n",
    "    plt.ylim((0, 0.4))\n",
    "    plt.ylabel(\"proprtion of lesions entirely missed in uncertainty map\")\n",
    "    plt.savefig(f\"new_model_results/{folder_name}/\" + \"prop_entirely_missed\" + \".jpg\", bbox_inches='tight')\n",
    "    plt.show()\n",
    "    plt.clf()"
   ]
  },
  {
   "cell_type": "code",
   "execution_count": 20,
   "id": "f05fbaee-997f-4ba7-b930-a4a5a5d84dc6",
   "metadata": {
    "tags": []
   },
   "outputs": [],
   "source": [
    "def load_model_preds(model, t=1):\n",
    "    preds_dss = []\n",
    "    with torch.no_grad():\n",
    "        model.eval()\n",
    "        for ds in test_dss:\n",
    "            preds_domain = []\n",
    "            for data in tqdm(ds):\n",
    "                inp = data['image'].cuda().moveaxis(-1, 0)\n",
    "                inp = inp[:,0:2] # remove the mask channel\n",
    "                out = model(inp)\n",
    "                \n",
    "                if out.shape[1] > 1:\n",
    "                    out = torch.softmax(out/t, dim=1)\n",
    "                else:\n",
    "                    out = torch.sigmoid(out/t)\n",
    "                \n",
    "                preds_domain.append(out.moveaxis(0, -1).squeeze().cpu())\n",
    "            preds_dss.append(preds_domain)\n",
    "            # break # UNCOMMENT DEBUG\n",
    "    \n",
    "    # get combined list of all domains together\n",
    "    preds = []\n",
    "    for p in preds_dss:\n",
    "        preds.extend(p)\n",
    "        \n",
    "    return preds, preds_dss"
   ]
  },
  {
   "cell_type": "code",
   "execution_count": 21,
   "id": "d244a878-1f20-429c-a9c0-97e1baceb36a",
   "metadata": {
    "tags": []
   },
   "outputs": [],
   "source": [
    "def combined_challenge_metrics(preds_domain, labels_domain, model, folder_name):\n",
    "    results_domain = []\n",
    "    for i in range(len(preds_domain)):\n",
    "        results_domain.append(per_model_chal_stats([(p.argmax(dim=0)==1) for p in preds_domain[i]], labels_domain[i], do_argmax=False))\n",
    "        \n",
    "    results_combined_df = challenge_results_combined_lists(results_domain, folder_name)\n",
    "    \n",
    "    return results_combined_df, results_domain"
   ]
  },
  {
   "cell_type": "code",
   "execution_count": 22,
   "id": "ae0104b8-89b6-48dd-978e-59364a245f15",
   "metadata": {
    "tags": []
   },
   "outputs": [],
   "source": [
    "def dice_distribution(combined_metrics, folder_name):\n",
    "    ### dice only.\n",
    "    chart = sns.boxplot(data=combined_metrics, y=\"loss_name\", x=\"dice\")\n",
    "    chart.set_yticklabels(chart.get_yticklabels(), rotation=90)\n",
    "    title_str = f\"Dice distribution - {folder_name}\"\n",
    "    plt.title(title_str)\n",
    "    plt.xlim((0,1))\n",
    "    plt.xlabel(\"Dice\")\n",
    "    plt.savefig(f\"new_model_results/{folder_name}/\" + \"dice_dist\" + \".jpg\", bbox_inches='tight')\n",
    "    plt.show()\n",
    "    plt.clf()"
   ]
  },
  {
   "cell_type": "code",
   "execution_count": 23,
   "id": "770dd582-3ea0-4708-810d-5e6270e5501a",
   "metadata": {
    "tags": []
   },
   "outputs": [],
   "source": [
    "def AVD_Dice_plot(data, folder_name):\n",
    "    sns.jointplot(data, x='dice', y='avd')\n",
    "    plt.xlabel('Dice - per Test Set Individual')\n",
    "    plt.ylabel('AVD - per Test Set Individual')\n",
    "    plt.suptitle(f\"AVD vs Dice: {folder_name}\")\n",
    "    plt.xlim((0, 1))\n",
    "    plt.ylim((0, 350))\n",
    "    plt.savefig(f\"new_model_results/{folder_name}/\" + \"avd_dice_plot\" + \".jpg\", bbox_inches='tight')\n",
    "    plt.show()\n",
    "    plt.clf()"
   ]
  },
  {
   "cell_type": "code",
   "execution_count": 24,
   "id": "9c51483b-3de0-4b89-b920-e01eb587e5ed",
   "metadata": {
    "tags": []
   },
   "outputs": [],
   "source": [
    "def AVD_Volume_plot(volumes, data, folder_name):\n",
    "    plt.scatter(volumes, data['avd'])\n",
    "    plt.xscale('log')\n",
    "    plt.title(f\"AVD vs Volume: {folder_name}\")\n",
    "    plt.xlabel(\"WMH GT volume\")\n",
    "    plt.ylim((0, 400))\n",
    "    plt.ylabel(\"AVD\")\n",
    "    plt.savefig(f\"new_model_results/{folder_name}/\" + \"avd_volume_plot\" + \".jpg\", bbox_inches='tight')\n",
    "    plt.show()\n",
    "    plt.clf()"
   ]
  },
  {
   "cell_type": "code",
   "execution_count": 25,
   "id": "13ed0b58-df9f-4510-bc1f-79b4dd52d334",
   "metadata": {
    "tags": []
   },
   "outputs": [],
   "source": [
    "def get_inputs(test_datasets):\n",
    "    inputs = []\n",
    "    for dataset in test_datasets:\n",
    "        for data in dataset:\n",
    "            inputs.append(data['image'])\n",
    "        # break # UNCOMMENT DEBUG\n",
    "    return inputs\n",
    "\n",
    "def get_labels(test_datasets):\n",
    "    labels = []\n",
    "    for dataset in test_datasets:\n",
    "        for data in dataset:\n",
    "            labels.append(data['label'].squeeze()==1)\n",
    "        # break # UNCOMMENT DEBUG\n",
    "    return labels\n",
    "\n",
    "\n",
    "# since the area that I want to check is  predominantly confidently 0, I should compute values at n-step dilation.\n",
    "from kornia.morphology import dilation\n",
    "\n",
    "def dilate_considered_area(pred, label, threshold, steps=0):\n",
    "    pred = pred\n",
    "    step0_area = (pred > threshold) | (label == 1)\n",
    "    step0_area = step0_area.moveaxis(-1,0).unsqueeze(1) # step0_area requries shape B C H W\n",
    "    \n",
    "    result = step0_area.type(torch.float32)\n",
    "    for step in range(steps):\n",
    "        result = dilation(result, kernel=torch.ones(3, 3).to(result.device), engine='convolution')\n",
    "    \n",
    "    return result.squeeze().moveaxis(0, -1).type(torch.long)\n",
    "\n",
    "def get_n_step_dilated_voxels(pred, label, threshold, steps):\n",
    "    dilated = dilate_considered_area(pred, label, threshold=threshold, steps=steps)\n",
    "    return pred[dilated==1]\n",
    "\n",
    "def get_prediction_voxels(labels, model_preds, threshold=0.01, steps=2):\n",
    "    prediction_voxels = []\n",
    "    for i in tqdm(range(len(labels))):\n",
    "        label = labels[i].cuda()\n",
    "        pred = model_preds[i].cuda()\n",
    "        voxels = get_n_step_dilated_voxels(pred, label, threshold=threshold, steps=steps)\n",
    "        prediction_voxels.append(voxels.reshape(-1).cpu())\n",
    "\n",
    "    prediction_voxels = torch.cat(prediction_voxels)\n",
    "    return prediction_voxels"
   ]
  },
  {
   "cell_type": "code",
   "execution_count": 26,
   "id": "b14ba400-9c78-4cca-b9f0-2877f4774d5a",
   "metadata": {
    "tags": []
   },
   "outputs": [],
   "source": [
    "def softmax_confidence_distribution(prediction_voxels, folder_name):\n",
    "    sns.histplot(prediction_voxels, bins=20)\n",
    "    plt.xlabel(f\"Softmax Confidence - {folder_name}\")\n",
    "    plt.savefig(f\"new_model_results/{folder_name}/\" + \"softmax_confidence_distribution\" + \".jpg\", bbox_inches='tight')\n",
    "    plt.show()\n",
    "    plt.clf()"
   ]
  },
  {
   "cell_type": "code",
   "execution_count": 27,
   "id": "4a0c2886-15fd-485d-9a56-7e5f9a534be0",
   "metadata": {
    "tags": []
   },
   "outputs": [],
   "source": [
    "\n",
    "\n",
    "def compute_calibration_curve(predictions, labels, prediction_threshold=0., convert_to_numpy=True, num_bins=20):\n",
    "    \"\"\"Computes the calibration curve of a model.\n",
    "    \n",
    "    modified from a chat with google bard.\n",
    "\n",
    "    Args:\n",
    "    predictions: A list of pytorch tensors of shape (batch_size, height, width).\n",
    "    labels: A list of pytorch tensors of shape (batch_size, height, width).\n",
    "    prediction_threshold: the minimim prediction confidence to be considered\n",
    "\n",
    "    Returns:\n",
    "    A tuple of (calibration_curve, expected_calibration_error).\n",
    "    The calibration_curve is a list of tuples of (confidence, accuracy).\n",
    "    The expected_calibration_error is the average distance between the model's\n",
    "    confidence and a perfectly calibrated model.\n",
    "    \n",
    "    \"\"\"\n",
    "\n",
    "    # Convert the predictions and labels to numpy arrays.\n",
    "    if convert_to_numpy:\n",
    "        predictions = torch.stack(predictions)\n",
    "        labels = torch.stack(labels)\n",
    "        predictions = predictions.cpu().numpy()\n",
    "        labels = labels.cpu().numpy()\n",
    "\n",
    "    # Bin the predictions into 10 equally spaced bins.\n",
    "    bins = np.linspace(prediction_threshold, 1, num_bins)\n",
    "    bin_indices = np.digitize(predictions, bins)\n",
    "    #print(bins)\n",
    "    \n",
    "    # Compute the accuracy in each bin.\n",
    "    accuracies = np.zeros(num_bins)\n",
    "    confidences = np.zeros(num_bins)\n",
    "    for i in tqdm(range(num_bins)):\n",
    "        accuracies[i] = np.mean(labels[bin_indices == i])\n",
    "        confidences[i] = np.mean(predictions[bin_indices == i])\n",
    "\n",
    "    # Compute the expected calibration error.\n",
    "    expected_calibration_error = np.mean(np.abs(confidences[1:] - accuracies[1:]))\n",
    "\n",
    "    # Return the calibration curve and the expected calibration error.\n",
    "    return (bins, confidences, accuracies), expected_calibration_error\n"
   ]
  },
  {
   "cell_type": "code",
   "execution_count": 28,
   "id": "d415ed41-2eec-42d5-b407-b1d20b5480b7",
   "metadata": {
    "tags": []
   },
   "outputs": [],
   "source": [
    "# calibration per individual, and calibration score per volume\n",
    "def compute_calibration_curve_per_individual(predictions, labels, prediction_threshold=0., convert_to_numpy=True, num_bins=20):\n",
    "    \"\"\"Computes the calibration curve of a model.\n",
    "    \n",
    "    modified from a chat with google bard.\n",
    "\n",
    "    Args:\n",
    "    predictions: A list of pytorch tensors of shape (batch_size, height, width).\n",
    "    labels: A list of pytorch tensors of shape (batch_size, height, width).\n",
    "    prediction_threshold: the minimim prediction confidence to be considered\n",
    "\n",
    "    Returns:\n",
    "    list of confidences, accuracies, eces for each individual.\n",
    "    \"\"\"\n",
    "\n",
    "    # Convert the predictions and labels to numpy arrays.\n",
    "    if convert_to_numpy:\n",
    "        predictions = torch.stack(predictions)\n",
    "        labels = torch.stack(labels)\n",
    "        predictions = predictions.cpu().numpy()\n",
    "        labels = labels.cpu().numpy()\n",
    "\n",
    "    # Bin the predictions into 10 equally spaced bins.\n",
    "    bins = np.linspace(prediction_threshold, 1, num_bins)\n",
    "    bin_indices = np.digitize(predictions, bins)\n",
    "    #print(bins)\n",
    "    \n",
    "    individual_accuracies = []\n",
    "    individual_confidences = []\n",
    "    individual_eces = []\n",
    "    \n",
    "    for j in tqdm(range(predictions.shape[0])):\n",
    "        # Compute the accuracy in each bin.\n",
    "        accuracies = np.zeros(num_bins)\n",
    "        confidences = np.zeros(num_bins)\n",
    "        #print(labels[j].max())\n",
    "        for i in range(num_bins):\n",
    "            accuracies[i] = np.mean(labels[j][bin_indices[j] == i])\n",
    "            confidences[i] = np.mean(predictions[j][bin_indices[j] == i])\n",
    "\n",
    "        # Compute the expected calibration error.\n",
    "        expected_calibration_error = np.mean(np.abs(confidences[1:] - accuracies[1:]))\n",
    "        \n",
    "        individual_accuracies.append(accuracies)\n",
    "        individual_confidences.append(confidences)\n",
    "        individual_eces.append(expected_calibration_error)\n",
    "        \n",
    "\n",
    "    # Return the calibration curve and the expected calibration error.\n",
    "    return individual_confidences, individual_accuracies, individual_eces\n"
   ]
  },
  {
   "cell_type": "code",
   "execution_count": 29,
   "id": "a5fcd7a3-d44c-4390-bbfd-ff192dffc1a8",
   "metadata": {
    "tags": []
   },
   "outputs": [],
   "source": [
    "def plot_calibration(confidences, accuracies, ece, folder_name):\n",
    "    plt.plot([0,1],[0,1], c='black')\n",
    "    plt.plot(confidences, accuracies)\n",
    "    #plt.xlim((0.5, 1))\n",
    "    #plt.ylim((0., 1))\n",
    "    plt.xlabel(\"Softmax Confidence\")\n",
    "    plt.ylabel(\"Proportion of WMH\")\n",
    "    plt.title(f\"Calibration Curve: {folder_name}\\nECE: {ece:.3}\")\n",
    "    plt.savefig(f\"new_model_results/{folder_name}/\" + \"calibration\" + \".jpg\", bbox_inches='tight')\n",
    "    plt.show()\n",
    "    plt.clf()"
   ]
  },
  {
   "cell_type": "code",
   "execution_count": 30,
   "id": "7588bf7b-47cf-4786-bdfa-1e64b210fd5b",
   "metadata": {
    "tags": []
   },
   "outputs": [],
   "source": [
    "def individual_calib_plots(ind_confidences, ind_accuracies, ind_eces, folder_name):\n",
    "    plt.plot([0,1], [0,1], c='black')\n",
    "    for i in range(len(ind_confidences)):\n",
    "        plt.plot(ind_confidences[i], ind_accuracies[i])\n",
    "    plt.title(f\"Calibration Curves per individual - {folder_name}\")\n",
    "    plt.savefig(f\"new_model_results/{folder_name}/\" + \"calib_per_ind\" + \".jpg\", bbox_inches='tight')\n",
    "    plt.show()\n",
    "    plt.clf()\n",
    "    \n",
    "    plt.scatter(volumes, ind_eces)\n",
    "    plt.xscale('log')\n",
    "    plt.ylabel(\"Expected Calbiration Error (ECE) per individual\")\n",
    "    plt.xlabel(r\"WMH Volume $mm^3$\")\n",
    "    plt.title(f\"ECE vs Volume {folder_name}\")\n",
    "    plt.savefig(f\"new_model_results/{folder_name}/\" + \"calib_vs_volume\" + \".jpg\", bbox_inches='tight')\n",
    "    plt.show()\n",
    "    plt.clf()"
   ]
  },
  {
   "cell_type": "code",
   "execution_count": 31,
   "id": "949da6f8-8420-4452-aa19-3768e77db5e3",
   "metadata": {
    "tags": []
   },
   "outputs": [],
   "source": [
    "# precision and recall curve as the confidence threshold is varied\n",
    "def precision_recall_curves(predictions, labels, num_bins=20):\n",
    "    # TODO: I need to make this a weighted precision and recall at somepoint, and include does\n",
    "    # with the metrics that I vary\n",
    "    bins = np.linspace(0, 1, num_bins)\n",
    "    \n",
    "    precisions = []\n",
    "    recalls = []\n",
    "    \n",
    "    for bin in tqdm(bins):\n",
    "        tps = 0\n",
    "        fps = 0\n",
    "        fns = 0\n",
    "        for i in range(len(predictions)):\n",
    "            pred = predictions[i].cuda()\n",
    "            label = labels[i].cuda()\n",
    "            tps += ((pred > bin) * (label==1)).sum().item()\n",
    "            fps += ((pred > bin) * (label==0)).sum().item()\n",
    "            fns += ((pred < bin) * (label==1)).sum().item()\n",
    "            \n",
    "        precisions.append(tps / (tps + fps + 1e-8))\n",
    "        recalls.append(tps / (tps + fns + 1e-8))\n",
    "            \n",
    "        \n",
    "    return bins, precisions, recalls\n",
    "\n",
    "def precision_recall_curve(bins, precisions, recalls, folder_name):\n",
    "    plt.plot(bins[1:-1], precisions[1:-1], label='precision')\n",
    "    plt.plot(bins[1:-1], recalls[1:-1], label='recall')\n",
    "    plt.xlabel(\"Softmax Threshold\")\n",
    "    plt.xlim((0,1))\n",
    "    plt.ylim((0,1))\n",
    "    plt.legend(loc='lower right')\n",
    "    plt.title(f\"Precision, Recall as Softmax \\n Threshold Varies - {folder_name}\")\n",
    "    plt.savefig(f\"new_model_results/{folder_name}/\" + \"pres_recall_curve\" + \".jpg\", bbox_inches='tight')\n",
    "    plt.show()\n",
    "    plt.clf()"
   ]
  },
  {
   "cell_type": "code",
   "execution_count": 32,
   "id": "577d9e1e-0be4-42e0-badd-a8715b21032d",
   "metadata": {
    "tags": []
   },
   "outputs": [],
   "source": [
    "def softmax_ent(preds):\n",
    "    ent_maps = []\n",
    "    for p in tqdm(preds):\n",
    "        e = (-p * (p+1e-8).log()).sum(dim=0)\n",
    "        ent_maps.append(e)\n",
    "        \n",
    "    return ent_maps"
   ]
  },
  {
   "cell_type": "code",
   "execution_count": 33,
   "id": "a5aee128-1e33-46e3-9fe5-d60675e8f4c0",
   "metadata": {
    "tags": []
   },
   "outputs": [],
   "source": [
    "from uloss_wmh.evaluate.eval_metrics.sUEO import sUEO\n",
    "\n",
    "def UEO_curve(preds, ent_maps, labels, u_thresholds):\n",
    "    t_ueo = []\n",
    "    for tau in tqdm(u_thresholds):\n",
    "        ueos = []\n",
    "        for i in range(len(preds)):\n",
    "            seg = preds[i].cuda().argmax(dim=0) == 1\n",
    "            error = seg != labels[i].cuda()\n",
    "            ent = ent_maps[i].cuda() > tau\n",
    "            \n",
    "            numerator = 2 * (ent * error).sum()\n",
    "            denominator = ent.sum() + error.sum()\n",
    "            ueos.append((numerator/denominator).item())\n",
    "        \n",
    "        t_ueo.append(torch.Tensor(ueos).mean().item())\n",
    "    \n",
    "    return t_ueo\n",
    "\n",
    "def plot_ueo_curve(u_thresholds, ueos, folder_name):\n",
    "    plt.plot(u_thresholds, ueos)\n",
    "    plt.xlim((0,1.1))\n",
    "    plt.ylim((0, 0.5))\n",
    "    plt.xlabel(\"uncertainty threshold\")\n",
    "    plt.ylabel(\"UEO score\")\n",
    "    plt.title(f\"UEO curve - {folder_name}\")\n",
    "    plt.savefig(f\"new_model_results/{folder_name}/\" + \"ueo curve\" + \".jpg\", bbox_inches='tight')\n",
    "    plt.show()\n",
    "    plt.clf()"
   ]
  },
  {
   "cell_type": "code",
   "execution_count": 35,
   "id": "d3b23e6b-19e6-4695-a6b9-877b1fc7c1a6",
   "metadata": {
    "tags": []
   },
   "outputs": [],
   "source": [
    "%autoreload\n",
    "from uloss_wmh.evaluate.eval_metrics.connected_comps_analysis import conn_comp_2d_analysis"
   ]
  },
  {
   "cell_type": "markdown",
   "id": "95c8ccf0-8f6c-4850-b9eb-fbfe8f766b91",
   "metadata": {},
   "source": [
    "### compute the metrics for each metric"
   ]
  },
  {
   "cell_type": "code",
   "execution_count": 36,
   "id": "e9aca69d-90d0-4e7f-97a8-51d0a8626ed0",
   "metadata": {
    "tags": []
   },
   "outputs": [],
   "source": [
    "model_base = smp.Unet(\n",
    "        encoder_name=\"resnet18\",        # choose encoder, e.g. mobilenet_v2 or efficientnet-b7\n",
    "        encoder_weights=None,     # use `imagenet` pre-trained weights for encoder initialization\n",
    "        in_channels=2,                  # model input channels (1 for gray-scale images, 3 for RGB, etc.)\n",
    "        classes=3,                      # model output channels (number of classes in your dataset)\n",
    "    )"
   ]
  },
  {
   "cell_type": "code",
   "execution_count": 37,
   "id": "717c1f72-f0e1-4f86-ae07-45982c5b0c39",
   "metadata": {
    "tags": []
   },
   "outputs": [],
   "source": [
    "models_root = \"/media/benp/NVMEspare/project_data/loss_func_proj/models/new_models\"\n",
    "model_dirs = os.listdir(models_root)"
   ]
  },
  {
   "cell_type": "code",
   "execution_count": 38,
   "id": "d5b2f88f-7081-4ad2-aa9d-007d035c2b28",
   "metadata": {
    "tags": []
   },
   "outputs": [
    {
     "data": {
      "text/plain": [
       "['dice_plusplus_gamma2_2',\n",
       " 'spherical_topk10_1',\n",
       " 'spherical_topk10_2',\n",
       " 'spherical_topk1_1',\n",
       " 'spherical_topk1_2',\n",
       " 'spherical_topk1_3',\n",
       " 'xent_e_1',\n",
       " 'xent_e_2',\n",
       " 'xent_e_3',\n",
       " 'xent_topk10_1',\n",
       " 'xent_topk10_2',\n",
       " 'xent_topk10_3',\n",
       " 'xent_topk1_1',\n",
       " 'xent_topk1_2',\n",
       " 'xent_topk1_3',\n",
       " 'xent_unscaled_1',\n",
       " 'xent_unscaled_2',\n",
       " 'xent_unscaled_3',\n",
       " 'dice_plusplus_gamma2_3',\n",
       " 'dice_plusplus_gamma3_1',\n",
       " 'dice_plusplus_gamma3_2',\n",
       " 'dice_plusplus_gamma3_3',\n",
       " 'dice_plusplus_gamma4_1',\n",
       " 'dice_plusplus_gamma4_2',\n",
       " 'dice_plusplus_gamma4_3',\n",
       " 'dice_standard_1',\n",
       " 'dice_standard_2',\n",
       " 'dice_standard_3',\n",
       " 'dice_temp_scaled_1',\n",
       " 'dice_temp_scaled_2',\n",
       " 'dice_temp_scaled_3',\n",
       " 'spherical_alpha2_1',\n",
       " 'spherical_alpha2_2',\n",
       " 'spherical_alpha2_3',\n",
       " 'brier_power2_1',\n",
       " 'brier_power2_2',\n",
       " 'brier_power2_3',\n",
       " 'brier_topk10_1',\n",
       " 'brier_topk10_2',\n",
       " 'brier_topk10_3',\n",
       " 'brier_topk1_1',\n",
       " 'brier_topk1_2',\n",
       " 'brier_topk1_3',\n",
       " 'dice_4',\n",
       " 'dice_partial_temp_scale_1',\n",
       " 'dice_partial_temp_scale_2',\n",
       " 'dice_partial_temp_scale_3']"
      ]
     },
     "execution_count": 38,
     "metadata": {},
     "output_type": "execute_result"
    }
   ],
   "source": [
    "model_dirs"
   ]
  },
  {
   "cell_type": "code",
   "execution_count": 39,
   "id": "03a9a7d9-6418-433d-8b81-af1c053be109",
   "metadata": {
    "tags": []
   },
   "outputs": [],
   "source": [
    "custom_optim_config = OptimizerConfigurator(optim='Adam', lr=3e-4, weight_decay=0, scheduler='ReduceOnPlateau', patience=12, threshold=1e-4, factor=0.3, min_lr=1e-6, monitor='train_loss', verbose_lr=True)"
   ]
  },
  {
   "cell_type": "code",
   "execution_count": 40,
   "id": "8b977d94-04ff-426f-978e-788c22909a79",
   "metadata": {
    "tags": []
   },
   "outputs": [
    {
     "data": {
      "text/plain": [
       "'epoch=108-step=7412.ckpt'"
      ]
     },
     "execution_count": 40,
     "metadata": {},
     "output_type": "execute_result"
    }
   ],
   "source": [
    "natsorted(os.listdir(f\"{models_root}/{model_dirs[0]}\"))[1]"
   ]
  },
  {
   "cell_type": "code",
   "execution_count": 101,
   "id": "4902a0f5-6d80-4329-9f99-1c375d7bc188",
   "metadata": {
    "tags": []
   },
   "outputs": [],
   "source": [
    "# selected_preds = []\n",
    "selected_dirs = [\n",
    " 'spherical_topk1_1',\n",
    " 'spherical_topk1_2',\n",
    " 'spherical_topk1_3',\n",
    " 'xent_e_1',\n",
    " 'xent_e_2',\n",
    " 'xent_e_3',\n",
    " 'xent_topk10_1',\n",
    " 'xent_topk10_2',\n",
    " 'xent_topk10_3',\n",
    " 'dice_plusplus_gamma3_1',\n",
    " 'dice_plusplus_gamma3_2',\n",
    " 'dice_plusplus_gamma3_3',\n",
    " 'dice_standard_1',\n",
    " 'dice_standard_2',\n",
    " 'dice_standard_3',\n",
    " 'dice_temp_scaled_1',\n",
    " 'dice_temp_scaled_2',\n",
    " 'dice_temp_scaled_3',\n",
    " 'spherical_alpha2_1',\n",
    " 'spherical_alpha2_2',\n",
    " 'spherical_alpha2_3',\n",
    " 'brier_power2_1',\n",
    " 'brier_power2_2',\n",
    " 'brier_power2_3',\n",
    " 'brier_topk10_1',\n",
    " 'brier_topk10_2',\n",
    " 'brier_topk10_3',\n",
    " ]"
   ]
  },
  {
   "cell_type": "code",
   "execution_count": 102,
   "id": "13b54727-3e41-4314-9b55-5f9308e40ddc",
   "metadata": {
    "tags": []
   },
   "outputs": [
    {
     "name": "stdout",
     "output_type": "stream",
     "text": [
      "dice_plusplus_gamma2_2\n",
      "spherical_topk10_1\n",
      "spherical_topk10_2\n",
      "spherical_topk1_1\n",
      "spherical_topk1_2\n",
      "spherical_topk1_3\n",
      "xent_e_1\n",
      "xent_e_2\n",
      "xent_e_3\n",
      "xent_topk10_1\n",
      "xent_topk10_2\n",
      "xent_topk10_3\n",
      "xent_topk1_1\n",
      "xent_topk1_2\n",
      "xent_topk1_3\n",
      "xent_unscaled_1\n",
      "xent_unscaled_2\n",
      "xent_unscaled_3\n",
      "dice_plusplus_gamma2_3\n",
      "dice_plusplus_gamma3_1\n",
      "dice_plusplus_gamma3_2\n",
      "dice_plusplus_gamma3_3\n",
      "dice_plusplus_gamma4_1\n",
      "dice_plusplus_gamma4_2\n",
      "dice_plusplus_gamma4_3\n",
      "dice_standard_1\n",
      "dice_standard_2\n",
      "dice_standard_3\n",
      "dice_temp_scaled_1\n",
      "tau:  19.5\n"
     ]
    },
    {
     "name": "stderr",
     "output_type": "stream",
     "text": [
      "100%|█████████████████████████████████████████████████████████████████████████████████████████████████████████████████████████████████████████████████████████| 10/10 [00:08<00:00,  1.15it/s]\n",
      "100%|█████████████████████████████████████████████████████████████████████████████████████████████████████████████████████████████████████████████████████████| 30/30 [00:25<00:00,  1.16it/s]\n",
      "100%|█████████████████████████████████████████████████████████████████████████████████████████████████████████████████████████████████████████████████████████| 10/10 [00:08<00:00,  1.15it/s]\n",
      "100%|█████████████████████████████████████████████████████████████████████████████████████████████████████████████████████████████████████████████████████████| 30/30 [00:25<00:00,  1.16it/s]\n",
      "100%|█████████████████████████████████████████████████████████████████████████████████████████████████████████████████████████████████████████████████████████| 30/30 [00:11<00:00,  2.55it/s]\n",
      "100%|███████████████████████████████████████████████████████████████████████████████████████████████████████████████████████████████████████████████████████| 110/110 [00:04<00:00, 25.25it/s]\n",
      "100%|███████████████████████████████████████████████████████████████████████████████████████████████████████████████████████████████████████████████████████| 110/110 [00:12<00:00,  8.56it/s]\n"
     ]
    },
    {
     "name": "stdout",
     "output_type": "stream",
     "text": [
      "dice_temp_scaled_2\n",
      "tau:  19.5\n"
     ]
    },
    {
     "name": "stderr",
     "output_type": "stream",
     "text": [
      "100%|█████████████████████████████████████████████████████████████████████████████████████████████████████████████████████████████████████████████████████████| 10/10 [00:01<00:00,  8.62it/s]\n",
      "100%|█████████████████████████████████████████████████████████████████████████████████████████████████████████████████████████████████████████████████████████| 30/30 [00:03<00:00,  8.61it/s]\n",
      "100%|█████████████████████████████████████████████████████████████████████████████████████████████████████████████████████████████████████████████████████████| 10/10 [00:01<00:00,  8.56it/s]\n",
      "100%|█████████████████████████████████████████████████████████████████████████████████████████████████████████████████████████████████████████████████████████| 30/30 [00:03<00:00,  8.58it/s]\n",
      "100%|█████████████████████████████████████████████████████████████████████████████████████████████████████████████████████████████████████████████████████████| 30/30 [00:03<00:00,  8.66it/s]\n",
      "100%|███████████████████████████████████████████████████████████████████████████████████████████████████████████████████████████████████████████████████████| 110/110 [00:04<00:00, 25.01it/s]\n",
      "100%|███████████████████████████████████████████████████████████████████████████████████████████████████████████████████████████████████████████████████████| 110/110 [00:20<00:00,  5.39it/s]\n"
     ]
    },
    {
     "name": "stdout",
     "output_type": "stream",
     "text": [
      "dice_temp_scaled_3\n",
      "tau:  14.5\n"
     ]
    },
    {
     "name": "stderr",
     "output_type": "stream",
     "text": [
      "100%|█████████████████████████████████████████████████████████████████████████████████████████████████████████████████████████████████████████████████████████| 10/10 [00:01<00:00,  8.70it/s]\n",
      "100%|█████████████████████████████████████████████████████████████████████████████████████████████████████████████████████████████████████████████████████████| 30/30 [00:03<00:00,  8.55it/s]\n",
      "100%|█████████████████████████████████████████████████████████████████████████████████████████████████████████████████████████████████████████████████████████| 10/10 [00:01<00:00,  8.70it/s]\n",
      "100%|█████████████████████████████████████████████████████████████████████████████████████████████████████████████████████████████████████████████████████████| 30/30 [00:03<00:00,  8.53it/s]\n",
      "100%|█████████████████████████████████████████████████████████████████████████████████████████████████████████████████████████████████████████████████████████| 30/30 [00:03<00:00,  8.55it/s]\n",
      "100%|███████████████████████████████████████████████████████████████████████████████████████████████████████████████████████████████████████████████████████| 110/110 [00:04<00:00, 25.15it/s]\n",
      "100%|███████████████████████████████████████████████████████████████████████████████████████████████████████████████████████████████████████████████████████| 110/110 [00:14<00:00,  7.85it/s]"
     ]
    },
    {
     "name": "stdout",
     "output_type": "stream",
     "text": [
      "spherical_alpha2_1\n",
      "spherical_alpha2_2\n",
      "spherical_alpha2_3\n",
      "brier_power2_1\n",
      "brier_power2_2\n",
      "brier_power2_3\n",
      "brier_topk10_1\n",
      "brier_topk10_2\n",
      "brier_topk10_3\n",
      "brier_topk1_1\n",
      "brier_topk1_2\n",
      "brier_topk1_3\n",
      "dice_4\n",
      "dice_partial_temp_scale_1\n",
      "dice_partial_temp_scale_2\n",
      "dice_partial_temp_scale_3\n"
     ]
    },
    {
     "name": "stderr",
     "output_type": "stream",
     "text": [
      "\n"
     ]
    }
   ],
   "source": [
    "for i in range(len(model_dirs)):\n",
    "    \n",
    "    folder_name = model_dirs[i]\n",
    "    print(folder_name)\n",
    "    \n",
    "    if folder_name not in selected_dirs:\n",
    "        continue\n",
    "        \n",
    "    if os.path.exists(f\"new_model_results/{folder_name}/new_bras.txt\"):\n",
    "        continue\n",
    "    \n",
    "    try:\n",
    "        ckpt_path = f\"{models_root}/{model_dirs[i]}/{natsorted(os.listdir(f'{models_root}/{model_dirs[i]}'))[1]}\"\n",
    "    except:\n",
    "        print(f\"failed for {folder_name}\")\n",
    "        continue\n",
    "    \n",
    "    model = StandardLitModelWrapper.load_from_checkpoint(checkpoint_path=ckpt_path, model=model_base, loss=None, optimizer_configurator=custom_optim_config)\n",
    "        \n",
    "    tau = 1\n",
    "    if \"dice_temp_scaled_3\" == folder_name:\n",
    "        tau = 14.5\n",
    "    elif \"dice_temp_scaled_2\" == folder_name:\n",
    "        tau = 19.5\n",
    "    elif \"dice_temp_scaled_1\" == folder_name:\n",
    "        tau = 19.5\n",
    "    print(\"tau: \", tau)\n",
    "        \n",
    "    preds, preds_dss = load_model_preds(model, tau)\n",
    "    #combined_metrics, metrics_per_domain = combined_challenge_metrics(preds_dss, labels_dss, model, folder_name)\n",
    "    # selected_preds.append(preds)\n",
    "    \n",
    "    ent_maps = softmax_ent(preds)\n",
    "    custom_bras = compute_custom_BraS_Score(u_thresholds, preds, ent_maps, labels, masks, curves=False)\n",
    "    \n",
    "    with open(f\"new_model_results/{folder_name}/new_bras.txt\", \"w\") as f:\n",
    "        f.write(f\"custom_bras: {custom_bras}\\n\")"
   ]
  },
  {
   "cell_type": "code",
   "execution_count": 47,
   "id": "017bd99a-e078-4f50-a037-b7c9a95bfba3",
   "metadata": {},
   "outputs": [
    {
     "data": {
      "text/plain": [
       "110"
      ]
     },
     "execution_count": 47,
     "metadata": {},
     "output_type": "execute_result"
    }
   ],
   "source": [
    "len(selected_preds[2])"
   ]
  },
  {
   "cell_type": "code",
   "execution_count": 48,
   "id": "57a7fc2e-e8b8-45bc-b38c-7c692e674174",
   "metadata": {},
   "outputs": [
    {
     "name": "stderr",
     "output_type": "stream",
     "text": [
      "100%|███████████████████████████████████████████████████████████████████████████████████████████████████████████████████████████████████████████████████████| 110/110 [00:03<00:00, 32.58it/s]\n",
      "100%|███████████████████████████████████████████████████████████████████████████████████████████████████████████████████████████████████████████████████████| 110/110 [00:03<00:00, 31.61it/s]\n",
      "100%|███████████████████████████████████████████████████████████████████████████████████████████████████████████████████████████████████████████████████████| 110/110 [00:04<00:00, 26.42it/s]\n"
     ]
    }
   ],
   "source": [
    "selected_ent_maps = [softmax_ent(preds) for preds in selected_preds]"
   ]
  },
  {
   "cell_type": "code",
   "execution_count": 49,
   "id": "57f6e7e4-236b-4e50-b79b-da924bdd7c38",
   "metadata": {},
   "outputs": [],
   "source": [
    "u_thresholds = torch.arange(0, 1.1, 0.05)"
   ]
  },
  {
   "cell_type": "code",
   "execution_count": 89,
   "id": "1590c88c-e7e9-4bf6-bd2e-b7c211b3cac1",
   "metadata": {
    "tags": []
   },
   "outputs": [],
   "source": [
    "import torch\n",
    "\n",
    "def fast_dice(pred, target):\n",
    "    p1 = (pred == 1)\n",
    "    t1 = (target == 1)\n",
    "    intersection = (pred == 1) & (target == 1)\n",
    "    numerator = 2 * intersection.sum()\n",
    "    denominator = p1.sum() + t1.sum()\n",
    "    return (numerator/(denominator + 1e-30)).item()\n",
    "\n",
    "\n",
    "def filtered_dice(pred, ent_map, target, threshold):\n",
    "    uncertain_locs = ent_map < threshold\n",
    "    remaining_pred = pred[uncertain_locs]\n",
    "    remaining_target = target[uncertain_locs]\n",
    "    \n",
    "    return fast_dice(remaining_pred, remaining_target)\n",
    "\n",
    "def filtered_tps_score(pred, ent_map, target, threshold):\n",
    "    total_tps = ((pred == 1) & (target == 1)).sum().item()\n",
    "    uncertain_locs = ent_map < threshold\n",
    "    \n",
    "    filtered_tps = ((pred[uncertain_locs] == 1) & (target[uncertain_locs] == 1)).sum().item()\n",
    "    \n",
    "    return (total_tps - filtered_tps) / (total_tps + 1e-30)\n",
    "\n",
    "def filtered_fps_score(pred, ent_map, target, threshold):\n",
    "    total_fps = ((pred == 1) & (target == 0)).sum().item()\n",
    "    uncertain_locs = ent_map < threshold\n",
    "    \n",
    "    filtered_fps = ((pred[uncertain_locs] == 1) & (target[uncertain_locs] == 0)).sum().item()\n",
    "    \n",
    "    return (total_fps-filtered_fps) / (total_fps + 1e-30)\n",
    "\n",
    "def filtered_fns_score(pred, ent_map, target, threshold):\n",
    "    total_fns = ((pred == 0) & (target == 1)).sum().item()\n",
    "    uncertain_locs = ent_map < threshold\n",
    "    \n",
    "    filtered_fns = ((pred[uncertain_locs] == 0) & (target[uncertain_locs] == 1)).sum().item()\n",
    "    \n",
    "    return (total_fns-filtered_fns) / (total_fns + 1e-30)\n",
    "\n",
    "def filtered_tns_score(mask, pred, ent_map, target, threshold):\n",
    "    mask = mask.type(torch.bool)\n",
    "    pred = pred[mask]\n",
    "    ent_map = ent_map[mask]\n",
    "    target = target[mask]\n",
    "    \n",
    "    total_tns = ((pred == 0) & (target == 0)).sum().item()\n",
    "    uncertain_locs = ent_map < threshold\n",
    "    \n",
    "    filtered_tns = ((pred[uncertain_locs] == 0) & (target[uncertain_locs] == 0)).sum().item()\n",
    "    \n",
    "    return (total_tns - filtered_tns) / (total_tns + 1e-30)"
   ]
  },
  {
   "cell_type": "code",
   "execution_count": 90,
   "id": "6e5e8815-a22b-4692-99b5-02386fb6b2dc",
   "metadata": {
    "tags": []
   },
   "outputs": [],
   "source": [
    "%autoreload\n",
    "from sklearn import metrics\n",
    "from uloss_wmh.evaluate.eval_metrics.BraS import *\n",
    "import math\n",
    "\n",
    "def compute_BraS_Score(uncertainty_thresholds, preds, ent_maps, labels, masks):\n",
    "    filtered_dices = []\n",
    "    filtered_tns = []\n",
    "    filtered_tps = []\n",
    "\n",
    "    for i in tqdm(range(len(preds)), position=0, leave=True):\n",
    "        pred = preds[i].cuda().argmax(dim=0) == 1\n",
    "        ent_map = ent_maps[i].cuda()\n",
    "        y = labels[i].cuda()\n",
    "        mask = masks[i].cuda()\n",
    "\n",
    "        ind_filtered_dices = []\n",
    "        ind_filtered_tns = []\n",
    "        ind_filtered_tps = []\n",
    "\n",
    "        if pred.sum() == 0:\n",
    "            continue\n",
    "\n",
    "        for t in uncertainty_thresholds:\n",
    "            tau = t\n",
    "            ind_filtered_dices.append(filtered_dice(pred, ent_map, y, tau))\n",
    "            ind_filtered_tns.append(filtered_tns_score(mask, pred, ent_map, y, tau))\n",
    "            ind_filtered_tps.append(filtered_tps_score(pred, ent_map, y, tau))\n",
    "\n",
    "        filtered_dices.append(ind_filtered_dices)\n",
    "        filtered_tns.append(ind_filtered_tns)\n",
    "        filtered_tps.append(ind_filtered_tps)\n",
    "\n",
    "\n",
    "    # we need to calculate the area under the curve of the dice, so that will be mean dice per threshold?\n",
    "    filtered_dices = torch.stack([torch.Tensor(v) for v in filtered_dices], dim=0)\n",
    "    filtered_tns = torch.stack([torch.Tensor(v) for v in filtered_tns], dim=0)\n",
    "    filtered_tps = torch.stack([torch.Tensor(v) for v in filtered_tps], dim=0)\n",
    "    \n",
    "    fdice_curve = filtered_dices.mean(dim=0)\n",
    "    tn_curve = filtered_tns.mean(dim=0)\n",
    "    tp_curve = filtered_tps.mean(dim=0)\n",
    "    max_ent = -math.log(0.33)\n",
    "    bras_score = (1/3) * (\n",
    "        metrics.auc(uncertainty_thresholds/max_ent, fdice_curve)\n",
    "         + (1 - metrics.auc(uncertainty_thresholds/max_ent, tn_curve))\n",
    "         + (1 - metrics.auc(uncertainty_thresholds/max_ent, tp_curve))\n",
    "    )\n",
    "    return bras_score"
   ]
  },
  {
   "cell_type": "code",
   "execution_count": 91,
   "id": "90f758b9-2806-443a-a255-0494e2875e51",
   "metadata": {
    "tags": []
   },
   "outputs": [],
   "source": [
    "def compute_custom_BraS_Score(uncertainty_thresholds, preds, ent_maps, labels, masks, curves=False):\n",
    "    filtered_dices = []\n",
    "    filtered_tns = []\n",
    "    filtered_tps = []\n",
    "    filtered_fns = []\n",
    "    filtered_fps = []\n",
    "\n",
    "    for i in tqdm(range(len(preds)), position=0, leave=True):\n",
    "        pred = preds[i].cuda().argmax(dim=0) == 1\n",
    "        ent_map = ent_maps[i].cuda()\n",
    "        y = labels[i].cuda()\n",
    "        mask = masks[i].cuda()\n",
    "\n",
    "        ind_filtered_dices = []\n",
    "        ind_filtered_tns = []\n",
    "        ind_filtered_tps = []\n",
    "        ind_filtered_fns = []\n",
    "        ind_filtered_fps = []\n",
    "\n",
    "        if pred.sum() == 0:\n",
    "            continue\n",
    "\n",
    "        for t in uncertainty_thresholds:\n",
    "            tau = t\n",
    "            ind_filtered_dices.append(filtered_dice(pred, ent_map, y, tau))\n",
    "            ind_filtered_tns.append(filtered_tns_score(mask, pred, ent_map, y, tau))\n",
    "            ind_filtered_tps.append(filtered_tps_score(pred, ent_map, y, tau))\n",
    "            ind_filtered_fns.append(filtered_fns_score(pred, ent_map, y, tau))\n",
    "            ind_filtered_fps.append(filtered_fps_score(pred, ent_map, y, tau))\n",
    "\n",
    "        filtered_dices.append(ind_filtered_dices)\n",
    "        filtered_tns.append(ind_filtered_tns)\n",
    "        filtered_tps.append(ind_filtered_tps)\n",
    "        filtered_fns.append(ind_filtered_fns)\n",
    "        filtered_fps.append(ind_filtered_fps)\n",
    "\n",
    "\n",
    "    # we need to calculate the area under the curve of the dice, so that will be mean dice per threshold?\n",
    "    filtered_dices = torch.stack([torch.Tensor(v) for v in filtered_dices], dim=0)\n",
    "    filtered_tns = torch.stack([torch.Tensor(v) for v in filtered_tns], dim=0)\n",
    "    filtered_tps = torch.stack([torch.Tensor(v) for v in filtered_tps], dim=0)\n",
    "    filtered_fps = torch.stack([torch.Tensor(v) for v in filtered_fps], dim=0)\n",
    "    filtered_fns = torch.stack([torch.Tensor(v) for v in filtered_fns], dim=0)\n",
    "    \n",
    "    fdice_curve = filtered_dices.mean(dim=0)\n",
    "    tn_curve = filtered_tns.mean(dim=0)\n",
    "    tp_curve = filtered_tps.mean(dim=0)\n",
    "    fn_curve = filtered_fns.mean(dim=0)\n",
    "    fp_curve = filtered_fps.mean(dim=0)\n",
    "    \n",
    "    if curves:\n",
    "        return fdice_curve, tn_curve, tp_curve, fn_curve, fp_curve\n",
    "    \n",
    "    max_ent = -math.log(0.33)\n",
    "    bras_score = (1/5) * (\n",
    "        metrics.auc(uncertainty_thresholds/max_ent, fdice_curve)\n",
    "         + (1 - metrics.auc(uncertainty_thresholds/max_ent, tn_curve))\n",
    "         + (1 - metrics.auc(uncertainty_thresholds/max_ent, tp_curve))\n",
    "         + metrics.auc(uncertainty_thresholds/max_ent, fn_curve)\n",
    "         + metrics.auc(uncertainty_thresholds/max_ent, fp_curve) \n",
    "    )\n",
    "    return bras_score"
   ]
  },
  {
   "cell_type": "code",
   "execution_count": 92,
   "id": "a9774ea1-b1c8-47ad-8e37-51614b2e8df4",
   "metadata": {
    "tags": []
   },
   "outputs": [],
   "source": [
    "def get_BraS_curves(uncertainty_thresholds, preds, ent_maps, labels, masks):\n",
    "    filtered_dices = []\n",
    "    filtered_tns = []\n",
    "    filtered_tps = []\n",
    "\n",
    "    for i in tqdm(range(len(preds)), position=0, leave=True):\n",
    "        pred = preds[i].cuda().argmax(dim=0) == 1\n",
    "        ent_map = ent_maps[i].cuda()\n",
    "        y = labels[i].cuda()\n",
    "        mask = masks[i].cuda()\n",
    "\n",
    "        ind_filtered_dices = []\n",
    "        ind_filtered_tns = []\n",
    "        ind_filtered_tps = []\n",
    "\n",
    "        if pred.sum() == 0:\n",
    "            continue\n",
    "\n",
    "        for t in uncertainty_thresholds:\n",
    "            tau = t\n",
    "            ind_filtered_dices.append(filtered_dice(pred, ent_map, y, tau))\n",
    "            ind_filtered_tns.append(filtered_tns_score(mask, pred, ent_map, y, tau))\n",
    "            ind_filtered_tps.append(filtered_tps_score(pred, ent_map, y, tau))\n",
    "\n",
    "        filtered_dices.append(ind_filtered_dices)\n",
    "        filtered_tns.append(ind_filtered_tns)\n",
    "        filtered_tps.append(ind_filtered_tps)\n",
    "\n",
    "\n",
    "    # we need to calculate the area under the curve of the dice, so that will be mean dice per threshold?\n",
    "    filtered_dices = torch.stack([torch.Tensor(v) for v in filtered_dices], dim=0)\n",
    "    filtered_tns = torch.stack([torch.Tensor(v) for v in filtered_tns], dim=0)\n",
    "    filtered_tps = torch.stack([torch.Tensor(v) for v in filtered_tps], dim=0)\n",
    "    \n",
    "    fdice_curve = filtered_dices.mean(dim=0)\n",
    "    tn_curve = filtered_tns.mean(dim=0)\n",
    "    tp_curve = filtered_tps.mean(dim=0)\n",
    "    return fdice_curve, tn_curve, tp_curve"
   ]
  },
  {
   "cell_type": "code",
   "execution_count": 61,
   "id": "a061bed6-9991-47dd-a876-f4dcea777f03",
   "metadata": {
    "tags": []
   },
   "outputs": [
    {
     "data": {
      "text/plain": [
       "-1.1086626245216111"
      ]
     },
     "execution_count": 61,
     "metadata": {},
     "output_type": "execute_result"
    }
   ],
   "source": [
    "math.log(0.33)"
   ]
  },
  {
   "cell_type": "code",
   "execution_count": 62,
   "id": "934d9ac9-df9e-4140-ab89-d72544608995",
   "metadata": {
    "tags": []
   },
   "outputs": [
    {
     "data": {
      "text/plain": [
       "torch.Size([3, 192, 224, 64])"
      ]
     },
     "execution_count": 62,
     "metadata": {},
     "output_type": "execute_result"
    }
   ],
   "source": [
    "selected_preds[0][0].shape"
   ]
  },
  {
   "cell_type": "code",
   "execution_count": 71,
   "id": "1d95534c-7af1-419d-b65a-602180431743",
   "metadata": {},
   "outputs": [
    {
     "name": "stderr",
     "output_type": "stream",
     "text": [
      "100%|███████████████████████████████████████████████████████████████████████████████████████████████████████████████████████████████████████████████████████| 110/110 [00:14<00:00,  7.43it/s]\n",
      "100%|███████████████████████████████████████████████████████████████████████████████████████████████████████████████████████████████████████████████████████| 110/110 [00:15<00:00,  7.28it/s]\n",
      "100%|███████████████████████████████████████████████████████████████████████████████████████████████████████████████████████████████████████████████████████| 110/110 [00:08<00:00, 13.04it/s]\n"
     ]
    }
   ],
   "source": [
    "bras_scores = [compute_BraS_Score(u_thresholds, preds, ent_maps, labels, masks) for preds, ent_maps in zip(selected_preds,selected_ent_maps)]"
   ]
  },
  {
   "cell_type": "code",
   "execution_count": 84,
   "id": "10a1b945-751c-4bce-b7ef-21da9795e1da",
   "metadata": {
    "tags": []
   },
   "outputs": [
    {
     "name": "stderr",
     "output_type": "stream",
     "text": [
      "100%|███████████████████████████████████████████████████████████████████████████████████████████████████████████████████████████████████████████████████████| 110/110 [00:25<00:00,  4.30it/s]\n",
      "100%|███████████████████████████████████████████████████████████████████████████████████████████████████████████████████████████████████████████████████████| 110/110 [00:26<00:00,  4.18it/s]\n",
      "100%|███████████████████████████████████████████████████████████████████████████████████████████████████████████████████████████████████████████████████████| 110/110 [00:13<00:00,  8.01it/s]\n"
     ]
    }
   ],
   "source": [
    "custom_bras_curves = [compute_custom_BraS_Score(u_thresholds, preds, ent_maps, labels, masks, curves=True) for preds, ent_maps in zip(selected_preds,selected_ent_maps)]\n",
    "\n"
   ]
  },
  {
   "cell_type": "code",
   "execution_count": 85,
   "id": "846f2578-2ff9-4893-a75d-3a8251f59355",
   "metadata": {
    "tags": []
   },
   "outputs": [],
   "source": [
    "def plot_custom_bas_curves(curves):\n",
    "    max_ent = -math.log(0.33)\n",
    "    plt.subplot(1,5,1)\n",
    "    plt.plot(u_thresholds/max_ent, curves[0])\n",
    "    plt.subplot(1,5,2)\n",
    "    plt.plot(u_thresholds/max_ent, curves[1])\n",
    "    plt.subplot(1,5,3)\n",
    "    plt.plot(u_thresholds/max_ent, curves[2])\n",
    "    plt.subplot(1,5,4)\n",
    "    plt.plot(u_thresholds/max_ent, curves[3])\n",
    "    plt.subplot(1,5,5)\n",
    "    plt.plot(u_thresholds/max_ent, curves[4])"
   ]
  },
  {
   "cell_type": "code",
   "execution_count": 86,
   "id": "c97b512e-42d3-4af1-bd9e-c8500aaff2cb",
   "metadata": {
    "tags": []
   },
   "outputs": [
    {
     "data": {
      "image/png": "[encoded data removed]",
      "text/plain": [
       "<Figure size 640x480 with 5 Axes>"
      ]
     },
     "metadata": {},
     "output_type": "display_data"
    }
   ],
   "source": [
    "plot_custom_bas_curves(custom_bras_curves[0])"
   ]
  },
  {
   "cell_type": "code",
   "execution_count": 87,
   "id": "f5bb7ebd-fe19-42ac-a9c1-4f417d08b34c",
   "metadata": {
    "tags": []
   },
   "outputs": [
    {
     "data": {
      "image/png": "[encoded data removed]",
      "text/plain": [
       "<Figure size 640x480 with 5 Axes>"
      ]
     },
     "metadata": {},
     "output_type": "display_data"
    }
   ],
   "source": [
    "plot_custom_bas_curves(custom_bras_curves[1])"
   ]
  },
  {
   "cell_type": "code",
   "execution_count": 88,
   "id": "43ea5425-a2a5-44d5-b4f6-4d79e004cd7f",
   "metadata": {
    "tags": []
   },
   "outputs": [
    {
     "data": {
      "image/png": "[encoded data removed]",
      "text/plain": [
       "<Figure size 640x480 with 5 Axes>"
      ]
     },
     "metadata": {},
     "output_type": "display_data"
    }
   ],
   "source": [
    "plot_custom_bas_curves(custom_bras_curves[2])"
   ]
  },
  {
   "cell_type": "code",
   "execution_count": 93,
   "id": "1dae5bed-9d88-4642-9126-6b05bbc26737",
   "metadata": {
    "tags": []
   },
   "outputs": [
    {
     "name": "stderr",
     "output_type": "stream",
     "text": [
      "100%|███████████████████████████████████████████████████████████████████████████████████████████████████████████████████████████████████████████████████████| 110/110 [00:25<00:00,  4.27it/s]\n",
      "100%|███████████████████████████████████████████████████████████████████████████████████████████████████████████████████████████████████████████████████████| 110/110 [00:26<00:00,  4.15it/s]\n",
      "100%|███████████████████████████████████████████████████████████████████████████████████████████████████████████████████████████████████████████████████████| 110/110 [00:13<00:00,  7.87it/s]\n"
     ]
    }
   ],
   "source": [
    "custom_bras_scores = [compute_custom_BraS_Score(u_thresholds, preds, ent_maps, labels, masks, curves=False) for preds, ent_maps in zip(selected_preds,selected_ent_maps)]\n"
   ]
  },
  {
   "cell_type": "code",
   "execution_count": 98,
   "id": "b454e06c-8c7b-4255-92aa-d03b4e5e8e93",
   "metadata": {
    "tags": []
   },
   "outputs": [
    {
     "data": {
      "text/plain": [
       "[0.681751561164856, 0.5744034357368947, 0.6250954031944276]"
      ]
     },
     "execution_count": 98,
     "metadata": {},
     "output_type": "execute_result"
    }
   ],
   "source": [
    "custom_bras_scores"
   ]
  },
  {
   "cell_type": "code",
   "execution_count": 80,
   "id": "b66568fe-40ca-483b-bbd4-afcbbccf9151",
   "metadata": {
    "tags": []
   },
   "outputs": [
    {
     "data": {
      "text/plain": [
       "[0.6413986444473267, 0.8494853280484677, 0.32795530259609224]"
      ]
     },
     "execution_count": 80,
     "metadata": {},
     "output_type": "execute_result"
    }
   ],
   "source": [
    "\n",
    "custom_bras_scores"
   ]
  },
  {
   "cell_type": "code",
   "execution_count": 67,
   "id": "4bc15593-1958-4ccd-8ba7-cff8e9225a25",
   "metadata": {
    "tags": []
   },
   "outputs": [
    {
     "name": "stderr",
     "output_type": "stream",
     "text": [
      "100%|███████████████████████████████████████████████████████████████████████████████████████████████████████████████████████████████████████████████████████| 110/110 [00:14<00:00,  7.35it/s]\n",
      "100%|███████████████████████████████████████████████████████████████████████████████████████████████████████████████████████████████████████████████████████| 110/110 [00:15<00:00,  7.24it/s]\n",
      "100%|███████████████████████████████████████████████████████████████████████████████████████████████████████████████████████████████████████████████████████| 110/110 [00:08<00:00, 13.15it/s]\n"
     ]
    }
   ],
   "source": [
    "bras_curves = [get_BraS_curves(u_thresholds, preds, ent_maps, labels, masks) for preds, ent_maps in zip(selected_preds,selected_ent_maps)]"
   ]
  },
  {
   "cell_type": "code",
   "execution_count": 73,
   "id": "82749200-82ab-43f7-a3db-23839d3a8359",
   "metadata": {
    "tags": []
   },
   "outputs": [],
   "source": [
    "def plot_bas_curves(curves):\n",
    "    max_ent = -math.log(0.33)\n",
    "    plt.subplot(1,3,1)\n",
    "    plt.plot(u_thresholds/max_ent, curves[0])\n",
    "    plt.subplot(1,3,2)\n",
    "    plt.plot(u_thresholds/max_ent, curves[1])\n",
    "    plt.subplot(1,3,3)\n",
    "    plt.plot(u_thresholds/max_ent, curves[2])"
   ]
  },
  {
   "cell_type": "code",
   "execution_count": 74,
   "id": "f175c9bd-a570-41d7-a659-676791509ba8",
   "metadata": {
    "tags": []
   },
   "outputs": [
    {
     "data": {
      "image/png": "[encoded data removed]",
      "text/plain": [
       "<Figure size 640x480 with 3 Axes>"
      ]
     },
     "metadata": {},
     "output_type": "display_data"
    }
   ],
   "source": [
    "plot_bas_curves(bras_curves[0])"
   ]
  },
  {
   "cell_type": "code",
   "execution_count": 76,
   "id": "58a1b372-0e69-4fe1-8524-ed69ba059b12",
   "metadata": {
    "tags": []
   },
   "outputs": [
    {
     "data": {
      "image/png": "[encoded data removed]",
      "text/plain": [
       "<Figure size 640x480 with 3 Axes>"
      ]
     },
     "metadata": {},
     "output_type": "display_data"
    }
   ],
   "source": [
    "plot_bas_curves(bras_curves[1])"
   ]
  },
  {
   "cell_type": "code",
   "execution_count": 77,
   "id": "2a5d3468-97b0-41d7-bf99-a7012e3698cf",
   "metadata": {
    "tags": []
   },
   "outputs": [
    {
     "data": {
      "image/png": "[encoded data removed]",
      "text/plain": [
       "<Figure size 640x480 with 3 Axes>"
      ]
     },
     "metadata": {},
     "output_type": "display_data"
    }
   ],
   "source": [
    "plot_bas_curves(bras_curves[2])"
   ]
  },
  {
   "cell_type": "code",
   "execution_count": 72,
   "id": "efb0d93a-66e3-4b37-95fe-abbf03268282",
   "metadata": {
    "tags": []
   },
   "outputs": [
    {
     "data": {
      "text/plain": [
       "[0.7869295080502827, 0.8708783028026421, 0.4785132606824239]"
      ]
     },
     "execution_count": 72,
     "metadata": {},
     "output_type": "execute_result"
    }
   ],
   "source": [
    "# rescaled bras scores\n",
    "bras_scores"
   ]
  },
  {
   "cell_type": "code",
   "execution_count": 70,
   "id": "2aa5f9e0-e49f-4466-9bca-69954ba91d0a",
   "metadata": {
    "tags": []
   },
   "outputs": [
    {
     "data": {
      "text/plain": [
       "[0.7869295080502827, 0.8708783028026421, 0.4785132606824239]"
      ]
     },
     "execution_count": 70,
     "metadata": {},
     "output_type": "execute_result"
    }
   ],
   "source": [
    "# rescaled bras scores\n",
    "bras_scores"
   ]
  },
  {
   "cell_type": "code",
   "execution_count": 52,
   "id": "ee25b54d-d2b0-4668-a50d-f259963f0457",
   "metadata": {},
   "outputs": [
    {
     "data": {
      "text/plain": [
       "[0.859022503097852, 0.9932954336206118, 0.36572253704071045]"
      ]
     },
     "execution_count": 52,
     "metadata": {},
     "output_type": "execute_result"
    }
   ],
   "source": [
    "bras_scores"
   ]
  },
  {
   "cell_type": "code",
   "execution_count": null,
   "id": "8fa3b198-a9cf-43ca-9a5d-c945bcc0718e",
   "metadata": {},
   "outputs": [],
   "source": []
  },
  {
   "cell_type": "code",
   "execution_count": null,
   "id": "d557421d-fd72-4ab8-912b-f219278e2e45",
   "metadata": {},
   "outputs": [],
   "source": []
  },
  {
   "cell_type": "code",
   "execution_count": null,
   "id": "0064a8fd-ecdd-4e44-a259-a6b0fc53d244",
   "metadata": {},
   "outputs": [],
   "source": []
  },
  {
   "cell_type": "code",
   "execution_count": null,
   "id": "1cfbba2e-d1c4-47ba-a502-6abefacc1227",
   "metadata": {},
   "outputs": [],
   "source": []
  }
 ],
 "metadata": {
  "kernelspec": {
   "display_name": "Python 3 (ipykernel)",
   "language": "python",
   "name": "python3"
  },
  "language_info": {
   "codemirror_mode": {
    "name": "ipython",
    "version": 3
   },
   "file_extension": ".py",
   "mimetype": "text/x-python",
   "name": "python",
   "nbconvert_exporter": "python",
   "pygments_lexer": "ipython3",
   "version": "3.10.11"
  }
 },
 "nbformat": 4,
 "nbformat_minor": 5
}
