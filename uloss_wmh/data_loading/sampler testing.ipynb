{
 "cells": [
  {
   "cell_type": "markdown",
   "id": "8cd2bd81-a9f6-4dcb-b41a-21b435463b15",
   "metadata": {},
   "source": [
    "### sampler testing\n",
    "\n",
    "Build a 2D sampler that samples from the data with the labels in a fixed amount of the time, and then from the whole dataset the rest of the time."
   ]
  },
  {
   "cell_type": "code",
   "execution_count": 2,
   "id": "41d54fa5-79cb-44d7-8b6b-97bebdc8a562",
   "metadata": {},
   "outputs": [
    {
     "data": {
      "text/plain": [
       "'\\nThe way that I think I should go about doing this, is the following:\\n\\n\\ncreate two samplers: \\na first one that samples just for the target class instances. Nice.\\nanother one that just randomly samples from any elements in the dataset (a shuffle dataset), but excludes examples sampled in the first sampler\\n'"
      ]
     },
     "execution_count": 2,
     "metadata": {},
     "output_type": "execute_result"
    }
   ],
   "source": [
    "\"\"\"\n",
    "The way that I think I should go about doing this, is the following:\n",
    "\n",
    "\n",
    "create two samplers: \n",
    "a first one that samples just for the target class instances. Nice.\n",
    "another one that just randomly samples from any elements in the dataset (a shuffle dataset), but excludes examples sampled in the first sampler\n",
    "\"\"\""
   ]
  },
  {
   "cell_type": "code",
   "execution_count": 6,
   "id": "fcef83ce-a1eb-49a6-b0a9-c4e202fdea98",
   "metadata": {},
   "outputs": [],
   "source": [
    "from ulw_data.torch_dataset.challenge_data_pipeline import train_data_pipeline"
   ]
  },
  {
   "cell_type": "code",
   "execution_count": 7,
   "id": "35fdd53d-af46-4984-a75b-80312e34f684",
   "metadata": {},
   "outputs": [],
   "source": [
    "collated_folder = \"/media/benp/NVMEspare/datasets/full_WMH_Chal_dataset/preprocessed/collated/\""
   ]
  },
  {
   "cell_type": "code",
   "execution_count": 9,
   "id": "b47bea52-3881-4efc-84b3-38a48eb1dcbc",
   "metadata": {},
   "outputs": [],
   "source": [
    "train_ds, val_ds = train_data_pipeline(collated_folder, val_proportion=0.15, seed=5, transforms=None)"
   ]
  },
  {
   "cell_type": "code",
   "execution_count": 85,
   "id": "9c1cee46-2a99-4059-a18c-b3015fe78a23",
   "metadata": {},
   "outputs": [],
   "source": [
    "import torch\n",
    "from torch.utils.data import Sampler\n",
    "import numpy as np\n",
    "import matplotlib.pyplot as plt"
   ]
  },
  {
   "cell_type": "code",
   "execution_count": 109,
   "id": "72f266bd-44f7-45da-a09c-ef53d0e02f9a",
   "metadata": {},
   "outputs": [],
   "source": [
    "class BinaryTargetClassBatchSampler(Sampler):\n",
    "    def __init__(self, dataset, target_class, target_class_proportion, batch_size):\n",
    "        self.dataset = dataset\n",
    "        self.target_class = target_class\n",
    "        self.batch_size = batch_size\n",
    "        assert 0 <= target_class_proportion <= 1\n",
    "        self.targets_per_batch = max(int(np.round(target_class_proportion * batch_size)), 1)\n",
    "        self.remaining_per_batch = batch_size - self.targets_per_batch\n",
    "\n",
    "        # record the indices of instances containing the target class\n",
    "        self.target_indices = [\n",
    "            i for i, data in enumerate(self.dataset)\n",
    "            if (data['label'] == target_class).max() > 0\n",
    "        ]\n",
    "        self.all_indices = torch.arange(0, len(dataset), 1).tolist()\n",
    "\n",
    "        print(len(self.target_indices))\n",
    "\n",
    "    def __iter__(self):\n",
    "        while True:\n",
    "            # shuffle the target indices\n",
    "            target_indices = torch.randperm(len(self.target_indices)).tolist()\n",
    "\n",
    "            # sample the required number of target indices without replacement\n",
    "            target_batch = target_indices[:self.targets_per_batch]\n",
    "\n",
    "            # remove the selected target indices from the all_indices vector\n",
    "            remaining_indices = list(set(self.all_indices) - set(target_batch))\n",
    "            np.random.shuffle(remaining_indices)\n",
    "\n",
    "            # select the required number of remaining indices to fill the batch, without replacement\n",
    "            remaining_batch = remaining_indices[:self.remaining_per_batch]\n",
    "\n",
    "            # construct the batch such that target and remaining examples are randomly shuffled together\n",
    "            batch = target_batch + remaining_batch\n",
    "            random_indices = torch.randperm(len(batch)).tolist()\n",
    "            batch = [batch[i] for i in random_indices]\n",
    "\n",
    "            yield batch\n",
    "            \n",
    "\n",
    "    def __len__(self):\n",
    "        return len(self.dataset)"
   ]
  },
  {
   "cell_type": "code",
   "execution_count": 147,
   "id": "238391d2-3da9-470e-b4f0-85aec484ffe4",
   "metadata": {},
   "outputs": [
    {
     "name": "stdout",
     "output_type": "stream",
     "text": [
      "1153\n"
     ]
    }
   ],
   "source": [
    "sampler = BinaryTargetClassBatchSampler(train_ds, 1, 0.33, 32)"
   ]
  },
  {
   "cell_type": "markdown",
   "id": "d44325c4-575c-444b-b6ce-1b3a5b98ea16",
   "metadata": {},
   "source": [
    "The sampler is working as intended. We can set this threshold as a parameter for our data and see how it affects performance.\n",
    "One thing worthy of note, even with we set it to 0.33, which is less than the proportion of data that does contain some WMH, we still get a bimodal distribution with those indices being more likely, which of course makes sense because they are still more likely to be pixed.\n",
    "When we set the threshold very high, near 1, there are some examples that will never get picked which is not necessearily what we want. When we compute over the whole training time (250*1000) we see that everything gets sampled and the min max range is good, there aren't examples that\n",
    "never get selected for. We can compare training with this to training with just a normal batch shuffler in 2D.\n",
    "I have not thought about the 3D implementation. Nice."
   ]
  },
  {
   "cell_type": "code",
   "execution_count": 148,
   "id": "baa9baf1-b4d3-4789-8703-b7d6bce11ebf",
   "metadata": {},
   "outputs": [
    {
     "name": "stdout",
     "output_type": "stream",
     "text": [
      "2171\n"
     ]
    }
   ],
   "source": [
    "print(len(train_ds))"
   ]
  },
  {
   "cell_type": "code",
   "execution_count": 149,
   "id": "76b880f4-97ab-47c9-9aae-30127715fd19",
   "metadata": {},
   "outputs": [],
   "source": [
    "count = 0\n",
    "used = [0 for _ in range(len(train_ds))]\n",
    "for indices in sampler:\n",
    "    count += 1\n",
    "    for idx in indices:\n",
    "        used[idx] += 1\n",
    "    if count == 250 * 10:#* 1000: # len(train_ds) // 32:\n",
    "        break"
   ]
  },
  {
   "cell_type": "code",
   "execution_count": 150,
   "id": "261c851d-1179-40cc-a1b0-12a987d47d4c",
   "metadata": {},
   "outputs": [
    {
     "data": {
      "text/plain": [
       "(70, 10)"
      ]
     },
     "execution_count": 150,
     "metadata": {},
     "output_type": "execute_result"
    }
   ],
   "source": [
    "max(used), min(used)"
   ]
  },
  {
   "cell_type": "code",
   "execution_count": 151,
   "id": "424843de-c709-4276-bd24-64630ca5aff8",
   "metadata": {},
   "outputs": [
    {
     "data": {
      "text/plain": [
       "<BarContainer object of 71 artists>"
      ]
     },
     "execution_count": 151,
     "metadata": {},
     "output_type": "execute_result"
    },
    {
     "data": {
      "image/png": "[encoded data removed]",
      "text/plain": [
       "<Figure size 640x480 with 1 Axes>"
      ]
     },
     "metadata": {},
     "output_type": "display_data"
    }
   ],
   "source": [
    "x = np.arange(0, max(used) + 1, 1)\n",
    "used = torch.Tensor(used)\n",
    "height = [(used == u).sum() for u in x]\n",
    "plt.bar(x, height)"
   ]
  },
  {
   "cell_type": "code",
   "execution_count": 92,
   "id": "60663d02-d8e8-420c-ab32-2bc2a78c84f8",
   "metadata": {},
   "outputs": [
    {
     "data": {
      "text/plain": [
       "[tensor(849),\n",
       " tensor(761),\n",
       " tensor(386),\n",
       " tensor(112),\n",
       " tensor(46),\n",
       " tensor(13),\n",
       " tensor(2),\n",
       " tensor(2)]"
      ]
     },
     "execution_count": 92,
     "metadata": {},
     "output_type": "execute_result"
    }
   ],
   "source": [
    "height"
   ]
  },
  {
   "cell_type": "code",
   "execution_count": 93,
   "id": "c40618b7-46da-43e3-bb80-9d33f07d8728",
   "metadata": {},
   "outputs": [
    {
     "data": {
      "text/plain": [
       "820"
      ]
     },
     "execution_count": 93,
     "metadata": {},
     "output_type": "execute_result"
    }
   ],
   "source": [
    "386 + 112 * 2 + 46 * 3 + 13 * 4 + 2 * 5 + 2 * 5"
   ]
  },
  {
   "cell_type": "code",
   "execution_count": 95,
   "id": "d656cd28-7dc3-4b5d-843a-8a01c0e1c5e1",
   "metadata": {},
   "outputs": [
    {
     "data": {
      "text/plain": [
       "67.84375"
      ]
     },
     "execution_count": 95,
     "metadata": {},
     "output_type": "execute_result"
    }
   ],
   "source": [
    "len(train_ds) / 32"
   ]
  },
  {
   "cell_type": "code",
   "execution_count": 97,
   "id": "a73f75fc-4244-4663-b936-2c508b5f3083",
   "metadata": {},
   "outputs": [
    {
     "data": {
      "text/plain": [
       "18.317812500000002"
      ]
     },
     "execution_count": 97,
     "metadata": {},
     "output_type": "execute_result"
    }
   ],
   "source": [
    "len(train_ds) * 0.0084375"
   ]
  },
  {
   "cell_type": "code",
   "execution_count": null,
   "id": "41bf9a08-d177-4559-8786-dfd16c9e1ae2",
   "metadata": {},
   "outputs": [],
   "source": []
  }
 ],
 "metadata": {
  "kernelspec": {
   "display_name": "Python 3 (ipykernel)",
   "language": "python",
   "name": "python3"
  },
  "language_info": {
   "codemirror_mode": {
    "name": "ipython",
    "version": 3
   },
   "file_extension": ".py",
   "mimetype": "text/x-python",
   "name": "python",
   "nbconvert_exporter": "python",
   "pygments_lexer": "ipython3",
   "version": "3.9.16"
  }
 },
 "nbformat": 4,
 "nbformat_minor": 5
}
