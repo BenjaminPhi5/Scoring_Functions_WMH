{
 "cells": [
  {
   "cell_type": "code",
   "execution_count": 16,
   "id": "c7cc574f-1164-4b85-b23c-cfa0b7012be2",
   "metadata": {
    "tags": []
   },
   "outputs": [],
   "source": [
    "%load_ext autoreload"
   ]
  },
  {
   "cell_type": "code",
   "execution_count": 57,
   "id": "93aeed09-f7f6-4a12-b79a-8859f0afca5d",
   "metadata": {
    "tags": []
   },
   "outputs": [],
   "source": [
    "import numpy as np\n",
    "import matplotlib.pyplot as plt"
   ]
  },
  {
   "cell_type": "code",
   "execution_count": 10,
   "id": "aea5d6ee-16cb-490c-baf6-4d745a584d1d",
   "metadata": {
    "tags": []
   },
   "outputs": [],
   "source": [
    "arr = np.arange(0,20,1)\n",
    "np.random.shuffle(arr)"
   ]
  },
  {
   "cell_type": "code",
   "execution_count": 11,
   "id": "5135a533-7ff6-40ad-95b8-e63ab2c31408",
   "metadata": {
    "tags": []
   },
   "outputs": [
    {
     "data": {
      "text/plain": [
       "[1, 8, 4, 13, 16, 9, 15, 6, 7, 3, 19, 18, 12, 5, 17, 10, 0, 2, 14, 11]"
      ]
     },
     "execution_count": 11,
     "metadata": {},
     "output_type": "execute_result"
    }
   ],
   "source": [
    "list(arr)"
   ]
  },
  {
   "cell_type": "code",
   "execution_count": 14,
   "id": "fcea943c-b1fb-42e2-be18-7fd3aebe4f7c",
   "metadata": {
    "tags": []
   },
   "outputs": [
    {
     "data": {
      "text/plain": [
       "array([13, 16,  9, 15,  6,  7,  3, 19, 18, 12,  5, 17, 10,  0,  2, 14, 11])"
      ]
     },
     "execution_count": 14,
     "metadata": {},
     "output_type": "execute_result"
    }
   ],
   "source": [
    "np.delete(arr, [0,1,2])"
   ]
  },
  {
   "cell_type": "code",
   "execution_count": 50,
   "id": "97dd5f85-8a4b-491d-ab42-48362ec5cbf6",
   "metadata": {
    "tags": []
   },
   "outputs": [],
   "source": [
    "%autoreload\n",
    "from ulw_data.torch_dataset.splits import k_fold_challenge_splitter"
   ]
  },
  {
   "cell_type": "code",
   "execution_count": 51,
   "id": "7fd40c23-0296-4329-a071-e69ab0aaa898",
   "metadata": {
    "tags": []
   },
   "outputs": [
    {
     "name": "stdout",
     "output_type": "stream",
     "text": [
      "[array([18,  0,  8]), array([15,  4, 10]), array([10,  0,  2, 14])]\n",
      "--\n",
      "--\n",
      "[array([ 3, 11, 17, 14,  7,  6, 19,  2, 12, 16,  5, 10,  9,  1, 15, 13,  4]), array([ 0, 14,  7,  9,  8, 16,  6, 13,  5, 11,  2, 18, 17, 19,  3,  1, 12]), array([ 1,  8,  4, 13, 16,  9, 15,  6,  7,  3, 19, 18, 12,  5, 17, 11])]\n"
     ]
    }
   ],
   "source": [
    "k_fold_challenge_splitter(None, K='6-unequal', split=5)"
   ]
  },
  {
   "cell_type": "code",
   "execution_count": 23,
   "id": "63468fc2-63dc-4d2a-80f4-47e622c406c8",
   "metadata": {
    "tags": []
   },
   "outputs": [],
   "source": [
    "random_sample_0 = np.array([3, 11, 17, 14, 7, 6, 19, 2, 12, 16, 5, 10, 9, 1, 15, 18, 0, 8, 13, 4])\n",
    "random_sample_1 = np.array([0, 14, 7, 9, 8, 16, 6, 13, 5, 11, 2, 18, 17, 19, 3, 15, 4, 10, 1, 12])\n",
    "random_sample_2 = np.array([1, 8, 4, 13, 16, 9, 15, 6, 7, 3, 19, 18, 12, 5, 17, 10, 0, 2, 14, 11])\n",
    "\n",
    "dataset_indices = [random_sample_0, random_sample_1,random_sample_2]"
   ]
  },
  {
   "cell_type": "code",
   "execution_count": 26,
   "id": "2c18f430-6235-4f55-9450-79c7e3164c36",
   "metadata": {
    "tags": []
   },
   "outputs": [
    {
     "data": {
      "text/plain": [
       "array([11, 17, 14])"
      ]
     },
     "execution_count": 26,
     "metadata": {},
     "output_type": "execute_result"
    }
   ],
   "source": [
    "dataset_indices[0][[1,2,3]]"
   ]
  },
  {
   "cell_type": "code",
   "execution_count": 68,
   "id": "b823a9dc-c293-4a4b-8a1e-e7e9fe3dc6c3",
   "metadata": {
    "tags": []
   },
   "outputs": [],
   "source": [
    "%autoreload\n",
    "from ulw_data.torch_dataset.challenge_data_pipeline import train_data_pipeline"
   ]
  },
  {
   "cell_type": "code",
   "execution_count": 72,
   "id": "0d84e97e-5a9a-4fa1-9f72-78e43bd06472",
   "metadata": {
    "tags": []
   },
   "outputs": [
    {
     "name": "stdout",
     "output_type": "stream",
     "text": [
      "[array([ 7,  6, 19,  2]), array([ 8, 16,  6, 13]), array([16,  9, 15,  6])]\n",
      "--\n",
      "--\n",
      "[array([ 3, 11, 17, 14, 12, 16,  5, 10,  9,  1, 15, 18,  0,  8, 13,  4]), array([ 0, 14,  7,  9,  5, 11,  2, 18, 17, 19,  3, 15,  4, 10,  1, 12]), array([ 1,  8,  4, 13,  7,  3, 19, 18, 12,  5, 17, 10,  0,  2, 14, 11])]\n"
     ]
    }
   ],
   "source": [
    "train_ds, val_ds = train_data_pipeline(\n",
    "    ds_path=\"/media/benp/NVMEspare/datasets/full_WMH_Chal_dataset/preprocessed/collated/\",\n",
    "    val_proportion=None,\n",
    "    seed=5,\n",
    "    transforms=None,\n",
    "    dims=2,\n",
    "    remove_mask_channel=False,\n",
    "    put_mask_in_label=False,\n",
    "    cv_fold=1,\n",
    "    cv_splits='5',\n",
    ")\n"
   ]
  },
  {
   "cell_type": "code",
   "execution_count": 73,
   "id": "b36d54c9-0e2b-4108-b1e2-fe6551a23765",
   "metadata": {
    "tags": []
   },
   "outputs": [
    {
     "data": {
      "text/plain": [
       "(2044, 501)"
      ]
     },
     "execution_count": 73,
     "metadata": {},
     "output_type": "execute_result"
    }
   ],
   "source": [
    "len(train_ds), len(val_ds)"
   ]
  },
  {
   "cell_type": "code",
   "execution_count": 71,
   "id": "ab3238fb-07d0-4fec-89c7-252e6291c3cf",
   "metadata": {
    "tags": []
   },
   "outputs": [
    {
     "data": {
      "text/plain": [
       "<matplotlib.image.AxesImage at 0x7f48e1589450>"
      ]
     },
     "execution_count": 71,
     "metadata": {},
     "output_type": "execute_result"
    },
    {
     "data": {
      "image/png": "[encoded data removed]",
      "text/plain": [
       "<Figure size 640x480 with 4 Axes>"
      ]
     },
     "metadata": {},
     "output_type": "display_data"
    }
   ],
   "source": [
    "plt.subplot(1,4,1)\n",
    "plt.imshow(train_ds[0]['image'][0])\n",
    "plt.subplot(1,4,2)\n",
    "plt.imshow(train_ds[-1]['image'][0])\n",
    "plt.subplot(1,4,3)\n",
    "plt.imshow(val_ds[0]['image'][0])\n",
    "plt.subplot(1,4,4)\n",
    "plt.imshow(val_ds[-1]['image'][0])"
   ]
  },
  {
   "cell_type": "code",
   "execution_count": null,
   "id": "c45617e5-4e6a-4225-b5ff-3e04426ec7f9",
   "metadata": {},
   "outputs": [],
   "source": []
  }
 ],
 "metadata": {
  "kernelspec": {
   "display_name": "Python 3 (ipykernel)",
   "language": "python",
   "name": "python3"
  },
  "language_info": {
   "codemirror_mode": {
    "name": "ipython",
    "version": 3
   },
   "file_extension": ".py",
   "mimetype": "text/x-python",
   "name": "python",
   "nbconvert_exporter": "python",
   "pygments_lexer": "ipython3",
   "version": "3.10.11"
  }
 },
 "nbformat": 4,
 "nbformat_minor": 5
}
