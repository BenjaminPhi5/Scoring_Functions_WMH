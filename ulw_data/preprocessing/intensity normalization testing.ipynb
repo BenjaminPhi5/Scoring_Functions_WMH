{
 "cells": [
  {
   "cell_type": "code",
   "execution_count": 25,
   "id": "4a064ce8-c1f1-4cfc-8fc7-878fad8247a5",
   "metadata": {
    "tags": []
   },
   "outputs": [],
   "source": [
    "import torch\n",
    "import matplotlib.pyplot as plt\n",
    "import seaborn as sns\n",
    "import numpy as np"
   ]
  },
  {
   "cell_type": "code",
   "execution_count": 2,
   "id": "2fd4f443-b1ca-4802-bbe1-4821277783f0",
   "metadata": {
    "tags": []
   },
   "outputs": [],
   "source": [
    "x = torch.randn(1, 1, 192, 224).view(-1)"
   ]
  },
  {
   "cell_type": "code",
   "execution_count": 3,
   "id": "c44e3f5a-4ea1-411c-90f2-16bd89f0ac13",
   "metadata": {
    "tags": []
   },
   "outputs": [],
   "source": [
    "sorted_indices = torch.sort(x)[1]"
   ]
  },
  {
   "cell_type": "code",
   "execution_count": 20,
   "id": "bf1d4526-fe59-4cd7-a3bf-40de512cceab",
   "metadata": {
    "tags": []
   },
   "outputs": [],
   "source": [
    "lower_percentile = 0.1\n",
    "upper_percentile = 0.9\n",
    "num_brain_voxels = len(sorted_indices)\n",
    "\n",
    "lower_index = int(lower_percentile*num_brain_voxels)\n",
    "upper_index = int(upper_percentile*num_brain_voxels)\n",
    "\n",
    "retained_indices = sorted_indices[lower_index:upper_index]"
   ]
  },
  {
   "cell_type": "code",
   "execution_count": 21,
   "id": "bafd2e8e-287f-4a34-b0a6-71e6f60b5072",
   "metadata": {
    "tags": []
   },
   "outputs": [],
   "source": [
    "retained_voxels = x[retained_indices]"
   ]
  },
  {
   "cell_type": "code",
   "execution_count": 22,
   "id": "6eb6efc9-484d-4ef7-a136-9a5365e9d269",
   "metadata": {
    "tags": []
   },
   "outputs": [
    {
     "data": {
      "image/png": "[encoded data removed]",
      "text/plain": [
       "<Figure size 640x480 with 1 Axes>"
      ]
     },
     "metadata": {},
     "output_type": "display_data"
    }
   ],
   "source": [
    "sns.histplot(x, binwidth=0.1, binrange=(-4,4));"
   ]
  },
  {
   "cell_type": "code",
   "execution_count": 23,
   "id": "c098008e-5699-46ec-bb7d-80751a8b61fd",
   "metadata": {
    "tags": []
   },
   "outputs": [
    {
     "data": {
      "image/png": "[encoded data removed]",
      "text/plain": [
       "<Figure size 640x480 with 1 Axes>"
      ]
     },
     "metadata": {},
     "output_type": "display_data"
    }
   ],
   "source": [
    "sns.histplot(retained_voxels, bins=100, binwidth=0.1, binrange=(-4,4));"
   ]
  },
  {
   "cell_type": "code",
   "execution_count": 27,
   "id": "c682a322-92f5-460d-8a26-eeb2aae0fa07",
   "metadata": {
    "tags": []
   },
   "outputs": [
    {
     "data": {
      "text/plain": [
       "array([ 1.7095304 , -0.36749882,  0.03413193, ..., -0.2837109 ,\n",
       "        0.2637891 , -0.3477618 ], dtype=float32)"
      ]
     },
     "execution_count": 27,
     "metadata": {},
     "output_type": "execute_result"
    }
   ],
   "source": [
    "y = torch.randn(1, 1, 192, 224)\n",
    "np.array(y).flatten()"
   ]
  },
  {
   "cell_type": "code",
   "execution_count": 28,
   "id": "6f9d4f45-8921-4312-a83b-0dc4334782ea",
   "metadata": {
    "tags": []
   },
   "outputs": [
    {
     "data": {
      "text/plain": [
       "array([[[[-2.431201 , -2.3032362, -2.2111382, ...,  2.040181 ,\n",
       "           2.1294339,  3.3826501],\n",
       "         [-2.392254 , -2.327312 , -2.2324433, ...,  2.5618064,\n",
       "           2.5643883,  2.8536284],\n",
       "         [-2.9448483, -2.301018 , -2.2091208, ...,  2.055378 ,\n",
       "           2.063945 ,  2.16274  ],\n",
       "         ...,\n",
       "         [-2.2371404, -2.1201797, -2.0412817, ...,  2.058506 ,\n",
       "           2.152604 ,  2.5187771],\n",
       "         [-2.5889597, -2.1598094, -2.0384164, ...,  2.527388 ,\n",
       "           2.8343701,  2.983317 ],\n",
       "         [-3.0966444, -2.598063 , -2.0989535, ...,  2.10443  ,\n",
       "           2.5386915,  2.94973  ]]]], dtype=float32)"
      ]
     },
     "execution_count": 28,
     "metadata": {},
     "output_type": "execute_result"
    }
   ],
   "source": [
    "np.sort(y)"
   ]
  },
  {
   "cell_type": "code",
   "execution_count": 29,
   "id": "f1d9f3c2-5e5c-4866-8894-0658eddeee56",
   "metadata": {
    "tags": []
   },
   "outputs": [
    {
     "data": {
      "text/plain": [
       "tensor([[[[101,  24, 222,  ...,  88, 221,  20],\n",
       "          [151, 180, 206,  ..., 208,  76,  92],\n",
       "          [ 45,  70,   3,  ..., 107,   2,  79],\n",
       "          ...,\n",
       "          [216,  39, 184,  ...,  46, 111,  16],\n",
       "          [222,  84, 134,  ..., 219,  64, 115],\n",
       "          [145, 173, 106,  ..., 139, 199,  92]]]])"
      ]
     },
     "execution_count": 29,
     "metadata": {},
     "output_type": "execute_result"
    }
   ],
   "source": [
    "np.argsort(y)"
   ]
  },
  {
   "cell_type": "code",
   "execution_count": 30,
   "id": "8e971563-40bf-402b-853f-172892abfeba",
   "metadata": {
    "tags": []
   },
   "outputs": [],
   "source": [
    "from ulw_data.preprocessing.normalize_brain import normalize_brain"
   ]
  },
  {
   "cell_type": "code",
   "execution_count": 150,
   "id": "5637502f-8f14-49d8-bc10-a5787b31b8fd",
   "metadata": {
    "tags": []
   },
   "outputs": [],
   "source": [
    "def normalize_brain2(image, mask, lower_percentile=0, upper_percentile=100):\n",
    "    image = image.copy()\n",
    "    brain_locs = image[mask]\n",
    "    \n",
    "    if lower_percentile > 0 or upper_percentile < 100:\n",
    "        brain_locs = brain_locs.flatten()\n",
    "        sorted_indices = np.argsort(brain_locs)\n",
    "        num_brain_voxels = len(sorted_indices)\n",
    "        #print(num_brain_voxels)\n",
    "\n",
    "        lower_index = int(lower_percentile*num_brain_voxels)\n",
    "        upper_index = int(upper_percentile*num_brain_voxels)\n",
    "\n",
    "        retained_indices = sorted_indices[lower_index:upper_index]\n",
    "        #print(len(retained_indices)/num_brain_voxels)\n",
    "        \n",
    "        brain_locs = brain_locs[lower_index:upper_index]\n",
    "\n",
    "    mean = np.mean(brain_locs)\n",
    "    std = np.std(brain_locs)\n",
    "    \n",
    "    print(mean, std)\n",
    "\n",
    "    image[mask] = (image[mask] - mean) / std\n",
    "\n",
    "    return image"
   ]
  },
  {
   "cell_type": "code",
   "execution_count": 151,
   "id": "8ad29b61-a25c-4614-8280-c35256acbbd0",
   "metadata": {
    "tags": []
   },
   "outputs": [],
   "source": [
    "x = np.random.randn(224, 160)\n",
    "mask = np.ones((224, 160), dtype=bool)"
   ]
  },
  {
   "cell_type": "code",
   "execution_count": 152,
   "id": "15f6aec9-1fda-4095-b754-3a14f24136ec",
   "metadata": {
    "tags": []
   },
   "outputs": [
    {
     "data": {
      "text/plain": [
       "-0.0007902402325987637"
      ]
     },
     "execution_count": 152,
     "metadata": {},
     "output_type": "execute_result"
    }
   ],
   "source": [
    "np.mean(x[mask])"
   ]
  },
  {
   "cell_type": "code",
   "execution_count": 154,
   "id": "87edc5f3-b27e-43c3-b7d7-68da94b4579b",
   "metadata": {
    "tags": []
   },
   "outputs": [
    {
     "name": "stdout",
     "output_type": "stream",
     "text": [
      "-0.0007902402325987637 1.0071872139971147\n",
      "35840\n",
      "0.8\n",
      "-0.003914626344839348 1.007618646327144\n"
     ]
    }
   ],
   "source": [
    "standard = normalize_brain2(x, mask, 0, 100)\n",
    "clipped = normalize_brain2(x, mask, 0.1, 0.9)"
   ]
  },
  {
   "cell_type": "code",
   "execution_count": 49,
   "id": "2f2a1376-bc2e-4de0-875c-57225773b245",
   "metadata": {
    "tags": []
   },
   "outputs": [
    {
     "data": {
      "text/plain": [
       "(35840,)"
      ]
     },
     "execution_count": 49,
     "metadata": {},
     "output_type": "execute_result"
    }
   ],
   "source": [
    "standard.flatten().shape"
   ]
  },
  {
   "cell_type": "code",
   "execution_count": 51,
   "id": "30b3d484-51a4-4f4a-a298-ec6a70125d5e",
   "metadata": {
    "tags": []
   },
   "outputs": [
    {
     "data": {
      "text/plain": [
       "<Axes: ylabel='Count'>"
      ]
     },
     "execution_count": 51,
     "metadata": {},
     "output_type": "execute_result"
    },
    {
     "data": {
      "image/png": "[encoded data removed]",
      "text/plain": [
       "<Figure size 640x480 with 1 Axes>"
      ]
     },
     "metadata": {},
     "output_type": "display_data"
    }
   ],
   "source": [
    "sns.histplot(standard.flatten(), binwidth=0.01, binrange=(-4,4))"
   ]
  },
  {
   "cell_type": "code",
   "execution_count": 50,
   "id": "f8304d3e-603f-4bcb-8b9e-4a94713fa8c6",
   "metadata": {
    "tags": []
   },
   "outputs": [
    {
     "data": {
      "text/plain": [
       "<Axes: ylabel='Count'>"
      ]
     },
     "execution_count": 50,
     "metadata": {},
     "output_type": "execute_result"
    },
    {
     "data": {
      "image/png": "[encoded data removed]",
      "text/plain": [
       "<Figure size 640x480 with 1 Axes>"
      ]
     },
     "metadata": {},
     "output_type": "display_data"
    }
   ],
   "source": [
    "sns.histplot(clipped.flatten(), binwidth=0.01, binrange=(-4,4))"
   ]
  },
  {
   "cell_type": "code",
   "execution_count": null,
   "id": "29be70d2-a6ad-48f4-b076-a21f6eaacb51",
   "metadata": {},
   "outputs": [],
   "source": []
  }
 ],
 "metadata": {
  "kernelspec": {
   "display_name": "Python 3 (ipykernel)",
   "language": "python",
   "name": "python3"
  },
  "language_info": {
   "codemirror_mode": {
    "name": "ipython",
    "version": 3
   },
   "file_extension": ".py",
   "mimetype": "text/x-python",
   "name": "python",
   "nbconvert_exporter": "python",
   "pygments_lexer": "ipython3",
   "version": "3.10.11"
  }
 },
 "nbformat": 4,
 "nbformat_minor": 5
}
